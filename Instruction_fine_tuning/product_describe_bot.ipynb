{
  "nbformat": 4,
  "nbformat_minor": 0,
  "metadata": {
    "colab": {
      "provenance": [],
      "machine_shape": "hm"
    },
    "kernelspec": {
      "name": "python3",
      "display_name": "Python 3"
    },
    "language_info": {
      "name": "python"
    }
  },
  "cells": [
    {
      "cell_type": "code",
      "source": [
        "\n",
        "import os\n",
        "\n",
        "# (optional) update gcloud if needed\n",
        "if os.getenv(\"IS_TESTING\"):\n",
        "    ! gcloud components update --quiet\n",
        "\n",
        "! pip3 install --upgrade --quiet google-cloud-aiplatform\n",
        "\n"
      ],
      "metadata": {
        "id": "PQpVbWIHfLGi",
        "colab": {
          "base_uri": "https://localhost:8080/"
        },
        "outputId": "947aaada-7c26-45ae-e43b-5f9c0730a584"
      },
      "execution_count": 5,
      "outputs": [
        {
          "output_type": "stream",
          "name": "stdout",
          "text": [
            "\u001b[?25l   \u001b[90m━━━━━━━━━━━━━━━━━━━━━━━━━━━━━━━━━━━━━━━━\u001b[0m \u001b[32m0.0/6.2 MB\u001b[0m \u001b[31m?\u001b[0m eta \u001b[36m-:--:--\u001b[0m\r\u001b[2K   \u001b[91m━━━━━━━━━━━━━━━━━━━━━━━━━━━━\u001b[0m\u001b[90m╺\u001b[0m\u001b[90m━━━━━━━━━━━\u001b[0m \u001b[32m4.3/6.2 MB\u001b[0m \u001b[31m130.6 MB/s\u001b[0m eta \u001b[36m0:00:01\u001b[0m\r\u001b[2K   \u001b[91m━━━━━━━━━━━━━━━━━━━━━━━━━━━━━━━━━━━━━━━\u001b[0m\u001b[91m╸\u001b[0m \u001b[32m6.2/6.2 MB\u001b[0m \u001b[31m137.9 MB/s\u001b[0m eta \u001b[36m0:00:01\u001b[0m\r\u001b[2K   \u001b[90m━━━━━━━━━━━━━━━━━━━━━━━━━━━━━━━━━━━━━━━━\u001b[0m \u001b[32m6.2/6.2 MB\u001b[0m \u001b[31m76.4 MB/s\u001b[0m eta \u001b[36m0:00:00\u001b[0m\n",
            "\u001b[?25h"
          ]
        }
      ]
    },
    {
      "cell_type": "code",
      "source": [
        "import gc"
      ],
      "metadata": {
        "id": "P2sihhfTaU1A"
      },
      "execution_count": 6,
      "outputs": []
    },
    {
      "cell_type": "code",
      "source": [
        "import sys\n",
        "\n",
        "if \"google.colab\" in sys.modules:\n",
        "\n",
        "    import IPython\n",
        "\n",
        "    app = IPython.Application.instance()\n",
        "    app.kernel.do_shutdown(True)"
      ],
      "metadata": {
        "id": "4oT1xQPFfLJw"
      },
      "execution_count": 3,
      "outputs": []
    },
    {
      "cell_type": "code",
      "source": [
        "#Implementing this would ask permission to allow Google account to be associated with this notebook and some other permission to steal data from you :)\n",
        "\n",
        "import sys\n",
        "\n",
        "if \"google.colab\" in sys.modules:\n",
        "\n",
        "    from google.colab import auth\n",
        "\n",
        "    auth.authenticate_user()"
      ],
      "metadata": {
        "id": "kWfSinQZfLMj"
      },
      "execution_count": 1,
      "outputs": []
    },
    {
      "cell_type": "code",
      "source": [
        "PROJECT_ID = \"bot-retail2\"  # @param {type:\"string\"}\n",
        "LOCATION = \"us-west1\"  # @param {type: \"string\"}"
      ],
      "metadata": {
        "id": "pn7K1ua0fLP-"
      },
      "execution_count": 1,
      "outputs": []
    },
    {
      "cell_type": "code",
      "source": [
        "\n",
        "# BUCKET_URI = \"gs://retail-bot-senti-{PROJECT_ID}\"\n",
        "BUCKET_URI = f\"gs://senti-{PROJECT_ID}-unique\"\n"
      ],
      "metadata": {
        "id": "LjcFGObHfLTQ"
      },
      "execution_count": 2,
      "outputs": []
    },
    {
      "cell_type": "code",
      "source": [
        "! gsutil mb -l {LOCATION} -p {PROJECT_ID} {BUCKET_URI}"
      ],
      "metadata": {
        "id": "rzTnFdaGfLWz",
        "colab": {
          "base_uri": "https://localhost:8080/"
        },
        "outputId": "1b530ad6-b444-46be-e8e8-02add9f896bf"
      },
      "execution_count": 4,
      "outputs": [
        {
          "output_type": "stream",
          "name": "stdout",
          "text": [
            "Creating gs://senti-bot-retail2-unique/...\n"
          ]
        }
      ]
    },
    {
      "cell_type": "code",
      "source": [
        "BUCKET_URI"
      ],
      "metadata": {
        "colab": {
          "base_uri": "https://localhost:8080/",
          "height": 35
        },
        "id": "wWz8-l6Q699Z",
        "outputId": "3f070b8e-fbc6-4d34-b879-5a4a859fcc01"
      },
      "execution_count": 4,
      "outputs": [
        {
          "output_type": "execute_result",
          "data": {
            "text/plain": [
              "'gs://senti-bot-retail2-unique'"
            ],
            "application/vnd.google.colaboratory.intrinsic+json": {
              "type": "string"
            }
          },
          "metadata": {},
          "execution_count": 4
        }
      ]
    },
    {
      "cell_type": "code",
      "source": [
        "#To associate with your specific service account\n",
        "\n",
        "import os\n",
        "STAGING_BUCKET = os.path.join(BUCKET_URI, \"temporal\")\n",
        "\n",
        "# The service account looks like:\n",
        "# '@.iam.gserviceaccount.com'\n",
        "# Please go to https://cloud.google.com/iam/docs/service-accounts-create#iam-service-accounts-create-console\n",
        "# and create service account with `Vertex AI User` and `Storage Object Admin` roles.\n",
        "# The service account for deploying fine tuned model.\n",
        "SERVICE_ACCOUNT = \"149073596729-compute@developer.gserviceaccount.com\"  # @param {type:\"string\"}\n"
      ],
      "metadata": {
        "id": "nJgdt33wfWVr"
      },
      "execution_count": 3,
      "outputs": []
    },
    {
      "cell_type": "code",
      "source": [
        "\n",
        "import os\n",
        "from datetime import datetime, timedelta\n",
        "\n",
        "from google.cloud import aiplatform\n",
        "\n",
        "aiplatform.init(project=PROJECT_ID, location=LOCATION, staging_bucket=STAGING_BUCKET)\n"
      ],
      "metadata": {
        "id": "Fq1PrK1DfWYr"
      },
      "execution_count": 4,
      "outputs": []
    },
    {
      "cell_type": "code",
      "source": [
        "\n",
        "VERTEX_AI_MODEL_GARDEN_LLAMA3 = \"gs://vertex-model-garden-public-us/llama3\"  # This will be shared once click the agreement of LLaMA2 in Vertex AI Model Garden.\n",
        "VERTEX_MODEL_ID = \"llama3-8b-hf\"\n",
        "HF_MODEL_ID = \"meta-llama/Llama-3-8b-hf\"\n",
        "\n"
      ],
      "metadata": {
        "id": "RhQQFLa_fWbs"
      },
      "execution_count": 9,
      "outputs": []
    },
    {
      "cell_type": "code",
      "source": [
        "\n",
        "assert (\n",
        "    VERTEX_AI_MODEL_GARDEN_LLAMA3\n",
        "), \"Please click the agreement of Llama 3 in Vertex AI Model Garden, and get the GCS path of Llama 3 model artifacts.\"\n",
        "print(\n",
        "    \"Copy Llama 3 model artifacts from\",\n",
        "    VERTEX_AI_MODEL_GARDEN_LLAMA3,\n",
        "    \"to \",\n",
        "    f\"{BUCKET_URI}\",\n",
        ")\n",
        "\n",
        "# Copy model files to your bucket\n",
        "# ! gcloud storage cp -R VERTEX_AI_MODEL_GARDEN_LLAMA3/VERTEX_MODEL_ID/* {BUCKET_URI}/{HF_MODEL_ID}/"
      ],
      "metadata": {
        "id": "Uce6kyklfWem",
        "colab": {
          "base_uri": "https://localhost:8080/"
        },
        "outputId": "ae79c8dd-9b7c-45f2-e701-936f7dfe3c2c"
      },
      "execution_count": 11,
      "outputs": [
        {
          "output_type": "stream",
          "name": "stdout",
          "text": [
            "Copy Llama 3 model artifacts from gs://vertex-model-garden-public-us/llama3 to  gs://senti-bot-retail2-unique\n"
          ]
        }
      ]
    },
    {
      "cell_type": "code",
      "source": [
        "!gsutil -m cp -R gs://vertex-model-garden-public-us/llama3 {BUCKET_URI}/{HF_MODEL_ID}/"
      ],
      "metadata": {
        "colab": {
          "base_uri": "https://localhost:8080/"
        },
        "id": "44UgpLPfjUsN",
        "outputId": "23ee6307-7e5e-49d4-fe90-27968323ebb3"
      },
      "execution_count": 12,
      "outputs": [
        {
          "output_type": "stream",
          "name": "stdout",
          "text": [
            "Copying gs://vertex-model-garden-public-us/llama3/Meta-Llama-Guard-2-8B/LICENSE [Content-Type=application/octet-stream]...\n",
            "/ [0/117 files][    0.0 B/307.8 GiB]   0% Done                                  \rCopying gs://vertex-model-garden-public-us/llama3/Meta-Llama-Guard-2-8B/README.md [Content-Type=text/markdown]...\n",
            "/ [0/117 files][    0.0 B/307.8 GiB]   0% Done                                  \rCopying gs://vertex-model-garden-public-us/llama3/Meta-Llama-Guard-2-8B/USE_POLICY.md [Content-Type=text/markdown]...\n",
            "/ [0/117 files][    0.0 B/307.8 GiB]   0% Done                                  \rCopying gs://vertex-model-garden-public-us/llama3/Meta-Llama-Guard-2-8B/config.json [Content-Type=application/json]...\n",
            "/ [0/117 files][    0.0 B/307.8 GiB]   0% Done                                  \rCopying gs://vertex-model-garden-public-us/llama3/Meta-Llama-Guard-2-8B/generation_config.json [Content-Type=application/json]...\n",
            "/ [0/117 files][    0.0 B/307.8 GiB]   0% Done                                  \rCopying gs://vertex-model-garden-public-us/llama3/Meta-Llama-Guard-2-8B/model-00001-of-00004.safetensors [Content-Type=application/octet-stream]...\n",
            "/ [0/117 files][    0.0 B/307.8 GiB]   0% Done                                  \rCopying gs://vertex-model-garden-public-us/llama3/Meta-Llama-Guard-2-8B/model-00002-of-00004.safetensors [Content-Type=application/octet-stream]...\n",
            "/ [0/117 files][    0.0 B/307.8 GiB]   0% Done                                  \rCopying gs://vertex-model-garden-public-us/llama3/Meta-Llama-Guard-2-8B/model-00003-of-00004.safetensors [Content-Type=application/octet-stream]...\n",
            "/ [0/117 files][    0.0 B/307.8 GiB]   0% Done                                  \rCopying gs://vertex-model-garden-public-us/llama3/Meta-Llama-Guard-2-8B/model-00004-of-00004.safetensors [Content-Type=application/octet-stream]...\n",
            "/ [0/117 files][    0.0 B/307.8 GiB]   0% Done                                  \rCopying gs://vertex-model-garden-public-us/llama3/Meta-Llama-Guard-2-8B/model.safetensors.index.json [Content-Type=application/json]...\n",
            "/ [0/117 files][    0.0 B/307.8 GiB]   0% Done                                  \rCopying gs://vertex-model-garden-public-us/llama3/Meta-Llama-Guard-2-8B/special_tokens_map.json [Content-Type=application/json]...\n",
            "/ [0/117 files][    0.0 B/307.8 GiB]   0% Done                                  \rCopying gs://vertex-model-garden-public-us/llama3/Meta-Llama-Guard-2-8B/tokenizer.json [Content-Type=application/json]...\n",
            "/ [0/117 files][    0.0 B/307.8 GiB]   0% Done                                  \rCopying gs://vertex-model-garden-public-us/llama3/Meta-Llama-Guard-2-8B/tokenizer_config.json [Content-Type=application/json]...\n",
            "/ [0/117 files][    0.0 B/307.8 GiB]   0% Done                                  \rCopying gs://vertex-model-garden-public-us/llama3/llama3-70b-chat-hf/README.md [Content-Type=application/octet-stream]...\n",
            "/ [0/117 files][    0.0 B/307.8 GiB]   0% Done                                  \rCopying gs://vertex-model-garden-public-us/llama3/llama3-70b-chat-hf/LICENSE [Content-Type=application/octet-stream]...\n",
            "/ [0/117 files][    0.0 B/307.8 GiB]   0% Done                                  \rCopying gs://vertex-model-garden-public-us/llama3/llama3-70b-chat-hf/USE_POLICY.md [Content-Type=text/markdown]...\n",
            "/ [0/117 files][    0.0 B/307.8 GiB]   0% Done                                  \rCopying gs://vertex-model-garden-public-us/llama3/llama3-70b-chat-hf/config.json [Content-Type=application/json]...\n",
            "/ [0/117 files][    0.0 B/307.8 GiB]   0% Done                                  \rCopying gs://vertex-model-garden-public-us/llama3/llama3-70b-chat-hf/generation_config.json [Content-Type=application/json]...\n",
            "/ [0/117 files][    0.0 B/307.8 GiB]   0% Done                                  \rCopying gs://vertex-model-garden-public-us/llama3/llama3-70b-chat-hf/model-00001-of-00030.safetensors [Content-Type=application/octet-stream]...\n",
            "/ [0/117 files][    0.0 B/307.8 GiB]   0% Done                                  \rCopying gs://vertex-model-garden-public-us/llama3/llama3-70b-chat-hf/model-00002-of-00030.safetensors [Content-Type=application/octet-stream]...\n",
            "/ [0/117 files][    0.0 B/307.8 GiB]   0% Done                                  \rCopying gs://vertex-model-garden-public-us/llama3/llama3-70b-chat-hf/model-00003-of-00030.safetensors [Content-Type=application/octet-stream]...\n",
            "/ [0/117 files][    0.0 B/307.8 GiB]   0% Done                                  \rCopying gs://vertex-model-garden-public-us/llama3/llama3-70b-chat-hf/model-00008-of-00030.safetensors [Content-Type=application/octet-stream]...\n",
            "Copying gs://vertex-model-garden-public-us/llama3/llama3-70b-chat-hf/model-00004-of-00030.safetensors [Content-Type=application/octet-stream]...\n",
            "/ [0/117 files][    0.0 B/307.8 GiB]   0% Done                                  \r/ [0/117 files][    0.0 B/307.8 GiB]   0% Done                                  \rCopying gs://vertex-model-garden-public-us/llama3/llama3-70b-chat-hf/model-00005-of-00030.safetensors [Content-Type=application/octet-stream]...\n",
            "/ [0/117 files][    0.0 B/307.8 GiB]   0% Done                                  \rCopying gs://vertex-model-garden-public-us/llama3/llama3-70b-chat-hf/model-00006-of-00030.safetensors [Content-Type=application/octet-stream]...\n",
            "/ [0/117 files][    0.0 B/307.8 GiB]   0% Done                                  \rCopying gs://vertex-model-garden-public-us/llama3/llama3-70b-chat-hf/model-00010-of-00030.safetensors [Content-Type=application/octet-stream]...\n",
            "Copying gs://vertex-model-garden-public-us/llama3/llama3-70b-chat-hf/model-00009-of-00030.safetensors [Content-Type=application/octet-stream]...\n",
            "/ [0/117 files][    0.0 B/307.8 GiB]   0% Done                                  \rCopying gs://vertex-model-garden-public-us/llama3/llama3-70b-chat-hf/model-00007-of-00030.safetensors [Content-Type=application/octet-stream]...\n",
            "/ [0/117 files][    0.0 B/307.8 GiB]   0% Done                                  \r/ [0/117 files][    0.0 B/307.8 GiB]   0% Done                                  \rCopying gs://vertex-model-garden-public-us/llama3/llama3-70b-chat-hf/model-00011-of-00030.safetensors [Content-Type=application/octet-stream]...\n",
            "/ [0/117 files][    0.0 B/307.8 GiB]   0% Done                                  \rCopying gs://vertex-model-garden-public-us/llama3/llama3-70b-chat-hf/model-00013-of-00030.safetensors [Content-Type=application/octet-stream]...\n",
            "/ [0/117 files][    0.0 B/307.8 GiB]   0% Done                                  \rCopying gs://vertex-model-garden-public-us/llama3/llama3-70b-chat-hf/model-00014-of-00030.safetensors [Content-Type=application/octet-stream]...\n",
            "/ [0/117 files][    0.0 B/307.8 GiB]   0% Done                                  \rCopying gs://vertex-model-garden-public-us/llama3/llama3-70b-chat-hf/model-00016-of-00030.safetensors [Content-Type=application/octet-stream]...\n",
            "/ [0/117 files][    0.0 B/307.8 GiB]   0% Done                                  \rCopying gs://vertex-model-garden-public-us/llama3/llama3-70b-chat-hf/model-00018-of-00030.safetensors [Content-Type=application/octet-stream]...\n",
            "Copying gs://vertex-model-garden-public-us/llama3/llama3-70b-chat-hf/model-00017-of-00030.safetensors [Content-Type=application/octet-stream]...\n",
            "/ [0/117 files][    0.0 B/307.8 GiB]   0% Done                                  \rCopying gs://vertex-model-garden-public-us/llama3/llama3-70b-chat-hf/model-00020-of-00030.safetensors [Content-Type=application/octet-stream]...\n",
            "/ [0/117 files][    0.0 B/307.8 GiB]   0% Done                                  \r/ [0/117 files][    0.0 B/307.8 GiB]   0% Done                                  \rCopying gs://vertex-model-garden-public-us/llama3/llama3-70b-chat-hf/model-00012-of-00030.safetensors [Content-Type=application/octet-stream]...\n",
            "/ [0/117 files][    0.0 B/307.8 GiB]   0% Done                                  \rCopying gs://vertex-model-garden-public-us/llama3/llama3-70b-chat-hf/model-00019-of-00030.safetensors [Content-Type=application/octet-stream]...\n",
            "/ [0/117 files][    0.0 B/307.8 GiB]   0% Done                                  \rCopying gs://vertex-model-garden-public-us/llama3/llama3-70b-chat-hf/model-00021-of-00030.safetensors [Content-Type=application/octet-stream]...\n",
            "Copying gs://vertex-model-garden-public-us/llama3/llama3-70b-chat-hf/model-00015-of-00030.safetensors [Content-Type=application/octet-stream]...\n",
            "Copying gs://vertex-model-garden-public-us/llama3/llama3-70b-chat-hf/model-00022-of-00030.safetensors [Content-Type=application/octet-stream]...\n",
            "Copying gs://vertex-model-garden-public-us/llama3/llama3-70b-chat-hf/model-00023-of-00030.safetensors [Content-Type=application/octet-stream]...\n",
            "Copying gs://vertex-model-garden-public-us/llama3/llama3-70b-chat-hf/model-00024-of-00030.safetensors [Content-Type=application/octet-stream]...\n",
            "Copying gs://vertex-model-garden-public-us/llama3/llama3-70b-chat-hf/model-00025-of-00030.safetensors [Content-Type=application/octet-stream]...\n",
            "Copying gs://vertex-model-garden-public-us/llama3/llama3-70b-chat-hf/model-00026-of-00030.safetensors [Content-Type=application/octet-stream]...\n",
            "Copying gs://vertex-model-garden-public-us/llama3/llama3-70b-chat-hf/model-00027-of-00030.safetensors [Content-Type=application/octet-stream]...\n",
            "Copying gs://vertex-model-garden-public-us/llama3/llama3-70b-chat-hf/model-00028-of-00030.safetensors [Content-Type=application/octet-stream]...\n",
            "Copying gs://vertex-model-garden-public-us/llama3/llama3-70b-chat-hf/model-00029-of-00030.safetensors [Content-Type=application/octet-stream]...\n",
            "Copying gs://vertex-model-garden-public-us/llama3/llama3-70b-chat-hf/model-00030-of-00030.safetensors [Content-Type=application/octet-stream]...\n",
            "Copying gs://vertex-model-garden-public-us/llama3/llama3-70b-chat-hf/model.safetensors.index.json [Content-Type=application/json]...\n",
            "Copying gs://vertex-model-garden-public-us/llama3/llama3-70b-chat-hf/special_tokens_map.json [Content-Type=application/json]...\n",
            "Copying gs://vertex-model-garden-public-us/llama3/llama3-70b-chat-hf/tokenizer.json [Content-Type=application/json]...\n",
            "Copying gs://vertex-model-garden-public-us/llama3/llama3-70b-chat-hf/tokenizer_config.json [Content-Type=application/json]...\n",
            "Copying gs://vertex-model-garden-public-us/llama3/llama3-70b-hf/LICENSE [Content-Type=application/octet-stream]...\n",
            "Copying gs://vertex-model-garden-public-us/llama3/llama3-70b-hf/README.md [Content-Type=application/octet-stream]...\n",
            "Copying gs://vertex-model-garden-public-us/llama3/llama3-70b-hf/USE_POLICY.md [Content-Type=text/markdown]...\n",
            "Copying gs://vertex-model-garden-public-us/llama3/llama3-70b-hf/config.json [Content-Type=application/json]...\n",
            "Copying gs://vertex-model-garden-public-us/llama3/llama3-70b-hf/generation_config.json [Content-Type=application/json]...\n",
            "Copying gs://vertex-model-garden-public-us/llama3/llama3-70b-hf/model-00001-of-00030.safetensors [Content-Type=application/octet-stream]...\n",
            "Copying gs://vertex-model-garden-public-us/llama3/llama3-70b-hf/model-00002-of-00030.safetensors [Content-Type=application/octet-stream]...\n",
            "Copying gs://vertex-model-garden-public-us/llama3/llama3-70b-hf/model-00003-of-00030.safetensors [Content-Type=application/octet-stream]...\n",
            "Copying gs://vertex-model-garden-public-us/llama3/llama3-70b-hf/model-00004-of-00030.safetensors [Content-Type=application/octet-stream]...\n",
            "Copying gs://vertex-model-garden-public-us/llama3/llama3-70b-hf/model-00005-of-00030.safetensors [Content-Type=application/octet-stream]...\n",
            "Copying gs://vertex-model-garden-public-us/llama3/llama3-70b-hf/model-00006-of-00030.safetensors [Content-Type=application/octet-stream]...\n",
            "Copying gs://vertex-model-garden-public-us/llama3/llama3-70b-hf/model-00007-of-00030.safetensors [Content-Type=application/octet-stream]...\n",
            "Copying gs://vertex-model-garden-public-us/llama3/llama3-70b-hf/model-00008-of-00030.safetensors [Content-Type=application/octet-stream]...\n",
            "Copying gs://vertex-model-garden-public-us/llama3/llama3-70b-hf/model-00009-of-00030.safetensors [Content-Type=application/octet-stream]...\n",
            "Copying gs://vertex-model-garden-public-us/llama3/llama3-70b-hf/model-00010-of-00030.safetensors [Content-Type=application/octet-stream]...\n",
            "Copying gs://vertex-model-garden-public-us/llama3/llama3-70b-hf/model-00011-of-00030.safetensors [Content-Type=application/octet-stream]...\n",
            "Copying gs://vertex-model-garden-public-us/llama3/llama3-70b-hf/model-00012-of-00030.safetensors [Content-Type=application/octet-stream]...\n",
            "Copying gs://vertex-model-garden-public-us/llama3/llama3-70b-hf/model-00013-of-00030.safetensors [Content-Type=application/octet-stream]...\n",
            "Copying gs://vertex-model-garden-public-us/llama3/llama3-70b-hf/model-00014-of-00030.safetensors [Content-Type=application/octet-stream]...\n",
            "Copying gs://vertex-model-garden-public-us/llama3/llama3-70b-hf/model-00015-of-00030.safetensors [Content-Type=application/octet-stream]...\n",
            "Copying gs://vertex-model-garden-public-us/llama3/llama3-70b-hf/model-00016-of-00030.safetensors [Content-Type=application/octet-stream]...\n",
            "Copying gs://vertex-model-garden-public-us/llama3/llama3-70b-hf/model-00017-of-00030.safetensors [Content-Type=application/octet-stream]...\n",
            "Copying gs://vertex-model-garden-public-us/llama3/llama3-70b-hf/model-00018-of-00030.safetensors [Content-Type=application/octet-stream]...\n",
            "Copying gs://vertex-model-garden-public-us/llama3/llama3-70b-hf/model-00019-of-00030.safetensors [Content-Type=application/octet-stream]...\n",
            "Copying gs://vertex-model-garden-public-us/llama3/llama3-70b-hf/model-00020-of-00030.safetensors [Content-Type=application/octet-stream]...\n",
            "Copying gs://vertex-model-garden-public-us/llama3/llama3-70b-hf/model-00021-of-00030.safetensors [Content-Type=application/octet-stream]...\n",
            "Copying gs://vertex-model-garden-public-us/llama3/llama3-70b-hf/model-00022-of-00030.safetensors [Content-Type=application/octet-stream]...\n",
            "Copying gs://vertex-model-garden-public-us/llama3/llama3-70b-hf/model-00023-of-00030.safetensors [Content-Type=application/octet-stream]...\n",
            "Copying gs://vertex-model-garden-public-us/llama3/llama3-70b-hf/model-00024-of-00030.safetensors [Content-Type=application/octet-stream]...\n",
            "Copying gs://vertex-model-garden-public-us/llama3/llama3-70b-hf/model-00025-of-00030.safetensors [Content-Type=application/octet-stream]...\n",
            "Copying gs://vertex-model-garden-public-us/llama3/llama3-70b-hf/model-00026-of-00030.safetensors [Content-Type=application/octet-stream]...\n",
            "Copying gs://vertex-model-garden-public-us/llama3/llama3-70b-hf/model-00027-of-00030.safetensors [Content-Type=application/octet-stream]...\n",
            "Copying gs://vertex-model-garden-public-us/llama3/llama3-70b-hf/model-00028-of-00030.safetensors [Content-Type=application/octet-stream]...\n",
            "Copying gs://vertex-model-garden-public-us/llama3/llama3-70b-hf/model-00029-of-00030.safetensors [Content-Type=application/octet-stream]...\n",
            "Copying gs://vertex-model-garden-public-us/llama3/llama3-70b-hf/model-00030-of-00030.safetensors [Content-Type=application/octet-stream]...\n",
            "Copying gs://vertex-model-garden-public-us/llama3/llama3-70b-hf/model.safetensors.index.json [Content-Type=application/json]...\n",
            "Copying gs://vertex-model-garden-public-us/llama3/llama3-70b-hf/special_tokens_map.json [Content-Type=application/json]...\n",
            "Copying gs://vertex-model-garden-public-us/llama3/llama3-70b-hf/tokenizer.json [Content-Type=application/json]...\n",
            "Copying gs://vertex-model-garden-public-us/llama3/llama3-70b-hf/tokenizer_config.json [Content-Type=application/json]...\n",
            "Copying gs://vertex-model-garden-public-us/llama3/llama3-8b-chat-hf/LICENSE [Content-Type=application/octet-stream]...\n",
            "Copying gs://vertex-model-garden-public-us/llama3/llama3-8b-chat-hf/README.md [Content-Type=application/octet-stream]...\n",
            "Copying gs://vertex-model-garden-public-us/llama3/llama3-8b-chat-hf/USE_POLICY.md [Content-Type=text/markdown]...\n",
            "Copying gs://vertex-model-garden-public-us/llama3/llama3-8b-chat-hf/config.json [Content-Type=application/json]...\n",
            "Copying gs://vertex-model-garden-public-us/llama3/llama3-8b-chat-hf/generation_config.json [Content-Type=application/json]...\n",
            "Copying gs://vertex-model-garden-public-us/llama3/llama3-8b-chat-hf/model-00001-of-00004.safetensors [Content-Type=application/octet-stream]...\n",
            "Copying gs://vertex-model-garden-public-us/llama3/llama3-8b-chat-hf/model-00002-of-00004.safetensors [Content-Type=application/octet-stream]...\n",
            "Copying gs://vertex-model-garden-public-us/llama3/llama3-8b-chat-hf/model-00003-of-00004.safetensors [Content-Type=application/octet-stream]...\n",
            "Copying gs://vertex-model-garden-public-us/llama3/llama3-8b-chat-hf/model-00004-of-00004.safetensors [Content-Type=application/octet-stream]...\n",
            "Copying gs://vertex-model-garden-public-us/llama3/llama3-8b-chat-hf/model.safetensors.index.json [Content-Type=application/json]...\n",
            "Copying gs://vertex-model-garden-public-us/llama3/llama3-8b-chat-hf/special_tokens_map.json [Content-Type=application/json]...\n",
            "Copying gs://vertex-model-garden-public-us/llama3/llama3-8b-chat-hf/tokenizer.json [Content-Type=application/json]...\n",
            "Copying gs://vertex-model-garden-public-us/llama3/llama3-8b-chat-hf/tokenizer_config.json [Content-Type=application/json]...\n",
            "Copying gs://vertex-model-garden-public-us/llama3/llama3-8b-hf/LICENSE [Content-Type=application/octet-stream]...\n",
            "Copying gs://vertex-model-garden-public-us/llama3/llama3-8b-hf/README.md [Content-Type=application/octet-stream]...\n",
            "Copying gs://vertex-model-garden-public-us/llama3/llama3-8b-hf/USE_POLICY.md [Content-Type=text/markdown]...\n",
            "Copying gs://vertex-model-garden-public-us/llama3/llama3-8b-hf/config.json [Content-Type=application/json]...\n",
            "Copying gs://vertex-model-garden-public-us/llama3/llama3-8b-hf/generation_config.json [Content-Type=application/json]...\n",
            "Copying gs://vertex-model-garden-public-us/llama3/llama3-8b-hf/model-00001-of-00004.safetensors [Content-Type=application/octet-stream]...\n",
            "Copying gs://vertex-model-garden-public-us/llama3/llama3-8b-hf/model-00002-of-00004.safetensors [Content-Type=application/octet-stream]...\n",
            "Copying gs://vertex-model-garden-public-us/llama3/llama3-8b-hf/model-00003-of-00004.safetensors [Content-Type=application/octet-stream]...\n",
            "Copying gs://vertex-model-garden-public-us/llama3/llama3-8b-hf/model-00004-of-00004.safetensors [Content-Type=application/octet-stream]...\n",
            "Copying gs://vertex-model-garden-public-us/llama3/llama3-8b-hf/model.safetensors.index.json [Content-Type=application/json]...\n",
            "Copying gs://vertex-model-garden-public-us/llama3/llama3-8b-hf/special_tokens_map.json [Content-Type=application/json]...\n",
            "Copying gs://vertex-model-garden-public-us/llama3/llama3-8b-hf/tokenizer.json [Content-Type=application/json]...\n",
            "Copying gs://vertex-model-garden-public-us/llama3/llama3-8b-hf/tokenizer_config.json [Content-Type=application/json]...\n",
            "\\ [117/117 files][307.8 GiB/307.8 GiB] 100% Done     0.0 B/s                    \n",
            "Operation completed over 117 objects/307.8 GiB.                                  \n"
          ]
        }
      ]
    },
    {
      "cell_type": "markdown",
      "source": [
        "## Create the artifact registry repository and set the custom docker image uri"
      ],
      "metadata": {
        "id": "dS974N88jGGv"
      }
    },
    {
      "cell_type": "code",
      "source": [
        "\n",
        "REPOSITORY = \"gpu-training-chatbot-repository-unique\"\n"
      ],
      "metadata": {
        "id": "mnlXXGhShxkh"
      },
      "execution_count": 5,
      "outputs": []
    },
    {
      "cell_type": "code",
      "source": [
        "\n",
        "image_name_train = \"llama3-8b-hf-lora-tuning-gpu\"\n",
        "hostname = f\"{LOCATION}-docker.pkg.dev\"\n",
        "tag = \"latest\"\n"
      ],
      "metadata": {
        "id": "eBAKoYjZhxnR"
      },
      "execution_count": 6,
      "outputs": []
    },
    {
      "cell_type": "code",
      "source": [
        "!pip3 install docker"
      ],
      "metadata": {
        "colab": {
          "base_uri": "https://localhost:8080/"
        },
        "id": "4d6XFaM7rP2r",
        "outputId": "f6dc4e90-97f2-4270-8e9c-633c225c3305"
      },
      "execution_count": 10,
      "outputs": [
        {
          "output_type": "stream",
          "name": "stdout",
          "text": [
            "Collecting docker\n",
            "  Downloading docker-7.1.0-py3-none-any.whl.metadata (3.8 kB)\n",
            "Requirement already satisfied: requests>=2.26.0 in /usr/local/lib/python3.10/dist-packages (from docker) (2.32.3)\n",
            "Requirement already satisfied: urllib3>=1.26.0 in /usr/local/lib/python3.10/dist-packages (from docker) (2.2.3)\n",
            "Requirement already satisfied: charset-normalizer<4,>=2 in /usr/local/lib/python3.10/dist-packages (from requests>=2.26.0->docker) (3.4.0)\n",
            "Requirement already satisfied: idna<4,>=2.5 in /usr/local/lib/python3.10/dist-packages (from requests>=2.26.0->docker) (3.10)\n",
            "Requirement already satisfied: certifi>=2017.4.17 in /usr/local/lib/python3.10/dist-packages (from requests>=2.26.0->docker) (2024.8.30)\n",
            "Downloading docker-7.1.0-py3-none-any.whl (147 kB)\n",
            "\u001b[?25l   \u001b[90m━━━━━━━━━━━━━━━━━━━━━━━━━━━━━━━━━━━━━━━━\u001b[0m \u001b[32m0.0/147.8 kB\u001b[0m \u001b[31m?\u001b[0m eta \u001b[36m-:--:--\u001b[0m\r\u001b[2K   \u001b[91m━━━━━━━━━━━━━━━━━━━━━━━━━━━━━━━━━━━━━━\u001b[0m\u001b[91m╸\u001b[0m\u001b[90m━\u001b[0m \u001b[32m143.4/147.8 kB\u001b[0m \u001b[31m4.2 MB/s\u001b[0m eta \u001b[36m0:00:01\u001b[0m\r\u001b[2K   \u001b[90m━━━━━━━━━━━━━━━━━━━━━━━━━━━━━━━━━━━━━━━━\u001b[0m \u001b[32m147.8/147.8 kB\u001b[0m \u001b[31m3.0 MB/s\u001b[0m eta \u001b[36m0:00:00\u001b[0m\n",
            "\u001b[?25hInstalling collected packages: docker\n",
            "Successfully installed docker-7.1.0\n"
          ]
        }
      ]
    },
    {
      "cell_type": "code",
      "source": [
        "!docker --version\n"
      ],
      "metadata": {
        "colab": {
          "base_uri": "https://localhost:8080/"
        },
        "id": "9kXj1JYooz0r",
        "outputId": "88425739-5577-4af4-d464-49c552fcc53d"
      },
      "execution_count": 16,
      "outputs": [
        {
          "output_type": "stream",
          "name": "stdout",
          "text": [
            "/bin/bash: line 1: docker: command not found\n"
          ]
        }
      ]
    },
    {
      "cell_type": "code",
      "source": [
        "# to understand the current path\n",
        "!echo $PATH"
      ],
      "metadata": {
        "colab": {
          "base_uri": "https://localhost:8080/"
        },
        "id": "AjzorukJtsM7",
        "outputId": "8caba124-59bd-4589-f277-b4f5c19c165e"
      },
      "execution_count": 12,
      "outputs": [
        {
          "output_type": "stream",
          "name": "stdout",
          "text": [
            "/opt/bin:/usr/local/nvidia/bin:/usr/local/cuda/bin:/usr/local/sbin:/usr/local/bin:/usr/sbin:/usr/bin:/sbin:/bin:/tools/node/bin:/tools/google-cloud-sdk/bin\n"
          ]
        }
      ]
    },
    {
      "cell_type": "code",
      "source": [
        "!which docker-credential-gcloud"
      ],
      "metadata": {
        "colab": {
          "base_uri": "https://localhost:8080/"
        },
        "id": "Yzr1Dj1QPVJn",
        "outputId": "b7639480-4f6a-4bba-c756-e16844b450f6"
      },
      "execution_count": 13,
      "outputs": [
        {
          "output_type": "stream",
          "name": "stdout",
          "text": [
            "/tools/google-cloud-sdk/bin/docker-credential-gcloud\n"
          ]
        }
      ]
    },
    {
      "cell_type": "code",
      "source": [
        "#If docker is properly installed then when you execute this command it should output this: /usr/local/bin/docker\n",
        "\n",
        "!which docker"
      ],
      "metadata": {
        "id": "BPtaNGR7t3GJ"
      },
      "execution_count": 17,
      "outputs": []
    },
    {
      "cell_type": "code",
      "source": [
        "# After executing these two lines here I was able to see /usr/local/bin/docker outcome for this command: !which docker\n",
        "# These two lines fixed the following error message:\n",
        "\n",
        "# WARNING: `docker` not in system PATH.\n",
        "\n",
        "# `docker` and `docker-credential-gcloud` need to be in the same PATH in order to work correctly together.\n",
        "\n",
        "# gcloud's Docker credential helper can be configured but it will not work until this is corrected.WARNING: Your config file at [/root/.docker/config.json] contains these credential helper entries:\n",
        "\n",
        "\n",
        "\n",
        "# {\n",
        "\n",
        "#   \"credHelpers\": {\n",
        "\n",
        "#     \"us-west1-docker.pkg.dev\": \"gcloud\"\n",
        "\n",
        "#   }\n",
        "\n",
        "# }\n",
        "\n",
        "!touch /usr/local/bin/docker\n",
        "!chmod +x /usr/local/bin/docker"
      ],
      "metadata": {
        "id": "Eq9igDVQt3h-"
      },
      "execution_count": 18,
      "outputs": []
    },
    {
      "cell_type": "code",
      "source": [
        "# import os\n",
        "# os.environ['PATH'] = \"/usr/local/bin:\" + os.environ['PATH']"
      ],
      "metadata": {
        "id": "Bs7XUojMt78q"
      },
      "execution_count": 18,
      "outputs": []
    },
    {
      "cell_type": "code",
      "source": [
        "# os.environ['PATH']"
      ],
      "metadata": {
        "id": "2h7va1OP-muS"
      },
      "execution_count": 19,
      "outputs": []
    },
    {
      "cell_type": "code",
      "source": [
        "#after the error got fixed and when executed the following command I get to see the path\n",
        "!which docker\n"
      ],
      "metadata": {
        "colab": {
          "base_uri": "https://localhost:8080/"
        },
        "id": "OBf2emeet_RD",
        "outputId": "a4f3ef3d-7675-4b72-c23f-561afbcfc785"
      },
      "execution_count": 20,
      "outputs": [
        {
          "output_type": "stream",
          "name": "stdout",
          "text": [
            "/usr/local/bin/docker\n"
          ]
        }
      ]
    },
    {
      "cell_type": "code",
      "source": [
        "import os\n",
        "\n",
        "os.environ['PATH'] = \"/usr/local/bin:/tools/google-cloud-sdk/bin:\" + os.environ['PATH']"
      ],
      "metadata": {
        "id": "szYh6znquFPb"
      },
      "execution_count": 21,
      "outputs": []
    },
    {
      "cell_type": "code",
      "source": [
        "!echo $PATH"
      ],
      "metadata": {
        "colab": {
          "base_uri": "https://localhost:8080/"
        },
        "id": "yx7PdaRXuob_",
        "outputId": "664ed36c-e1de-46b7-b202-3d29ff2a07d8"
      },
      "execution_count": 22,
      "outputs": [
        {
          "output_type": "stream",
          "name": "stdout",
          "text": [
            "/usr/local/bin:/tools/google-cloud-sdk/bin:/opt/bin:/usr/local/nvidia/bin:/usr/local/cuda/bin:/usr/local/sbin:/usr/local/bin:/usr/sbin:/usr/bin:/sbin:/bin:/tools/node/bin:/tools/google-cloud-sdk/bin\n"
          ]
        }
      ]
    },
    {
      "cell_type": "code",
      "source": [
        "!gcloud config list"
      ],
      "metadata": {
        "colab": {
          "base_uri": "https://localhost:8080/"
        },
        "id": "mujbL9fGuokS",
        "outputId": "d37f8a3c-ad77-40f7-deea-21424eca4e97"
      },
      "execution_count": 23,
      "outputs": [
        {
          "output_type": "stream",
          "name": "stdout",
          "text": [
            "[component_manager]\n",
            "disable_update_check = True\n",
            "[core]\n",
            "account = chidambaram.spv@gmail.com\n",
            "\n",
            "Your active configuration is: [default]\n"
          ]
        }
      ]
    },
    {
      "cell_type": "code",
      "source": [
        "#to set configurations for PROJECT_ID\n",
        "!gcloud config set project {PROJECT_ID}\n"
      ],
      "metadata": {
        "colab": {
          "base_uri": "https://localhost:8080/"
        },
        "id": "MYFawj7muona",
        "outputId": "990b81f8-7ac2-4fd0-aaa9-6e96d96e7c9b"
      },
      "execution_count": 24,
      "outputs": [
        {
          "output_type": "stream",
          "name": "stdout",
          "text": [
            "Updated property [core/project].\n"
          ]
        }
      ]
    },
    {
      "cell_type": "code",
      "source": [
        "!gcloud --version"
      ],
      "metadata": {
        "colab": {
          "base_uri": "https://localhost:8080/"
        },
        "id": "Z4W8mWjD-Y5F",
        "outputId": "e3cbd718-0fe0-4cf9-9074-cf7c322c7101"
      },
      "execution_count": 25,
      "outputs": [
        {
          "output_type": "stream",
          "name": "stdout",
          "text": [
            "Google Cloud SDK 499.0.0\n"
          ]
        }
      ]
    },
    {
      "cell_type": "code",
      "source": [
        "from google.colab import auth\n",
        "auth.authenticate_user()"
      ],
      "metadata": {
        "id": "HmpTOahXvIN6"
      },
      "execution_count": 26,
      "outputs": []
    },
    {
      "cell_type": "code",
      "source": [
        "#The warning finally disappeared after fixing the docker is not in the path error. Otherwise you see a warning here. If you are not seeing that means that\n",
        "# docker is properly isntalled and good to go\n",
        "\n",
        "!gcloud auth configure-docker {LOCATION}-docker.pkg.dev --quiet"
      ],
      "metadata": {
        "colab": {
          "base_uri": "https://localhost:8080/"
        },
        "id": "ufKEUfY5vIRL",
        "outputId": "27467c01-a54e-451a-fc53-7e034a5d264e"
      },
      "execution_count": 27,
      "outputs": [
        {
          "output_type": "stream",
          "name": "stdout",
          "text": [
            "Adding credentials for: us-west1-docker.pkg.dev\n",
            "Docker configuration file updated.\n"
          ]
        }
      ]
    },
    {
      "cell_type": "code",
      "source": [
        "# Maybe this is what I used last time to fix the error: docker is not in the path. Don't have to use it if there is no error\n",
        "# import json\n",
        "\n",
        "# # Read the current config\n",
        "# with open('/root/.docker/config.json', 'r') as f:\n",
        "#     config = json.load(f)\n",
        "\n",
        "# # Add your region if it's not already there\n",
        "# if f\"{region}-docker.pkg.dev\" not in config['credHelpers']:\n",
        "#     config['credHelpers'][f\"{region}-docker.pkg.dev\"] = \"gcloud\"\n",
        "\n",
        "# # Write the updated config\n",
        "# with open('/root/.docker/config.json', 'w') as f:\n",
        "#     json.dump(config, f)\n"
      ],
      "metadata": {
        "id": "Kbm57JfYv6fY"
      },
      "execution_count": null,
      "outputs": []
    },
    {
      "cell_type": "code",
      "source": [
        "REPOSITORY"
      ],
      "metadata": {
        "colab": {
          "base_uri": "https://localhost:8080/",
          "height": 35
        },
        "id": "BSOFvyKCOxW1",
        "outputId": "b98aff40-f14f-45a5-bddb-9cd070470c7c"
      },
      "execution_count": 28,
      "outputs": [
        {
          "output_type": "execute_result",
          "data": {
            "text/plain": [
              "'gpu-training-chatbot-repository-unique'"
            ],
            "application/vnd.google.colaboratory.intrinsic+json": {
              "type": "string"
            }
          },
          "metadata": {},
          "execution_count": 28
        }
      ]
    },
    {
      "cell_type": "code",
      "source": [
        "#Why we doing this?\n",
        "# One time or use an existing repository\n",
        "!echo \"y\" gcloud artifacts repositories create $REPOSITORY --repository-format=docker \\\n",
        "--location=$LOCATION --description=\"Vertex AI GPU training repository\"\n"
      ],
      "metadata": {
        "id": "q5yfoh6UjOTT",
        "colab": {
          "base_uri": "https://localhost:8080/"
        },
        "outputId": "5c84338d-303a-4d58-efeb-1d65fce9a82f"
      },
      "execution_count": 29,
      "outputs": [
        {
          "output_type": "stream",
          "name": "stdout",
          "text": [
            "y gcloud artifacts repositories create gpu-training-chatbot-repository-unique --repository-format=docker --location=us-west1 --description=Vertex AI GPU training repository\n"
          ]
        }
      ]
    },
    {
      "cell_type": "code",
      "source": [
        "\n",
        "# Define container image name\n",
        "PYTORCH_TRAIN_DOCKER_URI = (\n",
        "    f\"{hostname}/{PROJECT_ID}/{REPOSITORY}/{image_name_train}:{tag}\"\n",
        ")\n"
      ],
      "metadata": {
        "id": "gIuTrk01jOWT"
      },
      "execution_count": 33,
      "outputs": []
    },
    {
      "cell_type": "code",
      "source": [
        "PYTORCH_TRAIN_DOCKER_URI"
      ],
      "metadata": {
        "colab": {
          "base_uri": "https://localhost:8080/",
          "height": 35
        },
        "id": "OgCmxA9EPeq1",
        "outputId": "fb7134a4-6c49-4d48-bb72-49aa072536cb"
      },
      "execution_count": 34,
      "outputs": [
        {
          "output_type": "execute_result",
          "data": {
            "text/plain": [
              "'us-west1-docker.pkg.dev/bot-retail2/gpu-training-chatbot-repository-unique/llama3-8b-hf-lora-tuning-gpu:latest'"
            ],
            "application/vnd.google.colaboratory.intrinsic+json": {
              "type": "string"
            }
          },
          "metadata": {},
          "execution_count": 34
        }
      ]
    },
    {
      "cell_type": "code",
      "source": [
        "\n",
        "def get_job_name_with_datetime(prefix: str) -> str:\n",
        "    \"\"\"Gets the job name with date time when triggering training or deployment\n",
        "    jobs in Vertex AI.\n",
        "    \"\"\"\n",
        "    return prefix + datetime.now().strftime(\"_%Y%m%d_%H%M%S\")"
      ],
      "metadata": {
        "id": "71zjAbZejOZn"
      },
      "execution_count": 35,
      "outputs": []
    },
    {
      "cell_type": "code",
      "source": [
        "import os\n",
        "\n",
        "if not os.path.exists(\"trainer\"):\n",
        "    os.makedirs(\"trainer\")"
      ],
      "metadata": {
        "id": "BesLzrpijXI5"
      },
      "execution_count": 36,
      "outputs": []
    },
    {
      "cell_type": "code",
      "source": [
        "%%writefile trainer/Dockerfile\n",
        "# This Dockerfile finetunes the Llamas3 model using LoRA with PyTorch XLA\n",
        "# Nightly TPU VM docker image\n",
        "FROM us-central1-docker.pkg.dev/tpu-pytorch-releases/docker/xla:nightly_3.10_tpuvm_20240324\n",
        "\n",
        "ENV DEBIAN_FRONTEND=noninteractive\n",
        "\n",
        "# Install basic libs\n",
        "RUN apt-get update && apt-get -y upgrade && apt-get install -y --no-install-recommends \\\n",
        "        cmake \\\n",
        "        curl \\\n",
        "        wget \\\n",
        "        sudo \\\n",
        "        gnupg \\\n",
        "        libsm6 \\\n",
        "        libxext6 \\\n",
        "        libxrender-dev \\\n",
        "        lsb-release \\\n",
        "        ca-certificates \\\n",
        "        build-essential \\\n",
        "        git \\\n",
        "        libgl1\n",
        "\n",
        "# Install required libs\n",
        "RUN pip install --upgrade pip\n",
        "RUN pip install --upgrade pip\n",
        "RUN pip install transformers==4.38.2 -U\n",
        "RUN pip install datasets==2.18.0\n",
        "RUN pip install trl==0.8.1 peft==0.10.0\n",
        "RUN pip install accelerate==0.28.0\n",
        "RUN pip install --upgrade google-cloud-storage\n",
        "\n",
        "# Copy other licenses.\n",
        "RUN wget -O MIT_LICENSE https://github.com/pytest-dev/pytest/blob/main/LICENSE\n",
        "RUN wget -O BSD_LICENSE https://github.com/pytorch/xla/blob/master/LICENSE\n",
        "RUN wget -O BSD-3_LICENSE https://github.com/pytorch/pytorch/blob/main/LICENSE\n",
        "\n",
        "# Copy install libtpu to PATH above\n",
        "RUN find ./usr/local/lib -name 'libtpu.so' -exec cp {} /lib \\;\n",
        "\n",
        "WORKDIR /\n",
        "COPY train.py train.py\n",
        "ENV PYTHONPATH ./\n",
        "\n",
        "ENTRYPOINT [\"python\", \"train.py\"]"
      ],
      "metadata": {
        "id": "DepaJW2vjZak",
        "colab": {
          "base_uri": "https://localhost:8080/"
        },
        "outputId": "72378fe0-be55-4e83-ff4d-4bd0984e75b2"
      },
      "execution_count": 37,
      "outputs": [
        {
          "output_type": "stream",
          "name": "stdout",
          "text": [
            "Writing trainer/Dockerfile\n"
          ]
        }
      ]
    },
    {
      "cell_type": "code",
      "source": [
        "!touch trainer/__init__.py"
      ],
      "metadata": {
        "id": "_PnIgrLJjbHr"
      },
      "execution_count": 38,
      "outputs": []
    },
    {
      "cell_type": "code",
      "source": [
        "#This function here is to download and read a file from G storage\n",
        "from google.colab import auth\n",
        "from google.cloud import storage\n",
        "import pandas as pd\n",
        "import io\n",
        "\n",
        "# Authenticate (if using Google Colab)\n",
        "auth.authenticate_user()\n",
        "\n",
        "def read_csv_from_gcs(bucket_name, file_name):\n",
        "    # Initialize the Google Cloud Storage client\n",
        "    client = storage.Client()\n",
        "\n",
        "    # Get the bucket and blob\n",
        "    bucket = client.get_bucket(bucket_name)\n",
        "    blob = bucket.blob(file_name)\n",
        "\n",
        "    # Download the contents of the blob as a string\n",
        "    content = blob.download_as_text()\n",
        "\n",
        "    # Use pandas to read the CSV content\n",
        "    df = pd.read_csv(io.StringIO(content))\n",
        "\n",
        "    return df\n",
        "\n",
        "\n"
      ],
      "metadata": {
        "id": "Ycwy300X583c"
      },
      "execution_count": 7,
      "outputs": []
    },
    {
      "cell_type": "code",
      "source": [
        "\n",
        "# implementing the above function: read_csv_from_gcs\n",
        "bucket_name = 'senti-bot-retail2-unique'\n",
        "file_name = 'preprocessed_with_instruction_input_output.csv'\n",
        "\n",
        "df = read_csv_from_gcs(bucket_name, file_name)"
      ],
      "metadata": {
        "id": "0wyrhZzKZcai"
      },
      "execution_count": 11,
      "outputs": []
    },
    {
      "cell_type": "code",
      "source": [
        "df.head()"
      ],
      "metadata": {
        "colab": {
          "base_uri": "https://localhost:8080/",
          "height": 293
        },
        "id": "EpQwHGEQ6cCa",
        "outputId": "990e5b0a-2cc2-42d8-e46d-3e3da23d380b"
      },
      "execution_count": 12,
      "outputs": [
        {
          "output_type": "execute_result",
          "data": {
            "text/plain": [
              "                                  product          category sub_category  \\\n",
              "0  Garlic Oil - Vegetarian Capsule 500 mg  Beauty & Hygiene    Hair Care   \n",
              "1  Garlic Oil - Vegetarian Capsule 500 mg  Beauty & Hygiene    Hair Care   \n",
              "2  Garlic Oil - Vegetarian Capsule 500 mg  Beauty & Hygiene    Hair Care   \n",
              "3  Garlic Oil - Vegetarian Capsule 500 mg  Beauty & Hygiene    Hair Care   \n",
              "4  Garlic Oil - Vegetarian Capsule 500 mg  Beauty & Hygiene    Hair Care   \n",
              "\n",
              "               brand  sale_price  market_price              type  rating  \\\n",
              "0  Sri Sri Ayurveda        220.0         220.0  Hair Oil & Serum     4.1   \n",
              "1  Sri Sri Ayurveda        220.0         220.0  Hair Oil & Serum     4.1   \n",
              "2  Sri Sri Ayurveda        220.0         220.0  Hair Oil & Serum     4.1   \n",
              "3  Sri Sri Ayurveda        220.0         220.0  Hair Oil & Serum     4.1   \n",
              "4  Sri Sri Ayurveda        220.0         220.0  Hair Oil & Serum     4.1   \n",
              "\n",
              "                                         description  \\\n",
              "0  This Product contains Garlic Oil that is known...   \n",
              "1  This Product contains Garlic Oil that is known...   \n",
              "2  This Product contains Garlic Oil that is known...   \n",
              "3  This Product contains Garlic Oil that is known...   \n",
              "4  This Product contains Garlic Oil that is known...   \n",
              "\n",
              "                             instruction  \\\n",
              "0  What are the features of the product?   \n",
              "1   Does this product have any discount?   \n",
              "2                 How much does it cost?   \n",
              "3                     What's its rating?   \n",
              "4                      What's its brand?   \n",
              "\n",
              "                                               input  \\\n",
              "0  ['Garlic Oil - Vegetarian Capsule 500 mg', 'Be...   \n",
              "1                                     [220.0, 220.0]   \n",
              "2                                              220.0   \n",
              "3                                                4.1   \n",
              "4                                  Sri Sri Ayurveda    \n",
              "\n",
              "                                            response  \n",
              "0  Garlic Oil - Vegetarian Capsule 500 mg belongs...  \n",
              "1  There is no discount on this product at the mo...  \n",
              "2                           The product costs $220.0  \n",
              "3                   It has a rating of 4.1 out of 5.  \n",
              "4           The product's brand is Sri Sri Ayurveda   "
            ],
            "text/html": [
              "\n",
              "  <div id=\"df-50189b14-23dc-4c53-94a7-c343656d792c\" class=\"colab-df-container\">\n",
              "    <div>\n",
              "<style scoped>\n",
              "    .dataframe tbody tr th:only-of-type {\n",
              "        vertical-align: middle;\n",
              "    }\n",
              "\n",
              "    .dataframe tbody tr th {\n",
              "        vertical-align: top;\n",
              "    }\n",
              "\n",
              "    .dataframe thead th {\n",
              "        text-align: right;\n",
              "    }\n",
              "</style>\n",
              "<table border=\"1\" class=\"dataframe\">\n",
              "  <thead>\n",
              "    <tr style=\"text-align: right;\">\n",
              "      <th></th>\n",
              "      <th>product</th>\n",
              "      <th>category</th>\n",
              "      <th>sub_category</th>\n",
              "      <th>brand</th>\n",
              "      <th>sale_price</th>\n",
              "      <th>market_price</th>\n",
              "      <th>type</th>\n",
              "      <th>rating</th>\n",
              "      <th>description</th>\n",
              "      <th>instruction</th>\n",
              "      <th>input</th>\n",
              "      <th>response</th>\n",
              "    </tr>\n",
              "  </thead>\n",
              "  <tbody>\n",
              "    <tr>\n",
              "      <th>0</th>\n",
              "      <td>Garlic Oil - Vegetarian Capsule 500 mg</td>\n",
              "      <td>Beauty &amp; Hygiene</td>\n",
              "      <td>Hair Care</td>\n",
              "      <td>Sri Sri Ayurveda</td>\n",
              "      <td>220.0</td>\n",
              "      <td>220.0</td>\n",
              "      <td>Hair Oil &amp; Serum</td>\n",
              "      <td>4.1</td>\n",
              "      <td>This Product contains Garlic Oil that is known...</td>\n",
              "      <td>What are the features of the product?</td>\n",
              "      <td>['Garlic Oil - Vegetarian Capsule 500 mg', 'Be...</td>\n",
              "      <td>Garlic Oil - Vegetarian Capsule 500 mg belongs...</td>\n",
              "    </tr>\n",
              "    <tr>\n",
              "      <th>1</th>\n",
              "      <td>Garlic Oil - Vegetarian Capsule 500 mg</td>\n",
              "      <td>Beauty &amp; Hygiene</td>\n",
              "      <td>Hair Care</td>\n",
              "      <td>Sri Sri Ayurveda</td>\n",
              "      <td>220.0</td>\n",
              "      <td>220.0</td>\n",
              "      <td>Hair Oil &amp; Serum</td>\n",
              "      <td>4.1</td>\n",
              "      <td>This Product contains Garlic Oil that is known...</td>\n",
              "      <td>Does this product have any discount?</td>\n",
              "      <td>[220.0, 220.0]</td>\n",
              "      <td>There is no discount on this product at the mo...</td>\n",
              "    </tr>\n",
              "    <tr>\n",
              "      <th>2</th>\n",
              "      <td>Garlic Oil - Vegetarian Capsule 500 mg</td>\n",
              "      <td>Beauty &amp; Hygiene</td>\n",
              "      <td>Hair Care</td>\n",
              "      <td>Sri Sri Ayurveda</td>\n",
              "      <td>220.0</td>\n",
              "      <td>220.0</td>\n",
              "      <td>Hair Oil &amp; Serum</td>\n",
              "      <td>4.1</td>\n",
              "      <td>This Product contains Garlic Oil that is known...</td>\n",
              "      <td>How much does it cost?</td>\n",
              "      <td>220.0</td>\n",
              "      <td>The product costs $220.0</td>\n",
              "    </tr>\n",
              "    <tr>\n",
              "      <th>3</th>\n",
              "      <td>Garlic Oil - Vegetarian Capsule 500 mg</td>\n",
              "      <td>Beauty &amp; Hygiene</td>\n",
              "      <td>Hair Care</td>\n",
              "      <td>Sri Sri Ayurveda</td>\n",
              "      <td>220.0</td>\n",
              "      <td>220.0</td>\n",
              "      <td>Hair Oil &amp; Serum</td>\n",
              "      <td>4.1</td>\n",
              "      <td>This Product contains Garlic Oil that is known...</td>\n",
              "      <td>What's its rating?</td>\n",
              "      <td>4.1</td>\n",
              "      <td>It has a rating of 4.1 out of 5.</td>\n",
              "    </tr>\n",
              "    <tr>\n",
              "      <th>4</th>\n",
              "      <td>Garlic Oil - Vegetarian Capsule 500 mg</td>\n",
              "      <td>Beauty &amp; Hygiene</td>\n",
              "      <td>Hair Care</td>\n",
              "      <td>Sri Sri Ayurveda</td>\n",
              "      <td>220.0</td>\n",
              "      <td>220.0</td>\n",
              "      <td>Hair Oil &amp; Serum</td>\n",
              "      <td>4.1</td>\n",
              "      <td>This Product contains Garlic Oil that is known...</td>\n",
              "      <td>What's its brand?</td>\n",
              "      <td>Sri Sri Ayurveda</td>\n",
              "      <td>The product's brand is Sri Sri Ayurveda</td>\n",
              "    </tr>\n",
              "  </tbody>\n",
              "</table>\n",
              "</div>\n",
              "    <div class=\"colab-df-buttons\">\n",
              "\n",
              "  <div class=\"colab-df-container\">\n",
              "    <button class=\"colab-df-convert\" onclick=\"convertToInteractive('df-50189b14-23dc-4c53-94a7-c343656d792c')\"\n",
              "            title=\"Convert this dataframe to an interactive table.\"\n",
              "            style=\"display:none;\">\n",
              "\n",
              "  <svg xmlns=\"http://www.w3.org/2000/svg\" height=\"24px\" viewBox=\"0 -960 960 960\">\n",
              "    <path d=\"M120-120v-720h720v720H120Zm60-500h600v-160H180v160Zm220 220h160v-160H400v160Zm0 220h160v-160H400v160ZM180-400h160v-160H180v160Zm440 0h160v-160H620v160ZM180-180h160v-160H180v160Zm440 0h160v-160H620v160Z\"/>\n",
              "  </svg>\n",
              "    </button>\n",
              "\n",
              "  <style>\n",
              "    .colab-df-container {\n",
              "      display:flex;\n",
              "      gap: 12px;\n",
              "    }\n",
              "\n",
              "    .colab-df-convert {\n",
              "      background-color: #E8F0FE;\n",
              "      border: none;\n",
              "      border-radius: 50%;\n",
              "      cursor: pointer;\n",
              "      display: none;\n",
              "      fill: #1967D2;\n",
              "      height: 32px;\n",
              "      padding: 0 0 0 0;\n",
              "      width: 32px;\n",
              "    }\n",
              "\n",
              "    .colab-df-convert:hover {\n",
              "      background-color: #E2EBFA;\n",
              "      box-shadow: 0px 1px 2px rgba(60, 64, 67, 0.3), 0px 1px 3px 1px rgba(60, 64, 67, 0.15);\n",
              "      fill: #174EA6;\n",
              "    }\n",
              "\n",
              "    .colab-df-buttons div {\n",
              "      margin-bottom: 4px;\n",
              "    }\n",
              "\n",
              "    [theme=dark] .colab-df-convert {\n",
              "      background-color: #3B4455;\n",
              "      fill: #D2E3FC;\n",
              "    }\n",
              "\n",
              "    [theme=dark] .colab-df-convert:hover {\n",
              "      background-color: #434B5C;\n",
              "      box-shadow: 0px 1px 3px 1px rgba(0, 0, 0, 0.15);\n",
              "      filter: drop-shadow(0px 1px 2px rgba(0, 0, 0, 0.3));\n",
              "      fill: #FFFFFF;\n",
              "    }\n",
              "  </style>\n",
              "\n",
              "    <script>\n",
              "      const buttonEl =\n",
              "        document.querySelector('#df-50189b14-23dc-4c53-94a7-c343656d792c button.colab-df-convert');\n",
              "      buttonEl.style.display =\n",
              "        google.colab.kernel.accessAllowed ? 'block' : 'none';\n",
              "\n",
              "      async function convertToInteractive(key) {\n",
              "        const element = document.querySelector('#df-50189b14-23dc-4c53-94a7-c343656d792c');\n",
              "        const dataTable =\n",
              "          await google.colab.kernel.invokeFunction('convertToInteractive',\n",
              "                                                    [key], {});\n",
              "        if (!dataTable) return;\n",
              "\n",
              "        const docLinkHtml = 'Like what you see? Visit the ' +\n",
              "          '<a target=\"_blank\" href=https://colab.research.google.com/notebooks/data_table.ipynb>data table notebook</a>'\n",
              "          + ' to learn more about interactive tables.';\n",
              "        element.innerHTML = '';\n",
              "        dataTable['output_type'] = 'display_data';\n",
              "        await google.colab.output.renderOutput(dataTable, element);\n",
              "        const docLink = document.createElement('div');\n",
              "        docLink.innerHTML = docLinkHtml;\n",
              "        element.appendChild(docLink);\n",
              "      }\n",
              "    </script>\n",
              "  </div>\n",
              "\n",
              "\n",
              "<div id=\"df-ac0353b1-98bb-4f4f-ab52-72e91c5b8259\">\n",
              "  <button class=\"colab-df-quickchart\" onclick=\"quickchart('df-ac0353b1-98bb-4f4f-ab52-72e91c5b8259')\"\n",
              "            title=\"Suggest charts\"\n",
              "            style=\"display:none;\">\n",
              "\n",
              "<svg xmlns=\"http://www.w3.org/2000/svg\" height=\"24px\"viewBox=\"0 0 24 24\"\n",
              "     width=\"24px\">\n",
              "    <g>\n",
              "        <path d=\"M19 3H5c-1.1 0-2 .9-2 2v14c0 1.1.9 2 2 2h14c1.1 0 2-.9 2-2V5c0-1.1-.9-2-2-2zM9 17H7v-7h2v7zm4 0h-2V7h2v10zm4 0h-2v-4h2v4z\"/>\n",
              "    </g>\n",
              "</svg>\n",
              "  </button>\n",
              "\n",
              "<style>\n",
              "  .colab-df-quickchart {\n",
              "      --bg-color: #E8F0FE;\n",
              "      --fill-color: #1967D2;\n",
              "      --hover-bg-color: #E2EBFA;\n",
              "      --hover-fill-color: #174EA6;\n",
              "      --disabled-fill-color: #AAA;\n",
              "      --disabled-bg-color: #DDD;\n",
              "  }\n",
              "\n",
              "  [theme=dark] .colab-df-quickchart {\n",
              "      --bg-color: #3B4455;\n",
              "      --fill-color: #D2E3FC;\n",
              "      --hover-bg-color: #434B5C;\n",
              "      --hover-fill-color: #FFFFFF;\n",
              "      --disabled-bg-color: #3B4455;\n",
              "      --disabled-fill-color: #666;\n",
              "  }\n",
              "\n",
              "  .colab-df-quickchart {\n",
              "    background-color: var(--bg-color);\n",
              "    border: none;\n",
              "    border-radius: 50%;\n",
              "    cursor: pointer;\n",
              "    display: none;\n",
              "    fill: var(--fill-color);\n",
              "    height: 32px;\n",
              "    padding: 0;\n",
              "    width: 32px;\n",
              "  }\n",
              "\n",
              "  .colab-df-quickchart:hover {\n",
              "    background-color: var(--hover-bg-color);\n",
              "    box-shadow: 0 1px 2px rgba(60, 64, 67, 0.3), 0 1px 3px 1px rgba(60, 64, 67, 0.15);\n",
              "    fill: var(--button-hover-fill-color);\n",
              "  }\n",
              "\n",
              "  .colab-df-quickchart-complete:disabled,\n",
              "  .colab-df-quickchart-complete:disabled:hover {\n",
              "    background-color: var(--disabled-bg-color);\n",
              "    fill: var(--disabled-fill-color);\n",
              "    box-shadow: none;\n",
              "  }\n",
              "\n",
              "  .colab-df-spinner {\n",
              "    border: 2px solid var(--fill-color);\n",
              "    border-color: transparent;\n",
              "    border-bottom-color: var(--fill-color);\n",
              "    animation:\n",
              "      spin 1s steps(1) infinite;\n",
              "  }\n",
              "\n",
              "  @keyframes spin {\n",
              "    0% {\n",
              "      border-color: transparent;\n",
              "      border-bottom-color: var(--fill-color);\n",
              "      border-left-color: var(--fill-color);\n",
              "    }\n",
              "    20% {\n",
              "      border-color: transparent;\n",
              "      border-left-color: var(--fill-color);\n",
              "      border-top-color: var(--fill-color);\n",
              "    }\n",
              "    30% {\n",
              "      border-color: transparent;\n",
              "      border-left-color: var(--fill-color);\n",
              "      border-top-color: var(--fill-color);\n",
              "      border-right-color: var(--fill-color);\n",
              "    }\n",
              "    40% {\n",
              "      border-color: transparent;\n",
              "      border-right-color: var(--fill-color);\n",
              "      border-top-color: var(--fill-color);\n",
              "    }\n",
              "    60% {\n",
              "      border-color: transparent;\n",
              "      border-right-color: var(--fill-color);\n",
              "    }\n",
              "    80% {\n",
              "      border-color: transparent;\n",
              "      border-right-color: var(--fill-color);\n",
              "      border-bottom-color: var(--fill-color);\n",
              "    }\n",
              "    90% {\n",
              "      border-color: transparent;\n",
              "      border-bottom-color: var(--fill-color);\n",
              "    }\n",
              "  }\n",
              "</style>\n",
              "\n",
              "  <script>\n",
              "    async function quickchart(key) {\n",
              "      const quickchartButtonEl =\n",
              "        document.querySelector('#' + key + ' button');\n",
              "      quickchartButtonEl.disabled = true;  // To prevent multiple clicks.\n",
              "      quickchartButtonEl.classList.add('colab-df-spinner');\n",
              "      try {\n",
              "        const charts = await google.colab.kernel.invokeFunction(\n",
              "            'suggestCharts', [key], {});\n",
              "      } catch (error) {\n",
              "        console.error('Error during call to suggestCharts:', error);\n",
              "      }\n",
              "      quickchartButtonEl.classList.remove('colab-df-spinner');\n",
              "      quickchartButtonEl.classList.add('colab-df-quickchart-complete');\n",
              "    }\n",
              "    (() => {\n",
              "      let quickchartButtonEl =\n",
              "        document.querySelector('#df-ac0353b1-98bb-4f4f-ab52-72e91c5b8259 button');\n",
              "      quickchartButtonEl.style.display =\n",
              "        google.colab.kernel.accessAllowed ? 'block' : 'none';\n",
              "    })();\n",
              "  </script>\n",
              "</div>\n",
              "\n",
              "    </div>\n",
              "  </div>\n"
            ],
            "application/vnd.google.colaboratory.intrinsic+json": {
              "type": "dataframe",
              "variable_name": "df"
            }
          },
          "metadata": {},
          "execution_count": 12
        }
      ]
    },
    {
      "cell_type": "code",
      "source": [
        "df.isnull().sum()*100/len(df)"
      ],
      "metadata": {
        "colab": {
          "base_uri": "https://localhost:8080/",
          "height": 460
        },
        "id": "EN1GaeHmZR1p",
        "outputId": "5e2ff3e2-666f-4d2c-d941-38f422e77578"
      },
      "execution_count": 104,
      "outputs": [
        {
          "output_type": "execute_result",
          "data": {
            "text/plain": [
              "product          0.003629\n",
              "category         0.000000\n",
              "sub_category     0.000000\n",
              "brand            0.003629\n",
              "sale_price       0.000000\n",
              "market_price     0.000000\n",
              "type             0.000000\n",
              "rating          31.304663\n",
              "description      0.417347\n",
              "instruction      0.000000\n",
              "input            6.261659\n",
              "response         0.000000\n",
              "dtype: float64"
            ],
            "text/html": [
              "<div>\n",
              "<style scoped>\n",
              "    .dataframe tbody tr th:only-of-type {\n",
              "        vertical-align: middle;\n",
              "    }\n",
              "\n",
              "    .dataframe tbody tr th {\n",
              "        vertical-align: top;\n",
              "    }\n",
              "\n",
              "    .dataframe thead th {\n",
              "        text-align: right;\n",
              "    }\n",
              "</style>\n",
              "<table border=\"1\" class=\"dataframe\">\n",
              "  <thead>\n",
              "    <tr style=\"text-align: right;\">\n",
              "      <th></th>\n",
              "      <th>0</th>\n",
              "    </tr>\n",
              "  </thead>\n",
              "  <tbody>\n",
              "    <tr>\n",
              "      <th>product</th>\n",
              "      <td>0.003629</td>\n",
              "    </tr>\n",
              "    <tr>\n",
              "      <th>category</th>\n",
              "      <td>0.000000</td>\n",
              "    </tr>\n",
              "    <tr>\n",
              "      <th>sub_category</th>\n",
              "      <td>0.000000</td>\n",
              "    </tr>\n",
              "    <tr>\n",
              "      <th>brand</th>\n",
              "      <td>0.003629</td>\n",
              "    </tr>\n",
              "    <tr>\n",
              "      <th>sale_price</th>\n",
              "      <td>0.000000</td>\n",
              "    </tr>\n",
              "    <tr>\n",
              "      <th>market_price</th>\n",
              "      <td>0.000000</td>\n",
              "    </tr>\n",
              "    <tr>\n",
              "      <th>type</th>\n",
              "      <td>0.000000</td>\n",
              "    </tr>\n",
              "    <tr>\n",
              "      <th>rating</th>\n",
              "      <td>31.304663</td>\n",
              "    </tr>\n",
              "    <tr>\n",
              "      <th>description</th>\n",
              "      <td>0.417347</td>\n",
              "    </tr>\n",
              "    <tr>\n",
              "      <th>instruction</th>\n",
              "      <td>0.000000</td>\n",
              "    </tr>\n",
              "    <tr>\n",
              "      <th>input</th>\n",
              "      <td>6.261659</td>\n",
              "    </tr>\n",
              "    <tr>\n",
              "      <th>response</th>\n",
              "      <td>0.000000</td>\n",
              "    </tr>\n",
              "  </tbody>\n",
              "</table>\n",
              "</div><br><label><b>dtype:</b> float64</label>"
            ]
          },
          "metadata": {},
          "execution_count": 104
        }
      ]
    },
    {
      "cell_type": "code",
      "source": [
        "len(df)"
      ],
      "metadata": {
        "colab": {
          "base_uri": "https://localhost:8080/"
        },
        "id": "hQ4cLvTy7nh5",
        "outputId": "92468e71-ec43-4004-8011-e87b0d4d9ac8"
      },
      "execution_count": 13,
      "outputs": [
        {
          "output_type": "execute_result",
          "data": {
            "text/plain": [
              "137775"
            ]
          },
          "metadata": {},
          "execution_count": 13
        }
      ]
    },
    {
      "cell_type": "code",
      "source": [
        "\n",
        "# df.drop(\"index\", axis=1, inplace=True)\n"
      ],
      "metadata": {
        "id": "GQMVsd2-9bkx"
      },
      "execution_count": 14,
      "outputs": []
    },
    {
      "cell_type": "code",
      "source": [
        "#One form of transforming training data: combining all the fields\n",
        "import re\n",
        "\n",
        "def preprocess_text(text):\n",
        "    # Convert to lowercase\n",
        "    text = text.lower()\n",
        "    # Remove special characters and extra whitespace\n",
        "    text = re.sub(r'[^a-zA-Z0-9\\s]', '', text)\n",
        "    text = re.sub(r'<.*?>', '', text)  # Remove HTML tags\n",
        "    text = re.sub(r'[^\\w\\s]', '', text) # Remove punctuation\n",
        "    text = re.sub(r'\\s+', ' ', text).strip()\n",
        "    return text\n",
        "\n",
        "def combine_fields(row):\n",
        "    # Combine all fields into a single text\n",
        "    combined_text = f\"Product: {row['product']}\"\n",
        "    combined_text = f\"category: {row['category']}\"\n",
        "    combined_text = f\"Sub_category: {row['sub_category']}\"\n",
        "    combined_text = f\"brand: {row['brand']}\"\n",
        "    combined_text += f\"Sale_price: ${row['sale_price']:.2f}\"\n",
        "    combined_text += f\"Market_price: ${row['market_price']:.2f}\"\n",
        "    combined_text += f\"Type: {row['type']}\"\n",
        "    combined_text += f\"Rating: {row['rating']} \"\n",
        "    combined_text += f\"Description: {row['description']}\"\n",
        "    # Preprocess the combined text\n",
        "    return preprocess_text(combined_text)\n",
        "\n"
      ],
      "metadata": {
        "id": "3NKVaAs4YtKn"
      },
      "execution_count": 14,
      "outputs": []
    },
    {
      "cell_type": "code",
      "source": [
        "\n",
        "# Apply preprocessing to each row\n",
        "df['preprocessed_text'] = df_.apply(combine_fields, axis=1)\n",
        "\n"
      ],
      "metadata": {
        "id": "ztS98zyP94hN"
      },
      "execution_count": 15,
      "outputs": []
    },
    {
      "cell_type": "code",
      "source": [
        "\n",
        "df.head()\n"
      ],
      "metadata": {
        "colab": {
          "base_uri": "https://localhost:8080/",
          "height": 293
        },
        "id": "SNGRvM-b8QnJ",
        "outputId": "5710a852-5a02-41d3-c147-3cf8d83b884a"
      },
      "execution_count": 16,
      "outputs": [
        {
          "output_type": "execute_result",
          "data": {
            "text/plain": [
              "                                             product                category  \\\n",
              "0             Garlic Oil - Vegetarian Capsule 500 mg        Beauty & Hygiene   \n",
              "1                              Water Bottle - Orange  Kitchen, Garden & Pets   \n",
              "2                     Brass Angle Deep - Plain, No.2    Cleaning & Household   \n",
              "3  Cereal Flip Lid Container/Storage Jar - Assort...    Cleaning & Household   \n",
              "4                 Creme Soft Soap - For Hands & Body        Beauty & Hygiene   \n",
              "\n",
              "            sub_category              brand  sale_price  market_price  \\\n",
              "0              Hair Care  Sri Sri Ayurveda        220.0         220.0   \n",
              "1  Storage & Accessories         Mastercook       180.0         180.0   \n",
              "2            Pooja Needs                Trm       119.0         250.0   \n",
              "3   Bins & Bathroom Ware             Nakoda       149.0         176.0   \n",
              "4       Bath & Hand Wash              Nivea       162.0         162.0   \n",
              "\n",
              "                       type  rating  \\\n",
              "0          Hair Oil & Serum     4.1   \n",
              "1    Water & Fridge Bottles     2.3   \n",
              "2           Lamp & Lamp Oil     3.4   \n",
              "3  Laundry, Storage Baskets     3.7   \n",
              "4      Bathing Bars & Soaps     4.4   \n",
              "\n",
              "                                         description  \\\n",
              "0  This Product contains Garlic Oil that is known...   \n",
              "1  Each product is microwave safe (without lid), ...   \n",
              "2  A perfect gift for all occasions, be it your m...   \n",
              "3  Multipurpose container with an attractive desi...   \n",
              "4  Nivea Creme Soft Soap gives your skin the best...   \n",
              "\n",
              "                                   preprocessed_text  \n",
              "0  brand sri sri ayurveda saleprice 22000marketpr...  \n",
              "1  brand mastercooksaleprice 18000marketprice 180...  \n",
              "2  brand trmsaleprice 11900marketprice 25000type ...  \n",
              "3  brand nakodasaleprice 14900marketprice 17600ty...  \n",
              "4  brand niveasaleprice 16200marketprice 16200typ...  "
            ],
            "text/html": [
              "\n",
              "  <div id=\"df-96439e3c-bae8-4cd2-8980-43042b35e10c\" class=\"colab-df-container\">\n",
              "    <div>\n",
              "<style scoped>\n",
              "    .dataframe tbody tr th:only-of-type {\n",
              "        vertical-align: middle;\n",
              "    }\n",
              "\n",
              "    .dataframe tbody tr th {\n",
              "        vertical-align: top;\n",
              "    }\n",
              "\n",
              "    .dataframe thead th {\n",
              "        text-align: right;\n",
              "    }\n",
              "</style>\n",
              "<table border=\"1\" class=\"dataframe\">\n",
              "  <thead>\n",
              "    <tr style=\"text-align: right;\">\n",
              "      <th></th>\n",
              "      <th>product</th>\n",
              "      <th>category</th>\n",
              "      <th>sub_category</th>\n",
              "      <th>brand</th>\n",
              "      <th>sale_price</th>\n",
              "      <th>market_price</th>\n",
              "      <th>type</th>\n",
              "      <th>rating</th>\n",
              "      <th>description</th>\n",
              "      <th>preprocessed_text</th>\n",
              "    </tr>\n",
              "  </thead>\n",
              "  <tbody>\n",
              "    <tr>\n",
              "      <th>0</th>\n",
              "      <td>Garlic Oil - Vegetarian Capsule 500 mg</td>\n",
              "      <td>Beauty &amp; Hygiene</td>\n",
              "      <td>Hair Care</td>\n",
              "      <td>Sri Sri Ayurveda</td>\n",
              "      <td>220.0</td>\n",
              "      <td>220.0</td>\n",
              "      <td>Hair Oil &amp; Serum</td>\n",
              "      <td>4.1</td>\n",
              "      <td>This Product contains Garlic Oil that is known...</td>\n",
              "      <td>brand sri sri ayurveda saleprice 22000marketpr...</td>\n",
              "    </tr>\n",
              "    <tr>\n",
              "      <th>1</th>\n",
              "      <td>Water Bottle - Orange</td>\n",
              "      <td>Kitchen, Garden &amp; Pets</td>\n",
              "      <td>Storage &amp; Accessories</td>\n",
              "      <td>Mastercook</td>\n",
              "      <td>180.0</td>\n",
              "      <td>180.0</td>\n",
              "      <td>Water &amp; Fridge Bottles</td>\n",
              "      <td>2.3</td>\n",
              "      <td>Each product is microwave safe (without lid), ...</td>\n",
              "      <td>brand mastercooksaleprice 18000marketprice 180...</td>\n",
              "    </tr>\n",
              "    <tr>\n",
              "      <th>2</th>\n",
              "      <td>Brass Angle Deep - Plain, No.2</td>\n",
              "      <td>Cleaning &amp; Household</td>\n",
              "      <td>Pooja Needs</td>\n",
              "      <td>Trm</td>\n",
              "      <td>119.0</td>\n",
              "      <td>250.0</td>\n",
              "      <td>Lamp &amp; Lamp Oil</td>\n",
              "      <td>3.4</td>\n",
              "      <td>A perfect gift for all occasions, be it your m...</td>\n",
              "      <td>brand trmsaleprice 11900marketprice 25000type ...</td>\n",
              "    </tr>\n",
              "    <tr>\n",
              "      <th>3</th>\n",
              "      <td>Cereal Flip Lid Container/Storage Jar - Assort...</td>\n",
              "      <td>Cleaning &amp; Household</td>\n",
              "      <td>Bins &amp; Bathroom Ware</td>\n",
              "      <td>Nakoda</td>\n",
              "      <td>149.0</td>\n",
              "      <td>176.0</td>\n",
              "      <td>Laundry, Storage Baskets</td>\n",
              "      <td>3.7</td>\n",
              "      <td>Multipurpose container with an attractive desi...</td>\n",
              "      <td>brand nakodasaleprice 14900marketprice 17600ty...</td>\n",
              "    </tr>\n",
              "    <tr>\n",
              "      <th>4</th>\n",
              "      <td>Creme Soft Soap - For Hands &amp; Body</td>\n",
              "      <td>Beauty &amp; Hygiene</td>\n",
              "      <td>Bath &amp; Hand Wash</td>\n",
              "      <td>Nivea</td>\n",
              "      <td>162.0</td>\n",
              "      <td>162.0</td>\n",
              "      <td>Bathing Bars &amp; Soaps</td>\n",
              "      <td>4.4</td>\n",
              "      <td>Nivea Creme Soft Soap gives your skin the best...</td>\n",
              "      <td>brand niveasaleprice 16200marketprice 16200typ...</td>\n",
              "    </tr>\n",
              "  </tbody>\n",
              "</table>\n",
              "</div>\n",
              "    <div class=\"colab-df-buttons\">\n",
              "\n",
              "  <div class=\"colab-df-container\">\n",
              "    <button class=\"colab-df-convert\" onclick=\"convertToInteractive('df-96439e3c-bae8-4cd2-8980-43042b35e10c')\"\n",
              "            title=\"Convert this dataframe to an interactive table.\"\n",
              "            style=\"display:none;\">\n",
              "\n",
              "  <svg xmlns=\"http://www.w3.org/2000/svg\" height=\"24px\" viewBox=\"0 -960 960 960\">\n",
              "    <path d=\"M120-120v-720h720v720H120Zm60-500h600v-160H180v160Zm220 220h160v-160H400v160Zm0 220h160v-160H400v160ZM180-400h160v-160H180v160Zm440 0h160v-160H620v160ZM180-180h160v-160H180v160Zm440 0h160v-160H620v160Z\"/>\n",
              "  </svg>\n",
              "    </button>\n",
              "\n",
              "  <style>\n",
              "    .colab-df-container {\n",
              "      display:flex;\n",
              "      gap: 12px;\n",
              "    }\n",
              "\n",
              "    .colab-df-convert {\n",
              "      background-color: #E8F0FE;\n",
              "      border: none;\n",
              "      border-radius: 50%;\n",
              "      cursor: pointer;\n",
              "      display: none;\n",
              "      fill: #1967D2;\n",
              "      height: 32px;\n",
              "      padding: 0 0 0 0;\n",
              "      width: 32px;\n",
              "    }\n",
              "\n",
              "    .colab-df-convert:hover {\n",
              "      background-color: #E2EBFA;\n",
              "      box-shadow: 0px 1px 2px rgba(60, 64, 67, 0.3), 0px 1px 3px 1px rgba(60, 64, 67, 0.15);\n",
              "      fill: #174EA6;\n",
              "    }\n",
              "\n",
              "    .colab-df-buttons div {\n",
              "      margin-bottom: 4px;\n",
              "    }\n",
              "\n",
              "    [theme=dark] .colab-df-convert {\n",
              "      background-color: #3B4455;\n",
              "      fill: #D2E3FC;\n",
              "    }\n",
              "\n",
              "    [theme=dark] .colab-df-convert:hover {\n",
              "      background-color: #434B5C;\n",
              "      box-shadow: 0px 1px 3px 1px rgba(0, 0, 0, 0.15);\n",
              "      filter: drop-shadow(0px 1px 2px rgba(0, 0, 0, 0.3));\n",
              "      fill: #FFFFFF;\n",
              "    }\n",
              "  </style>\n",
              "\n",
              "    <script>\n",
              "      const buttonEl =\n",
              "        document.querySelector('#df-96439e3c-bae8-4cd2-8980-43042b35e10c button.colab-df-convert');\n",
              "      buttonEl.style.display =\n",
              "        google.colab.kernel.accessAllowed ? 'block' : 'none';\n",
              "\n",
              "      async function convertToInteractive(key) {\n",
              "        const element = document.querySelector('#df-96439e3c-bae8-4cd2-8980-43042b35e10c');\n",
              "        const dataTable =\n",
              "          await google.colab.kernel.invokeFunction('convertToInteractive',\n",
              "                                                    [key], {});\n",
              "        if (!dataTable) return;\n",
              "\n",
              "        const docLinkHtml = 'Like what you see? Visit the ' +\n",
              "          '<a target=\"_blank\" href=https://colab.research.google.com/notebooks/data_table.ipynb>data table notebook</a>'\n",
              "          + ' to learn more about interactive tables.';\n",
              "        element.innerHTML = '';\n",
              "        dataTable['output_type'] = 'display_data';\n",
              "        await google.colab.output.renderOutput(dataTable, element);\n",
              "        const docLink = document.createElement('div');\n",
              "        docLink.innerHTML = docLinkHtml;\n",
              "        element.appendChild(docLink);\n",
              "      }\n",
              "    </script>\n",
              "  </div>\n",
              "\n",
              "\n",
              "<div id=\"df-d23551c3-5f24-4b28-b5fe-22ed5cc35802\">\n",
              "  <button class=\"colab-df-quickchart\" onclick=\"quickchart('df-d23551c3-5f24-4b28-b5fe-22ed5cc35802')\"\n",
              "            title=\"Suggest charts\"\n",
              "            style=\"display:none;\">\n",
              "\n",
              "<svg xmlns=\"http://www.w3.org/2000/svg\" height=\"24px\"viewBox=\"0 0 24 24\"\n",
              "     width=\"24px\">\n",
              "    <g>\n",
              "        <path d=\"M19 3H5c-1.1 0-2 .9-2 2v14c0 1.1.9 2 2 2h14c1.1 0 2-.9 2-2V5c0-1.1-.9-2-2-2zM9 17H7v-7h2v7zm4 0h-2V7h2v10zm4 0h-2v-4h2v4z\"/>\n",
              "    </g>\n",
              "</svg>\n",
              "  </button>\n",
              "\n",
              "<style>\n",
              "  .colab-df-quickchart {\n",
              "      --bg-color: #E8F0FE;\n",
              "      --fill-color: #1967D2;\n",
              "      --hover-bg-color: #E2EBFA;\n",
              "      --hover-fill-color: #174EA6;\n",
              "      --disabled-fill-color: #AAA;\n",
              "      --disabled-bg-color: #DDD;\n",
              "  }\n",
              "\n",
              "  [theme=dark] .colab-df-quickchart {\n",
              "      --bg-color: #3B4455;\n",
              "      --fill-color: #D2E3FC;\n",
              "      --hover-bg-color: #434B5C;\n",
              "      --hover-fill-color: #FFFFFF;\n",
              "      --disabled-bg-color: #3B4455;\n",
              "      --disabled-fill-color: #666;\n",
              "  }\n",
              "\n",
              "  .colab-df-quickchart {\n",
              "    background-color: var(--bg-color);\n",
              "    border: none;\n",
              "    border-radius: 50%;\n",
              "    cursor: pointer;\n",
              "    display: none;\n",
              "    fill: var(--fill-color);\n",
              "    height: 32px;\n",
              "    padding: 0;\n",
              "    width: 32px;\n",
              "  }\n",
              "\n",
              "  .colab-df-quickchart:hover {\n",
              "    background-color: var(--hover-bg-color);\n",
              "    box-shadow: 0 1px 2px rgba(60, 64, 67, 0.3), 0 1px 3px 1px rgba(60, 64, 67, 0.15);\n",
              "    fill: var(--button-hover-fill-color);\n",
              "  }\n",
              "\n",
              "  .colab-df-quickchart-complete:disabled,\n",
              "  .colab-df-quickchart-complete:disabled:hover {\n",
              "    background-color: var(--disabled-bg-color);\n",
              "    fill: var(--disabled-fill-color);\n",
              "    box-shadow: none;\n",
              "  }\n",
              "\n",
              "  .colab-df-spinner {\n",
              "    border: 2px solid var(--fill-color);\n",
              "    border-color: transparent;\n",
              "    border-bottom-color: var(--fill-color);\n",
              "    animation:\n",
              "      spin 1s steps(1) infinite;\n",
              "  }\n",
              "\n",
              "  @keyframes spin {\n",
              "    0% {\n",
              "      border-color: transparent;\n",
              "      border-bottom-color: var(--fill-color);\n",
              "      border-left-color: var(--fill-color);\n",
              "    }\n",
              "    20% {\n",
              "      border-color: transparent;\n",
              "      border-left-color: var(--fill-color);\n",
              "      border-top-color: var(--fill-color);\n",
              "    }\n",
              "    30% {\n",
              "      border-color: transparent;\n",
              "      border-left-color: var(--fill-color);\n",
              "      border-top-color: var(--fill-color);\n",
              "      border-right-color: var(--fill-color);\n",
              "    }\n",
              "    40% {\n",
              "      border-color: transparent;\n",
              "      border-right-color: var(--fill-color);\n",
              "      border-top-color: var(--fill-color);\n",
              "    }\n",
              "    60% {\n",
              "      border-color: transparent;\n",
              "      border-right-color: var(--fill-color);\n",
              "    }\n",
              "    80% {\n",
              "      border-color: transparent;\n",
              "      border-right-color: var(--fill-color);\n",
              "      border-bottom-color: var(--fill-color);\n",
              "    }\n",
              "    90% {\n",
              "      border-color: transparent;\n",
              "      border-bottom-color: var(--fill-color);\n",
              "    }\n",
              "  }\n",
              "</style>\n",
              "\n",
              "  <script>\n",
              "    async function quickchart(key) {\n",
              "      const quickchartButtonEl =\n",
              "        document.querySelector('#' + key + ' button');\n",
              "      quickchartButtonEl.disabled = true;  // To prevent multiple clicks.\n",
              "      quickchartButtonEl.classList.add('colab-df-spinner');\n",
              "      try {\n",
              "        const charts = await google.colab.kernel.invokeFunction(\n",
              "            'suggestCharts', [key], {});\n",
              "      } catch (error) {\n",
              "        console.error('Error during call to suggestCharts:', error);\n",
              "      }\n",
              "      quickchartButtonEl.classList.remove('colab-df-spinner');\n",
              "      quickchartButtonEl.classList.add('colab-df-quickchart-complete');\n",
              "    }\n",
              "    (() => {\n",
              "      let quickchartButtonEl =\n",
              "        document.querySelector('#df-d23551c3-5f24-4b28-b5fe-22ed5cc35802 button');\n",
              "      quickchartButtonEl.style.display =\n",
              "        google.colab.kernel.accessAllowed ? 'block' : 'none';\n",
              "    })();\n",
              "  </script>\n",
              "</div>\n",
              "\n",
              "    </div>\n",
              "  </div>\n"
            ],
            "application/vnd.google.colaboratory.intrinsic+json": {
              "type": "dataframe",
              "variable_name": "df_",
              "summary": "{\n  \"name\": \"df_\",\n  \"rows\": 27555,\n  \"fields\": [\n    {\n      \"column\": \"product\",\n      \"properties\": {\n        \"dtype\": \"string\",\n        \"num_unique_values\": 23540,\n        \"samples\": [\n          \"Pure Impact Body Wash With Purifying Micro Particles - Shower Gel For Body, Face & Hair\",\n          \"Premium Care XXL - 30 Diaper Pants\",\n          \"Tomato - Green\"\n        ],\n        \"semantic_type\": \"\",\n        \"description\": \"\"\n      }\n    },\n    {\n      \"column\": \"category\",\n      \"properties\": {\n        \"dtype\": \"category\",\n        \"num_unique_values\": 11,\n        \"samples\": [\n          \"Snacks & Branded Foods\",\n          \"Beauty & Hygiene\",\n          \"Fruits & Vegetables\"\n        ],\n        \"semantic_type\": \"\",\n        \"description\": \"\"\n      }\n    },\n    {\n      \"column\": \"sub_category\",\n      \"properties\": {\n        \"dtype\": \"category\",\n        \"num_unique_values\": 90,\n        \"samples\": [\n          \"Crockery & Cutlery\",\n          \"Fragrances & Deos\",\n          \"Energy & Soft Drinks\"\n        ],\n        \"semantic_type\": \"\",\n        \"description\": \"\"\n      }\n    },\n    {\n      \"column\": \"brand\",\n      \"properties\": {\n        \"dtype\": \"category\",\n        \"num_unique_values\": 2313,\n        \"samples\": [\n          \"Red Label\",\n          \"Lomani\",\n          \"Happily Unmarried\"\n        ],\n        \"semantic_type\": \"\",\n        \"description\": \"\"\n      }\n    },\n    {\n      \"column\": \"sale_price\",\n      \"properties\": {\n        \"dtype\": \"number\",\n        \"std\": 486.26311554286923,\n        \"min\": 2.45,\n        \"max\": 12500.0,\n        \"num_unique_values\": 3256,\n        \"samples\": [\n          2880.0,\n          40.0,\n          293.02\n        ],\n        \"semantic_type\": \"\",\n        \"description\": \"\"\n      }\n    },\n    {\n      \"column\": \"market_price\",\n      \"properties\": {\n        \"dtype\": \"number\",\n        \"std\": 581.7307174034938,\n        \"min\": 3.0,\n        \"max\": 12500.0,\n        \"num_unique_values\": 1348,\n        \"samples\": [\n          192.0,\n          1164.0,\n          74.38\n        ],\n        \"semantic_type\": \"\",\n        \"description\": \"\"\n      }\n    },\n    {\n      \"column\": \"type\",\n      \"properties\": {\n        \"dtype\": \"category\",\n        \"num_unique_values\": 426,\n        \"samples\": [\n          \"Nappies & Rash Cream\",\n          \"Hair Removal\",\n          \"Crackers & Digestive\"\n        ],\n        \"semantic_type\": \"\",\n        \"description\": \"\"\n      }\n    },\n    {\n      \"column\": \"rating\",\n      \"properties\": {\n        \"dtype\": \"number\",\n        \"std\": 0.739062982864513,\n        \"min\": 1.0,\n        \"max\": 5.0,\n        \"num_unique_values\": 40,\n        \"samples\": [\n          3.0,\n          1.5,\n          3.9\n        ],\n        \"semantic_type\": \"\",\n        \"description\": \"\"\n      }\n    },\n    {\n      \"column\": \"description\",\n      \"properties\": {\n        \"dtype\": \"string\",\n        \"num_unique_values\": 21944,\n        \"samples\": [\n          \"Premium Day Face Cream:Lightweight formula that will give your skin a daily boost of radiance and hydration. Packed with the goodness of skin brightening, Vitamin C Why Is It Special?- It contains the Most Stable & Effective form of Vitamin C, 3-O Ethyl Ascorbic Acid. It is the next generation Vitamin C that really works in improving skin health.- Vitamin C is a proven skin-brightening agent known for its antioxidant properties for decades. It boosts collagen formation and effectively targets visible signs of ageing, giving skin the much-needed glow. - The presence of Vitamin E, Pro-Vitamin B5 & Vitamin B3 helps awaken and clarify your complexion, revealing a natural healthy-looking glow. - SPF 30 & PA+++ provide the highest level of protection against UVA & UVB rays of the sun. The mineral-based sun protection agents shield the skin against the harsh solar radiation, minimizing skin dryness and dullness. - Multiple natural oils are combined for intense hydration and nourishment. Antioxidant-rich botanical extracts are added to keep skin moisturized, smooth & soft. - St.Botanica is a PETA-certified cruelty-free brand. The product does not contain any harmful chemicals & is free from parabens, silicones or mineral oils.\",\n          \"Kari Kari Japanese premium snacks are the exciting irresistible new taste of crunch. Lite and crispy, the savoury rice crackers are mixed with peanuts to make hearty, wholesome snack with delicious, bold and zesty taste with every bite.\",\n          \"Safely store your food in this pink lunch box. The lunch box is made plastic which gives the container durability and sturdiness. The rectangular containers come with an airtight lid to keep food fresh for long. The wide mouth opening of the lunch makes it easy to fill food and easy to clean. The set makes a great gift option for special days.\"\n        ],\n        \"semantic_type\": \"\",\n        \"description\": \"\"\n      }\n    },\n    {\n      \"column\": \"preprocessed_text\",\n      \"properties\": {\n        \"dtype\": \"string\",\n        \"num_unique_values\": 25639,\n        \"samples\": [\n          \"brand mtrsaleprice 3700marketprice 4000type powdered spicesrating 43 description mtr chili powder is a mix of ground dried fruit of red or cayenne chili peppers and other spices it is utilized to add heat or spice to dishes\",\n          \"brand old spicesaleprice 17910marketprice 19900type mens deodorantsrating 38 description old spice brings you a broad line of fragrance products for men who live a dynamic and unconventional life distinctively masculine scents that invigorate and refresh old spice deodorant spray envelops you in a clean manly scent that has served mankind for decades turning your armpit house into an armpit home for beauty tips tricks more visit httpsbigbasketblog\",\n          \"brand palmolivesaleprice 29852marketprice 39800type shower gel body washrating 43 description palmolive aroma absolute relax body wash is infused with ylang ylang essential oil and delicate iris extract to provide you the essence of relaxation of a blissful shower moment savor the relaxing effects of aroma under the shower palmolive bodywashes for women and men are available in a number of variants to choose from including body wash shower gel and creams for beauty tips tricks more visit httpsbigbasketblog\"\n        ],\n        \"semantic_type\": \"\",\n        \"description\": \"\"\n      }\n    }\n  ]\n}"
            }
          },
          "metadata": {},
          "execution_count": 16
        }
      ]
    },
    {
      "source": [
        "# @title Average Sale Price by Category\n",
        "\n",
        "import matplotlib.pyplot as plt\n",
        "\n",
        "# Assuming your data is in a pandas DataFrame called 'df_'\n",
        "category_avg_prices = df_.groupby('category')['sale_price'].mean().sort_values(ascending=False)\n",
        "\n",
        "plt.figure(figsize=(12, 6))\n",
        "plt.bar(category_avg_prices.index, category_avg_prices.values)\n",
        "plt.xlabel('Category')\n",
        "plt.ylabel('Average Sale Price')\n",
        "plt.title('Average Sale Price by Category')\n",
        "_ = plt.xticks(rotation=45, ha='right')"
      ],
      "cell_type": "code",
      "execution_count": 26,
      "outputs": [
        {
          "output_type": "display_data",
          "data": {
            "text/plain": [
              "<Figure size 1200x600 with 1 Axes>"
            ],
            "image/png": "[encoded data removed]"
          },
          "metadata": {}
        }
      ],
      "metadata": {
        "colab": {
          "base_uri": "https://localhost:8080/",
          "height": 682
        },
        "id": "Uyb9KBT5Dyr2",
        "outputId": "7e00f702-113e-4e65-d915-021d3e381402"
      }
    },
    {
      "cell_type": "code",
      "source": [
        "\n",
        "#Transforming the raw input data using special tags to highlight specific fields\n",
        "\n",
        "def preprocess_data(df):\n",
        "    \"\"\"Preprocesses the product dataset for fine-tuning a LLaMA model.\n",
        "\n",
        "    Args:\n",
        "        df (pd.DataFrame): The input DataFrame with the specified columns.\n",
        "\n",
        "    Returns:\n",
        "        pd.DataFrame: The preprocessed DataFrame with a 'combined_text' column.\n",
        "    \"\"\"\n",
        "\n",
        "    def combine_text_fields(row):\n",
        "        \"\"\"Combines text fields with special tokens.\"\"\"\n",
        "        return f\"\"\"\n",
        "<p>{row['product']}</p>\n",
        "<c>{row['category']}</c>\n",
        "<sc>{row['sub_category']}</sc>\n",
        "<br>{row['brand']}</br>\n",
        "<sp>${row['sale_price']}</sp>\n",
        "<mp>${row['market_price']}</mp>\n",
        "<t>{row['type']}</t>\n",
        "<r>{row['rating']} stars</r>\n",
        "<d>{row['description']}</d>\n",
        "\"\"\"\n",
        "\n",
        "    # Apply the function to create the combined text column\n",
        "    df['combined_text'] = df.apply(combine_text_fields, axis=1)\n",
        "\n",
        "    # Additional text cleaning or formatting can be done here if needed\n",
        "    # ...\n",
        "\n",
        "    return df\n",
        "\n",
        "\n"
      ],
      "metadata": {
        "id": "0JwgM2yV-kl9"
      },
      "execution_count": 17,
      "outputs": []
    },
    {
      "cell_type": "code",
      "source": [
        "\n",
        "# Preprocess the data\n",
        "processed_df = preprocess_data(df_)\n"
      ],
      "metadata": {
        "id": "rXzn-6lC-b0w"
      },
      "execution_count": 18,
      "outputs": []
    },
    {
      "cell_type": "code",
      "source": [
        "processed_df.head()"
      ],
      "metadata": {
        "colab": {
          "base_uri": "https://localhost:8080/",
          "height": 328
        },
        "id": "cjotyY5oKE3t",
        "outputId": "a12c0b52-d2e0-4b9f-b304-2cdbfd674e26"
      },
      "execution_count": 19,
      "outputs": [
        {
          "output_type": "execute_result",
          "data": {
            "text/plain": [
              "                                             product                category  \\\n",
              "0             Garlic Oil - Vegetarian Capsule 500 mg        Beauty & Hygiene   \n",
              "1                              Water Bottle - Orange  Kitchen, Garden & Pets   \n",
              "2                     Brass Angle Deep - Plain, No.2    Cleaning & Household   \n",
              "3  Cereal Flip Lid Container/Storage Jar - Assort...    Cleaning & Household   \n",
              "4                 Creme Soft Soap - For Hands & Body        Beauty & Hygiene   \n",
              "\n",
              "            sub_category              brand  sale_price  market_price  \\\n",
              "0              Hair Care  Sri Sri Ayurveda        220.0         220.0   \n",
              "1  Storage & Accessories         Mastercook       180.0         180.0   \n",
              "2            Pooja Needs                Trm       119.0         250.0   \n",
              "3   Bins & Bathroom Ware             Nakoda       149.0         176.0   \n",
              "4       Bath & Hand Wash              Nivea       162.0         162.0   \n",
              "\n",
              "                       type  rating  \\\n",
              "0          Hair Oil & Serum     4.1   \n",
              "1    Water & Fridge Bottles     2.3   \n",
              "2           Lamp & Lamp Oil     3.4   \n",
              "3  Laundry, Storage Baskets     3.7   \n",
              "4      Bathing Bars & Soaps     4.4   \n",
              "\n",
              "                                         description  \\\n",
              "0  This Product contains Garlic Oil that is known...   \n",
              "1  Each product is microwave safe (without lid), ...   \n",
              "2  A perfect gift for all occasions, be it your m...   \n",
              "3  Multipurpose container with an attractive desi...   \n",
              "4  Nivea Creme Soft Soap gives your skin the best...   \n",
              "\n",
              "                                   preprocessed_text  \\\n",
              "0  brand sri sri ayurveda saleprice 22000marketpr...   \n",
              "1  brand mastercooksaleprice 18000marketprice 180...   \n",
              "2  brand trmsaleprice 11900marketprice 25000type ...   \n",
              "3  brand nakodasaleprice 14900marketprice 17600ty...   \n",
              "4  brand niveasaleprice 16200marketprice 16200typ...   \n",
              "\n",
              "                                       combined_text  \n",
              "0  \\n<p>Garlic Oil - Vegetarian Capsule 500 mg</p...  \n",
              "1  \\n<p>Water Bottle - Orange</p>\\n<c>Kitchen, Ga...  \n",
              "2  \\n<p>Brass Angle Deep - Plain, No.2</p>\\n<c>Cl...  \n",
              "3  \\n<p>Cereal Flip Lid Container/Storage Jar - A...  \n",
              "4  \\n<p>Creme Soft Soap - For Hands & Body</p>\\n<...  "
            ],
            "text/html": [
              "\n",
              "  <div id=\"df-a18b8798-bfa8-4bc8-8afc-c2637a2e7775\" class=\"colab-df-container\">\n",
              "    <div>\n",
              "<style scoped>\n",
              "    .dataframe tbody tr th:only-of-type {\n",
              "        vertical-align: middle;\n",
              "    }\n",
              "\n",
              "    .dataframe tbody tr th {\n",
              "        vertical-align: top;\n",
              "    }\n",
              "\n",
              "    .dataframe thead th {\n",
              "        text-align: right;\n",
              "    }\n",
              "</style>\n",
              "<table border=\"1\" class=\"dataframe\">\n",
              "  <thead>\n",
              "    <tr style=\"text-align: right;\">\n",
              "      <th></th>\n",
              "      <th>product</th>\n",
              "      <th>category</th>\n",
              "      <th>sub_category</th>\n",
              "      <th>brand</th>\n",
              "      <th>sale_price</th>\n",
              "      <th>market_price</th>\n",
              "      <th>type</th>\n",
              "      <th>rating</th>\n",
              "      <th>description</th>\n",
              "      <th>preprocessed_text</th>\n",
              "      <th>combined_text</th>\n",
              "    </tr>\n",
              "  </thead>\n",
              "  <tbody>\n",
              "    <tr>\n",
              "      <th>0</th>\n",
              "      <td>Garlic Oil - Vegetarian Capsule 500 mg</td>\n",
              "      <td>Beauty &amp; Hygiene</td>\n",
              "      <td>Hair Care</td>\n",
              "      <td>Sri Sri Ayurveda</td>\n",
              "      <td>220.0</td>\n",
              "      <td>220.0</td>\n",
              "      <td>Hair Oil &amp; Serum</td>\n",
              "      <td>4.1</td>\n",
              "      <td>This Product contains Garlic Oil that is known...</td>\n",
              "      <td>brand sri sri ayurveda saleprice 22000marketpr...</td>\n",
              "      <td>\\n&lt;p&gt;Garlic Oil - Vegetarian Capsule 500 mg&lt;/p...</td>\n",
              "    </tr>\n",
              "    <tr>\n",
              "      <th>1</th>\n",
              "      <td>Water Bottle - Orange</td>\n",
              "      <td>Kitchen, Garden &amp; Pets</td>\n",
              "      <td>Storage &amp; Accessories</td>\n",
              "      <td>Mastercook</td>\n",
              "      <td>180.0</td>\n",
              "      <td>180.0</td>\n",
              "      <td>Water &amp; Fridge Bottles</td>\n",
              "      <td>2.3</td>\n",
              "      <td>Each product is microwave safe (without lid), ...</td>\n",
              "      <td>brand mastercooksaleprice 18000marketprice 180...</td>\n",
              "      <td>\\n&lt;p&gt;Water Bottle - Orange&lt;/p&gt;\\n&lt;c&gt;Kitchen, Ga...</td>\n",
              "    </tr>\n",
              "    <tr>\n",
              "      <th>2</th>\n",
              "      <td>Brass Angle Deep - Plain, No.2</td>\n",
              "      <td>Cleaning &amp; Household</td>\n",
              "      <td>Pooja Needs</td>\n",
              "      <td>Trm</td>\n",
              "      <td>119.0</td>\n",
              "      <td>250.0</td>\n",
              "      <td>Lamp &amp; Lamp Oil</td>\n",
              "      <td>3.4</td>\n",
              "      <td>A perfect gift for all occasions, be it your m...</td>\n",
              "      <td>brand trmsaleprice 11900marketprice 25000type ...</td>\n",
              "      <td>\\n&lt;p&gt;Brass Angle Deep - Plain, No.2&lt;/p&gt;\\n&lt;c&gt;Cl...</td>\n",
              "    </tr>\n",
              "    <tr>\n",
              "      <th>3</th>\n",
              "      <td>Cereal Flip Lid Container/Storage Jar - Assort...</td>\n",
              "      <td>Cleaning &amp; Household</td>\n",
              "      <td>Bins &amp; Bathroom Ware</td>\n",
              "      <td>Nakoda</td>\n",
              "      <td>149.0</td>\n",
              "      <td>176.0</td>\n",
              "      <td>Laundry, Storage Baskets</td>\n",
              "      <td>3.7</td>\n",
              "      <td>Multipurpose container with an attractive desi...</td>\n",
              "      <td>brand nakodasaleprice 14900marketprice 17600ty...</td>\n",
              "      <td>\\n&lt;p&gt;Cereal Flip Lid Container/Storage Jar - A...</td>\n",
              "    </tr>\n",
              "    <tr>\n",
              "      <th>4</th>\n",
              "      <td>Creme Soft Soap - For Hands &amp; Body</td>\n",
              "      <td>Beauty &amp; Hygiene</td>\n",
              "      <td>Bath &amp; Hand Wash</td>\n",
              "      <td>Nivea</td>\n",
              "      <td>162.0</td>\n",
              "      <td>162.0</td>\n",
              "      <td>Bathing Bars &amp; Soaps</td>\n",
              "      <td>4.4</td>\n",
              "      <td>Nivea Creme Soft Soap gives your skin the best...</td>\n",
              "      <td>brand niveasaleprice 16200marketprice 16200typ...</td>\n",
              "      <td>\\n&lt;p&gt;Creme Soft Soap - For Hands &amp; Body&lt;/p&gt;\\n&lt;...</td>\n",
              "    </tr>\n",
              "  </tbody>\n",
              "</table>\n",
              "</div>\n",
              "    <div class=\"colab-df-buttons\">\n",
              "\n",
              "  <div class=\"colab-df-container\">\n",
              "    <button class=\"colab-df-convert\" onclick=\"convertToInteractive('df-a18b8798-bfa8-4bc8-8afc-c2637a2e7775')\"\n",
              "            title=\"Convert this dataframe to an interactive table.\"\n",
              "            style=\"display:none;\">\n",
              "\n",
              "  <svg xmlns=\"http://www.w3.org/2000/svg\" height=\"24px\" viewBox=\"0 -960 960 960\">\n",
              "    <path d=\"M120-120v-720h720v720H120Zm60-500h600v-160H180v160Zm220 220h160v-160H400v160Zm0 220h160v-160H400v160ZM180-400h160v-160H180v160Zm440 0h160v-160H620v160ZM180-180h160v-160H180v160Zm440 0h160v-160H620v160Z\"/>\n",
              "  </svg>\n",
              "    </button>\n",
              "\n",
              "  <style>\n",
              "    .colab-df-container {\n",
              "      display:flex;\n",
              "      gap: 12px;\n",
              "    }\n",
              "\n",
              "    .colab-df-convert {\n",
              "      background-color: #E8F0FE;\n",
              "      border: none;\n",
              "      border-radius: 50%;\n",
              "      cursor: pointer;\n",
              "      display: none;\n",
              "      fill: #1967D2;\n",
              "      height: 32px;\n",
              "      padding: 0 0 0 0;\n",
              "      width: 32px;\n",
              "    }\n",
              "\n",
              "    .colab-df-convert:hover {\n",
              "      background-color: #E2EBFA;\n",
              "      box-shadow: 0px 1px 2px rgba(60, 64, 67, 0.3), 0px 1px 3px 1px rgba(60, 64, 67, 0.15);\n",
              "      fill: #174EA6;\n",
              "    }\n",
              "\n",
              "    .colab-df-buttons div {\n",
              "      margin-bottom: 4px;\n",
              "    }\n",
              "\n",
              "    [theme=dark] .colab-df-convert {\n",
              "      background-color: #3B4455;\n",
              "      fill: #D2E3FC;\n",
              "    }\n",
              "\n",
              "    [theme=dark] .colab-df-convert:hover {\n",
              "      background-color: #434B5C;\n",
              "      box-shadow: 0px 1px 3px 1px rgba(0, 0, 0, 0.15);\n",
              "      filter: drop-shadow(0px 1px 2px rgba(0, 0, 0, 0.3));\n",
              "      fill: #FFFFFF;\n",
              "    }\n",
              "  </style>\n",
              "\n",
              "    <script>\n",
              "      const buttonEl =\n",
              "        document.querySelector('#df-a18b8798-bfa8-4bc8-8afc-c2637a2e7775 button.colab-df-convert');\n",
              "      buttonEl.style.display =\n",
              "        google.colab.kernel.accessAllowed ? 'block' : 'none';\n",
              "\n",
              "      async function convertToInteractive(key) {\n",
              "        const element = document.querySelector('#df-a18b8798-bfa8-4bc8-8afc-c2637a2e7775');\n",
              "        const dataTable =\n",
              "          await google.colab.kernel.invokeFunction('convertToInteractive',\n",
              "                                                    [key], {});\n",
              "        if (!dataTable) return;\n",
              "\n",
              "        const docLinkHtml = 'Like what you see? Visit the ' +\n",
              "          '<a target=\"_blank\" href=https://colab.research.google.com/notebooks/data_table.ipynb>data table notebook</a>'\n",
              "          + ' to learn more about interactive tables.';\n",
              "        element.innerHTML = '';\n",
              "        dataTable['output_type'] = 'display_data';\n",
              "        await google.colab.output.renderOutput(dataTable, element);\n",
              "        const docLink = document.createElement('div');\n",
              "        docLink.innerHTML = docLinkHtml;\n",
              "        element.appendChild(docLink);\n",
              "      }\n",
              "    </script>\n",
              "  </div>\n",
              "\n",
              "\n",
              "<div id=\"df-9e3ca5a8-0080-4e7a-9f04-cc4523944c44\">\n",
              "  <button class=\"colab-df-quickchart\" onclick=\"quickchart('df-9e3ca5a8-0080-4e7a-9f04-cc4523944c44')\"\n",
              "            title=\"Suggest charts\"\n",
              "            style=\"display:none;\">\n",
              "\n",
              "<svg xmlns=\"http://www.w3.org/2000/svg\" height=\"24px\"viewBox=\"0 0 24 24\"\n",
              "     width=\"24px\">\n",
              "    <g>\n",
              "        <path d=\"M19 3H5c-1.1 0-2 .9-2 2v14c0 1.1.9 2 2 2h14c1.1 0 2-.9 2-2V5c0-1.1-.9-2-2-2zM9 17H7v-7h2v7zm4 0h-2V7h2v10zm4 0h-2v-4h2v4z\"/>\n",
              "    </g>\n",
              "</svg>\n",
              "  </button>\n",
              "\n",
              "<style>\n",
              "  .colab-df-quickchart {\n",
              "      --bg-color: #E8F0FE;\n",
              "      --fill-color: #1967D2;\n",
              "      --hover-bg-color: #E2EBFA;\n",
              "      --hover-fill-color: #174EA6;\n",
              "      --disabled-fill-color: #AAA;\n",
              "      --disabled-bg-color: #DDD;\n",
              "  }\n",
              "\n",
              "  [theme=dark] .colab-df-quickchart {\n",
              "      --bg-color: #3B4455;\n",
              "      --fill-color: #D2E3FC;\n",
              "      --hover-bg-color: #434B5C;\n",
              "      --hover-fill-color: #FFFFFF;\n",
              "      --disabled-bg-color: #3B4455;\n",
              "      --disabled-fill-color: #666;\n",
              "  }\n",
              "\n",
              "  .colab-df-quickchart {\n",
              "    background-color: var(--bg-color);\n",
              "    border: none;\n",
              "    border-radius: 50%;\n",
              "    cursor: pointer;\n",
              "    display: none;\n",
              "    fill: var(--fill-color);\n",
              "    height: 32px;\n",
              "    padding: 0;\n",
              "    width: 32px;\n",
              "  }\n",
              "\n",
              "  .colab-df-quickchart:hover {\n",
              "    background-color: var(--hover-bg-color);\n",
              "    box-shadow: 0 1px 2px rgba(60, 64, 67, 0.3), 0 1px 3px 1px rgba(60, 64, 67, 0.15);\n",
              "    fill: var(--button-hover-fill-color);\n",
              "  }\n",
              "\n",
              "  .colab-df-quickchart-complete:disabled,\n",
              "  .colab-df-quickchart-complete:disabled:hover {\n",
              "    background-color: var(--disabled-bg-color);\n",
              "    fill: var(--disabled-fill-color);\n",
              "    box-shadow: none;\n",
              "  }\n",
              "\n",
              "  .colab-df-spinner {\n",
              "    border: 2px solid var(--fill-color);\n",
              "    border-color: transparent;\n",
              "    border-bottom-color: var(--fill-color);\n",
              "    animation:\n",
              "      spin 1s steps(1) infinite;\n",
              "  }\n",
              "\n",
              "  @keyframes spin {\n",
              "    0% {\n",
              "      border-color: transparent;\n",
              "      border-bottom-color: var(--fill-color);\n",
              "      border-left-color: var(--fill-color);\n",
              "    }\n",
              "    20% {\n",
              "      border-color: transparent;\n",
              "      border-left-color: var(--fill-color);\n",
              "      border-top-color: var(--fill-color);\n",
              "    }\n",
              "    30% {\n",
              "      border-color: transparent;\n",
              "      border-left-color: var(--fill-color);\n",
              "      border-top-color: var(--fill-color);\n",
              "      border-right-color: var(--fill-color);\n",
              "    }\n",
              "    40% {\n",
              "      border-color: transparent;\n",
              "      border-right-color: var(--fill-color);\n",
              "      border-top-color: var(--fill-color);\n",
              "    }\n",
              "    60% {\n",
              "      border-color: transparent;\n",
              "      border-right-color: var(--fill-color);\n",
              "    }\n",
              "    80% {\n",
              "      border-color: transparent;\n",
              "      border-right-color: var(--fill-color);\n",
              "      border-bottom-color: var(--fill-color);\n",
              "    }\n",
              "    90% {\n",
              "      border-color: transparent;\n",
              "      border-bottom-color: var(--fill-color);\n",
              "    }\n",
              "  }\n",
              "</style>\n",
              "\n",
              "  <script>\n",
              "    async function quickchart(key) {\n",
              "      const quickchartButtonEl =\n",
              "        document.querySelector('#' + key + ' button');\n",
              "      quickchartButtonEl.disabled = true;  // To prevent multiple clicks.\n",
              "      quickchartButtonEl.classList.add('colab-df-spinner');\n",
              "      try {\n",
              "        const charts = await google.colab.kernel.invokeFunction(\n",
              "            'suggestCharts', [key], {});\n",
              "      } catch (error) {\n",
              "        console.error('Error during call to suggestCharts:', error);\n",
              "      }\n",
              "      quickchartButtonEl.classList.remove('colab-df-spinner');\n",
              "      quickchartButtonEl.classList.add('colab-df-quickchart-complete');\n",
              "    }\n",
              "    (() => {\n",
              "      let quickchartButtonEl =\n",
              "        document.querySelector('#df-9e3ca5a8-0080-4e7a-9f04-cc4523944c44 button');\n",
              "      quickchartButtonEl.style.display =\n",
              "        google.colab.kernel.accessAllowed ? 'block' : 'none';\n",
              "    })();\n",
              "  </script>\n",
              "</div>\n",
              "\n",
              "    </div>\n",
              "  </div>\n"
            ],
            "application/vnd.google.colaboratory.intrinsic+json": {
              "type": "dataframe",
              "variable_name": "processed_df",
              "summary": "{\n  \"name\": \"processed_df\",\n  \"rows\": 27555,\n  \"fields\": [\n    {\n      \"column\": \"product\",\n      \"properties\": {\n        \"dtype\": \"string\",\n        \"num_unique_values\": 23540,\n        \"samples\": [\n          \"Pure Impact Body Wash With Purifying Micro Particles - Shower Gel For Body, Face & Hair\",\n          \"Premium Care XXL - 30 Diaper Pants\",\n          \"Tomato - Green\"\n        ],\n        \"semantic_type\": \"\",\n        \"description\": \"\"\n      }\n    },\n    {\n      \"column\": \"category\",\n      \"properties\": {\n        \"dtype\": \"category\",\n        \"num_unique_values\": 11,\n        \"samples\": [\n          \"Snacks & Branded Foods\",\n          \"Beauty & Hygiene\",\n          \"Fruits & Vegetables\"\n        ],\n        \"semantic_type\": \"\",\n        \"description\": \"\"\n      }\n    },\n    {\n      \"column\": \"sub_category\",\n      \"properties\": {\n        \"dtype\": \"category\",\n        \"num_unique_values\": 90,\n        \"samples\": [\n          \"Crockery & Cutlery\",\n          \"Fragrances & Deos\",\n          \"Energy & Soft Drinks\"\n        ],\n        \"semantic_type\": \"\",\n        \"description\": \"\"\n      }\n    },\n    {\n      \"column\": \"brand\",\n      \"properties\": {\n        \"dtype\": \"category\",\n        \"num_unique_values\": 2313,\n        \"samples\": [\n          \"Red Label\",\n          \"Lomani\",\n          \"Happily Unmarried\"\n        ],\n        \"semantic_type\": \"\",\n        \"description\": \"\"\n      }\n    },\n    {\n      \"column\": \"sale_price\",\n      \"properties\": {\n        \"dtype\": \"number\",\n        \"std\": 486.26311554286923,\n        \"min\": 2.45,\n        \"max\": 12500.0,\n        \"num_unique_values\": 3256,\n        \"samples\": [\n          2880.0,\n          40.0,\n          293.02\n        ],\n        \"semantic_type\": \"\",\n        \"description\": \"\"\n      }\n    },\n    {\n      \"column\": \"market_price\",\n      \"properties\": {\n        \"dtype\": \"number\",\n        \"std\": 581.7307174034938,\n        \"min\": 3.0,\n        \"max\": 12500.0,\n        \"num_unique_values\": 1348,\n        \"samples\": [\n          192.0,\n          1164.0,\n          74.38\n        ],\n        \"semantic_type\": \"\",\n        \"description\": \"\"\n      }\n    },\n    {\n      \"column\": \"type\",\n      \"properties\": {\n        \"dtype\": \"category\",\n        \"num_unique_values\": 426,\n        \"samples\": [\n          \"Nappies & Rash Cream\",\n          \"Hair Removal\",\n          \"Crackers & Digestive\"\n        ],\n        \"semantic_type\": \"\",\n        \"description\": \"\"\n      }\n    },\n    {\n      \"column\": \"rating\",\n      \"properties\": {\n        \"dtype\": \"number\",\n        \"std\": 0.739062982864513,\n        \"min\": 1.0,\n        \"max\": 5.0,\n        \"num_unique_values\": 40,\n        \"samples\": [\n          3.0,\n          1.5,\n          3.9\n        ],\n        \"semantic_type\": \"\",\n        \"description\": \"\"\n      }\n    },\n    {\n      \"column\": \"description\",\n      \"properties\": {\n        \"dtype\": \"string\",\n        \"num_unique_values\": 21944,\n        \"samples\": [\n          \"Premium Day Face Cream:Lightweight formula that will give your skin a daily boost of radiance and hydration. Packed with the goodness of skin brightening, Vitamin C Why Is It Special?- It contains the Most Stable & Effective form of Vitamin C, 3-O Ethyl Ascorbic Acid. It is the next generation Vitamin C that really works in improving skin health.- Vitamin C is a proven skin-brightening agent known for its antioxidant properties for decades. It boosts collagen formation and effectively targets visible signs of ageing, giving skin the much-needed glow. - The presence of Vitamin E, Pro-Vitamin B5 & Vitamin B3 helps awaken and clarify your complexion, revealing a natural healthy-looking glow. - SPF 30 & PA+++ provide the highest level of protection against UVA & UVB rays of the sun. The mineral-based sun protection agents shield the skin against the harsh solar radiation, minimizing skin dryness and dullness. - Multiple natural oils are combined for intense hydration and nourishment. Antioxidant-rich botanical extracts are added to keep skin moisturized, smooth & soft. - St.Botanica is a PETA-certified cruelty-free brand. The product does not contain any harmful chemicals & is free from parabens, silicones or mineral oils.\",\n          \"Kari Kari Japanese premium snacks are the exciting irresistible new taste of crunch. Lite and crispy, the savoury rice crackers are mixed with peanuts to make hearty, wholesome snack with delicious, bold and zesty taste with every bite.\",\n          \"Safely store your food in this pink lunch box. The lunch box is made plastic which gives the container durability and sturdiness. The rectangular containers come with an airtight lid to keep food fresh for long. The wide mouth opening of the lunch makes it easy to fill food and easy to clean. The set makes a great gift option for special days.\"\n        ],\n        \"semantic_type\": \"\",\n        \"description\": \"\"\n      }\n    },\n    {\n      \"column\": \"preprocessed_text\",\n      \"properties\": {\n        \"dtype\": \"string\",\n        \"num_unique_values\": 25639,\n        \"samples\": [\n          \"brand mtrsaleprice 3700marketprice 4000type powdered spicesrating 43 description mtr chili powder is a mix of ground dried fruit of red or cayenne chili peppers and other spices it is utilized to add heat or spice to dishes\",\n          \"brand old spicesaleprice 17910marketprice 19900type mens deodorantsrating 38 description old spice brings you a broad line of fragrance products for men who live a dynamic and unconventional life distinctively masculine scents that invigorate and refresh old spice deodorant spray envelops you in a clean manly scent that has served mankind for decades turning your armpit house into an armpit home for beauty tips tricks more visit httpsbigbasketblog\",\n          \"brand palmolivesaleprice 29852marketprice 39800type shower gel body washrating 43 description palmolive aroma absolute relax body wash is infused with ylang ylang essential oil and delicate iris extract to provide you the essence of relaxation of a blissful shower moment savor the relaxing effects of aroma under the shower palmolive bodywashes for women and men are available in a number of variants to choose from including body wash shower gel and creams for beauty tips tricks more visit httpsbigbasketblog\"\n        ],\n        \"semantic_type\": \"\",\n        \"description\": \"\"\n      }\n    },\n    {\n      \"column\": \"combined_text\",\n      \"properties\": {\n        \"dtype\": \"string\",\n        \"num_unique_values\": 27201,\n        \"samples\": [\n          \"\\n<p>Neem Tulsi Body Wash Soap</p>\\n<c>Beauty & Hygiene</c>\\n<sc>Bath & Hand Wash</sc>\\n<br>Meghdoot</br>\\n<sp>$70.0</sp> \\n<mp>$70.0</mp>\\n<t>Bathing Bars & Soaps</t>\\n<r>nan stars</r>\\n<d>The Meghdoot's Neem Tulsi Body Wash is an Ayurvedic bathing bar which is effective in treating skin related ailments such as acne, pimples and skin infections. It is enriched with neem which has anti-bacterial proprieties that is beneficial in treating skin rashes and eczema. The soap helps in moisturising the skin and enhances natural beauty and glow. It is formulated with natural ingredients which are suitable for all skin types. This soap gently wash away body impurities making it smooth.</d>\\n\",\n          \"\\n<p>Lunch Box - Stainless Steel, Midday Maxx Fresh, Blue</p>\\n<c>Kitchen, Garden & Pets</c>\\n<sc>Steel Utensils</sc>\\n<br>Signoraware</br>\\n<sp>$390.0</sp> \\n<mp>$390.0</mp>\\n<t>Steel Lunch Boxes</t>\\n<r>4.3 stars</r>\\n<d>Midday Max Fresh Stainless Steel Lunch Box Set is non-cracking. Made of superior quality stainless steel, leak-proof containers and compact size fit easily in briefcase schoolbag and handbag.Ideal for office executives and school going kids, these spill-proof containers keep food fresh for hours. It comes with a unique insulated bag keeps food warm for hours.</d>\\n\",\n          \"\\n<p>Incense Sticks - Namo Stuti, Scented</p>\\n<c>Cleaning & Household</c>\\n<sc>Pooja Needs</sc>\\n<br>GIRI</br>\\n<sp>$100.0</sp> \\n<mp>$100.0</mp>\\n<t>Agarbatti, Incense Sticks</t>\\n<r>nan stars</r>\\n<d>Giri incense sticks are made using natural herbs, flowers, resin and essential oils. For millennia, the Ayurvedic tradition based on vedic principles prescribes the use of aromatherapy for quality of life. The essential oils, which are the \\\"life and soul\\\" of the plants help in the awakening of innate intelligence. The pleasant aroma of these oils allows the mind and body to settle down through the sense of smell.</d>\\n\"\n        ],\n        \"semantic_type\": \"\",\n        \"description\": \"\"\n      }\n    }\n  ]\n}"
            }
          },
          "metadata": {},
          "execution_count": 19
        }
      ]
    },
    {
      "cell_type": "code",
      "source": [
        "#Transforming the raw input text into 'instruction', 'response' where they both are the same\n",
        "\n",
        "def preprocess_data2(df):\n",
        "    \"\"\"Preprocesses the product dataset for fine-tuning a LLaMA model.\n",
        "\n",
        "    Args:\n",
        "        df (pd.DataFrame): The input DataFrame with the specified columns.\n",
        "\n",
        "    Returns:\n",
        "        pd.DataFrame: The preprocessed DataFrame with 'instruction' and 'response' columns.\n",
        "    \"\"\"\n",
        "\n",
        "    def create_field_specific_pairs(row):\n",
        "        \"\"\"Generates instruction-response pairs for each field.\"\"\"\n",
        "        instructions = []\n",
        "        responses = []\n",
        "\n",
        "        instructions.append(f\"Product: {row['product']}\")\n",
        "        responses.append(row['product'])\n",
        "\n",
        "        instructions.append(f\"Category: {row['category']}\")\n",
        "        responses.append(row['category'])\n",
        "\n",
        "        instructions.append(f\"Sub_category: {row['sub_category']}\")\n",
        "        responses.append(row['sub_category'])\n",
        "\n",
        "        instructions.append(f\"Brand: {row['brand']}\")\n",
        "        responses.append(row['brand'])\n",
        "\n",
        "        instructions.append(f\"Sale_price: ${row['sale_price']}\")\n",
        "        responses.append(str(row['sale_price']))  # Convert to string\n",
        "\n",
        "        instructions.append(f\"Market_price: ${row['market_price']}\")\n",
        "        responses.append(str(row['market_price']))  # Convert to string\n",
        "\n",
        "        instructions.append(f\"Type: {row['type']}\")\n",
        "        responses.append(row['type'])\n",
        "\n",
        "        instructions.append(f\"Rating: {row['rating']} stars\")\n",
        "        responses.append(str(row['rating']))  # Convert to string\n",
        "\n",
        "        instructions.append(f\"Description: {row['description']}\")\n",
        "        responses.append(row['description'])\n",
        "\n",
        "        return instructions, responses\n",
        "\n",
        "    # Create instruction-response pairs\n",
        "    df[['instruction', 'response']] = df.apply(create_field_specific_pairs, axis=1, result_type='expand')\n",
        "\n",
        "    # Explode the DataFrame to have one row per instruction-response pair\n",
        "    df = df.explode(['instruction', 'response'])\n",
        "\n",
        "    # Additional text cleaning and formatting can be done here if needed\n",
        "    # ...\n",
        "\n",
        "    return df\n",
        "\n"
      ],
      "metadata": {
        "id": "Aqa_B3fIas3G"
      },
      "execution_count": 25,
      "outputs": []
    },
    {
      "cell_type": "code",
      "source": [
        "# Preprocess the data\n",
        "processed_df_fair = preprocess_data2(processed_df)"
      ],
      "metadata": {
        "id": "t8I-q9hvas7M"
      },
      "execution_count": 26,
      "outputs": []
    },
    {
      "cell_type": "code",
      "source": [
        "processed_df_fair.head()\n"
      ],
      "metadata": {
        "colab": {
          "base_uri": "https://localhost:8080/",
          "height": 380
        },
        "id": "oPq6S4vDas_h",
        "outputId": "fbd3bba0-45a9-4503-ba6e-929a8a82c5e5"
      },
      "execution_count": 27,
      "outputs": [
        {
          "output_type": "execute_result",
          "data": {
            "text/plain": [
              "                                  product          category sub_category  \\\n",
              "0  Garlic Oil - Vegetarian Capsule 500 mg  Beauty & Hygiene    Hair Care   \n",
              "0  Garlic Oil - Vegetarian Capsule 500 mg  Beauty & Hygiene    Hair Care   \n",
              "0  Garlic Oil - Vegetarian Capsule 500 mg  Beauty & Hygiene    Hair Care   \n",
              "0  Garlic Oil - Vegetarian Capsule 500 mg  Beauty & Hygiene    Hair Care   \n",
              "0  Garlic Oil - Vegetarian Capsule 500 mg  Beauty & Hygiene    Hair Care   \n",
              "\n",
              "               brand  sale_price  market_price              type  rating  \\\n",
              "0  Sri Sri Ayurveda        220.0         220.0  Hair Oil & Serum     4.1   \n",
              "0  Sri Sri Ayurveda        220.0         220.0  Hair Oil & Serum     4.1   \n",
              "0  Sri Sri Ayurveda        220.0         220.0  Hair Oil & Serum     4.1   \n",
              "0  Sri Sri Ayurveda        220.0         220.0  Hair Oil & Serum     4.1   \n",
              "0  Sri Sri Ayurveda        220.0         220.0  Hair Oil & Serum     4.1   \n",
              "\n",
              "                                         description  \\\n",
              "0  This Product contains Garlic Oil that is known...   \n",
              "0  This Product contains Garlic Oil that is known...   \n",
              "0  This Product contains Garlic Oil that is known...   \n",
              "0  This Product contains Garlic Oil that is known...   \n",
              "0  This Product contains Garlic Oil that is known...   \n",
              "\n",
              "                                   preprocessed_text  \\\n",
              "0  brand sri sri ayurveda saleprice 22000marketpr...   \n",
              "0  brand sri sri ayurveda saleprice 22000marketpr...   \n",
              "0  brand sri sri ayurveda saleprice 22000marketpr...   \n",
              "0  brand sri sri ayurveda saleprice 22000marketpr...   \n",
              "0  brand sri sri ayurveda saleprice 22000marketpr...   \n",
              "\n",
              "                                       combined_text  \\\n",
              "0  \\n<p>Garlic Oil - Vegetarian Capsule 500 mg</p...   \n",
              "0  \\n<p>Garlic Oil - Vegetarian Capsule 500 mg</p...   \n",
              "0  \\n<p>Garlic Oil - Vegetarian Capsule 500 mg</p...   \n",
              "0  \\n<p>Garlic Oil - Vegetarian Capsule 500 mg</p...   \n",
              "0  \\n<p>Garlic Oil - Vegetarian Capsule 500 mg</p...   \n",
              "\n",
              "                                       instruction  \\\n",
              "0  Product: Garlic Oil - Vegetarian Capsule 500 mg   \n",
              "0                       Category: Beauty & Hygiene   \n",
              "0                          Sub_category: Hair Care   \n",
              "0                         Brand: Sri Sri Ayurveda    \n",
              "0                               Sale_price: $220.0   \n",
              "\n",
              "                                 response  \n",
              "0  Garlic Oil - Vegetarian Capsule 500 mg  \n",
              "0                        Beauty & Hygiene  \n",
              "0                               Hair Care  \n",
              "0                       Sri Sri Ayurveda   \n",
              "0                                   220.0  "
            ],
            "text/html": [
              "\n",
              "  <div id=\"df-78e1b489-43eb-4d1a-9b25-48414b4235bf\" class=\"colab-df-container\">\n",
              "    <div>\n",
              "<style scoped>\n",
              "    .dataframe tbody tr th:only-of-type {\n",
              "        vertical-align: middle;\n",
              "    }\n",
              "\n",
              "    .dataframe tbody tr th {\n",
              "        vertical-align: top;\n",
              "    }\n",
              "\n",
              "    .dataframe thead th {\n",
              "        text-align: right;\n",
              "    }\n",
              "</style>\n",
              "<table border=\"1\" class=\"dataframe\">\n",
              "  <thead>\n",
              "    <tr style=\"text-align: right;\">\n",
              "      <th></th>\n",
              "      <th>product</th>\n",
              "      <th>category</th>\n",
              "      <th>sub_category</th>\n",
              "      <th>brand</th>\n",
              "      <th>sale_price</th>\n",
              "      <th>market_price</th>\n",
              "      <th>type</th>\n",
              "      <th>rating</th>\n",
              "      <th>description</th>\n",
              "      <th>preprocessed_text</th>\n",
              "      <th>combined_text</th>\n",
              "      <th>instruction</th>\n",
              "      <th>response</th>\n",
              "    </tr>\n",
              "  </thead>\n",
              "  <tbody>\n",
              "    <tr>\n",
              "      <th>0</th>\n",
              "      <td>Garlic Oil - Vegetarian Capsule 500 mg</td>\n",
              "      <td>Beauty &amp; Hygiene</td>\n",
              "      <td>Hair Care</td>\n",
              "      <td>Sri Sri Ayurveda</td>\n",
              "      <td>220.0</td>\n",
              "      <td>220.0</td>\n",
              "      <td>Hair Oil &amp; Serum</td>\n",
              "      <td>4.1</td>\n",
              "      <td>This Product contains Garlic Oil that is known...</td>\n",
              "      <td>brand sri sri ayurveda saleprice 22000marketpr...</td>\n",
              "      <td>\\n&lt;p&gt;Garlic Oil - Vegetarian Capsule 500 mg&lt;/p...</td>\n",
              "      <td>Product: Garlic Oil - Vegetarian Capsule 500 mg</td>\n",
              "      <td>Garlic Oil - Vegetarian Capsule 500 mg</td>\n",
              "    </tr>\n",
              "    <tr>\n",
              "      <th>0</th>\n",
              "      <td>Garlic Oil - Vegetarian Capsule 500 mg</td>\n",
              "      <td>Beauty &amp; Hygiene</td>\n",
              "      <td>Hair Care</td>\n",
              "      <td>Sri Sri Ayurveda</td>\n",
              "      <td>220.0</td>\n",
              "      <td>220.0</td>\n",
              "      <td>Hair Oil &amp; Serum</td>\n",
              "      <td>4.1</td>\n",
              "      <td>This Product contains Garlic Oil that is known...</td>\n",
              "      <td>brand sri sri ayurveda saleprice 22000marketpr...</td>\n",
              "      <td>\\n&lt;p&gt;Garlic Oil - Vegetarian Capsule 500 mg&lt;/p...</td>\n",
              "      <td>Category: Beauty &amp; Hygiene</td>\n",
              "      <td>Beauty &amp; Hygiene</td>\n",
              "    </tr>\n",
              "    <tr>\n",
              "      <th>0</th>\n",
              "      <td>Garlic Oil - Vegetarian Capsule 500 mg</td>\n",
              "      <td>Beauty &amp; Hygiene</td>\n",
              "      <td>Hair Care</td>\n",
              "      <td>Sri Sri Ayurveda</td>\n",
              "      <td>220.0</td>\n",
              "      <td>220.0</td>\n",
              "      <td>Hair Oil &amp; Serum</td>\n",
              "      <td>4.1</td>\n",
              "      <td>This Product contains Garlic Oil that is known...</td>\n",
              "      <td>brand sri sri ayurveda saleprice 22000marketpr...</td>\n",
              "      <td>\\n&lt;p&gt;Garlic Oil - Vegetarian Capsule 500 mg&lt;/p...</td>\n",
              "      <td>Sub_category: Hair Care</td>\n",
              "      <td>Hair Care</td>\n",
              "    </tr>\n",
              "    <tr>\n",
              "      <th>0</th>\n",
              "      <td>Garlic Oil - Vegetarian Capsule 500 mg</td>\n",
              "      <td>Beauty &amp; Hygiene</td>\n",
              "      <td>Hair Care</td>\n",
              "      <td>Sri Sri Ayurveda</td>\n",
              "      <td>220.0</td>\n",
              "      <td>220.0</td>\n",
              "      <td>Hair Oil &amp; Serum</td>\n",
              "      <td>4.1</td>\n",
              "      <td>This Product contains Garlic Oil that is known...</td>\n",
              "      <td>brand sri sri ayurveda saleprice 22000marketpr...</td>\n",
              "      <td>\\n&lt;p&gt;Garlic Oil - Vegetarian Capsule 500 mg&lt;/p...</td>\n",
              "      <td>Brand: Sri Sri Ayurveda</td>\n",
              "      <td>Sri Sri Ayurveda</td>\n",
              "    </tr>\n",
              "    <tr>\n",
              "      <th>0</th>\n",
              "      <td>Garlic Oil - Vegetarian Capsule 500 mg</td>\n",
              "      <td>Beauty &amp; Hygiene</td>\n",
              "      <td>Hair Care</td>\n",
              "      <td>Sri Sri Ayurveda</td>\n",
              "      <td>220.0</td>\n",
              "      <td>220.0</td>\n",
              "      <td>Hair Oil &amp; Serum</td>\n",
              "      <td>4.1</td>\n",
              "      <td>This Product contains Garlic Oil that is known...</td>\n",
              "      <td>brand sri sri ayurveda saleprice 22000marketpr...</td>\n",
              "      <td>\\n&lt;p&gt;Garlic Oil - Vegetarian Capsule 500 mg&lt;/p...</td>\n",
              "      <td>Sale_price: $220.0</td>\n",
              "      <td>220.0</td>\n",
              "    </tr>\n",
              "  </tbody>\n",
              "</table>\n",
              "</div>\n",
              "    <div class=\"colab-df-buttons\">\n",
              "\n",
              "  <div class=\"colab-df-container\">\n",
              "    <button class=\"colab-df-convert\" onclick=\"convertToInteractive('df-78e1b489-43eb-4d1a-9b25-48414b4235bf')\"\n",
              "            title=\"Convert this dataframe to an interactive table.\"\n",
              "            style=\"display:none;\">\n",
              "\n",
              "  <svg xmlns=\"http://www.w3.org/2000/svg\" height=\"24px\" viewBox=\"0 -960 960 960\">\n",
              "    <path d=\"M120-120v-720h720v720H120Zm60-500h600v-160H180v160Zm220 220h160v-160H400v160Zm0 220h160v-160H400v160ZM180-400h160v-160H180v160Zm440 0h160v-160H620v160ZM180-180h160v-160H180v160Zm440 0h160v-160H620v160Z\"/>\n",
              "  </svg>\n",
              "    </button>\n",
              "\n",
              "  <style>\n",
              "    .colab-df-container {\n",
              "      display:flex;\n",
              "      gap: 12px;\n",
              "    }\n",
              "\n",
              "    .colab-df-convert {\n",
              "      background-color: #E8F0FE;\n",
              "      border: none;\n",
              "      border-radius: 50%;\n",
              "      cursor: pointer;\n",
              "      display: none;\n",
              "      fill: #1967D2;\n",
              "      height: 32px;\n",
              "      padding: 0 0 0 0;\n",
              "      width: 32px;\n",
              "    }\n",
              "\n",
              "    .colab-df-convert:hover {\n",
              "      background-color: #E2EBFA;\n",
              "      box-shadow: 0px 1px 2px rgba(60, 64, 67, 0.3), 0px 1px 3px 1px rgba(60, 64, 67, 0.15);\n",
              "      fill: #174EA6;\n",
              "    }\n",
              "\n",
              "    .colab-df-buttons div {\n",
              "      margin-bottom: 4px;\n",
              "    }\n",
              "\n",
              "    [theme=dark] .colab-df-convert {\n",
              "      background-color: #3B4455;\n",
              "      fill: #D2E3FC;\n",
              "    }\n",
              "\n",
              "    [theme=dark] .colab-df-convert:hover {\n",
              "      background-color: #434B5C;\n",
              "      box-shadow: 0px 1px 3px 1px rgba(0, 0, 0, 0.15);\n",
              "      filter: drop-shadow(0px 1px 2px rgba(0, 0, 0, 0.3));\n",
              "      fill: #FFFFFF;\n",
              "    }\n",
              "  </style>\n",
              "\n",
              "    <script>\n",
              "      const buttonEl =\n",
              "        document.querySelector('#df-78e1b489-43eb-4d1a-9b25-48414b4235bf button.colab-df-convert');\n",
              "      buttonEl.style.display =\n",
              "        google.colab.kernel.accessAllowed ? 'block' : 'none';\n",
              "\n",
              "      async function convertToInteractive(key) {\n",
              "        const element = document.querySelector('#df-78e1b489-43eb-4d1a-9b25-48414b4235bf');\n",
              "        const dataTable =\n",
              "          await google.colab.kernel.invokeFunction('convertToInteractive',\n",
              "                                                    [key], {});\n",
              "        if (!dataTable) return;\n",
              "\n",
              "        const docLinkHtml = 'Like what you see? Visit the ' +\n",
              "          '<a target=\"_blank\" href=https://colab.research.google.com/notebooks/data_table.ipynb>data table notebook</a>'\n",
              "          + ' to learn more about interactive tables.';\n",
              "        element.innerHTML = '';\n",
              "        dataTable['output_type'] = 'display_data';\n",
              "        await google.colab.output.renderOutput(dataTable, element);\n",
              "        const docLink = document.createElement('div');\n",
              "        docLink.innerHTML = docLinkHtml;\n",
              "        element.appendChild(docLink);\n",
              "      }\n",
              "    </script>\n",
              "  </div>\n",
              "\n",
              "\n",
              "<div id=\"df-c3919659-762e-4615-9c5b-307eb8e80d3b\">\n",
              "  <button class=\"colab-df-quickchart\" onclick=\"quickchart('df-c3919659-762e-4615-9c5b-307eb8e80d3b')\"\n",
              "            title=\"Suggest charts\"\n",
              "            style=\"display:none;\">\n",
              "\n",
              "<svg xmlns=\"http://www.w3.org/2000/svg\" height=\"24px\"viewBox=\"0 0 24 24\"\n",
              "     width=\"24px\">\n",
              "    <g>\n",
              "        <path d=\"M19 3H5c-1.1 0-2 .9-2 2v14c0 1.1.9 2 2 2h14c1.1 0 2-.9 2-2V5c0-1.1-.9-2-2-2zM9 17H7v-7h2v7zm4 0h-2V7h2v10zm4 0h-2v-4h2v4z\"/>\n",
              "    </g>\n",
              "</svg>\n",
              "  </button>\n",
              "\n",
              "<style>\n",
              "  .colab-df-quickchart {\n",
              "      --bg-color: #E8F0FE;\n",
              "      --fill-color: #1967D2;\n",
              "      --hover-bg-color: #E2EBFA;\n",
              "      --hover-fill-color: #174EA6;\n",
              "      --disabled-fill-color: #AAA;\n",
              "      --disabled-bg-color: #DDD;\n",
              "  }\n",
              "\n",
              "  [theme=dark] .colab-df-quickchart {\n",
              "      --bg-color: #3B4455;\n",
              "      --fill-color: #D2E3FC;\n",
              "      --hover-bg-color: #434B5C;\n",
              "      --hover-fill-color: #FFFFFF;\n",
              "      --disabled-bg-color: #3B4455;\n",
              "      --disabled-fill-color: #666;\n",
              "  }\n",
              "\n",
              "  .colab-df-quickchart {\n",
              "    background-color: var(--bg-color);\n",
              "    border: none;\n",
              "    border-radius: 50%;\n",
              "    cursor: pointer;\n",
              "    display: none;\n",
              "    fill: var(--fill-color);\n",
              "    height: 32px;\n",
              "    padding: 0;\n",
              "    width: 32px;\n",
              "  }\n",
              "\n",
              "  .colab-df-quickchart:hover {\n",
              "    background-color: var(--hover-bg-color);\n",
              "    box-shadow: 0 1px 2px rgba(60, 64, 67, 0.3), 0 1px 3px 1px rgba(60, 64, 67, 0.15);\n",
              "    fill: var(--button-hover-fill-color);\n",
              "  }\n",
              "\n",
              "  .colab-df-quickchart-complete:disabled,\n",
              "  .colab-df-quickchart-complete:disabled:hover {\n",
              "    background-color: var(--disabled-bg-color);\n",
              "    fill: var(--disabled-fill-color);\n",
              "    box-shadow: none;\n",
              "  }\n",
              "\n",
              "  .colab-df-spinner {\n",
              "    border: 2px solid var(--fill-color);\n",
              "    border-color: transparent;\n",
              "    border-bottom-color: var(--fill-color);\n",
              "    animation:\n",
              "      spin 1s steps(1) infinite;\n",
              "  }\n",
              "\n",
              "  @keyframes spin {\n",
              "    0% {\n",
              "      border-color: transparent;\n",
              "      border-bottom-color: var(--fill-color);\n",
              "      border-left-color: var(--fill-color);\n",
              "    }\n",
              "    20% {\n",
              "      border-color: transparent;\n",
              "      border-left-color: var(--fill-color);\n",
              "      border-top-color: var(--fill-color);\n",
              "    }\n",
              "    30% {\n",
              "      border-color: transparent;\n",
              "      border-left-color: var(--fill-color);\n",
              "      border-top-color: var(--fill-color);\n",
              "      border-right-color: var(--fill-color);\n",
              "    }\n",
              "    40% {\n",
              "      border-color: transparent;\n",
              "      border-right-color: var(--fill-color);\n",
              "      border-top-color: var(--fill-color);\n",
              "    }\n",
              "    60% {\n",
              "      border-color: transparent;\n",
              "      border-right-color: var(--fill-color);\n",
              "    }\n",
              "    80% {\n",
              "      border-color: transparent;\n",
              "      border-right-color: var(--fill-color);\n",
              "      border-bottom-color: var(--fill-color);\n",
              "    }\n",
              "    90% {\n",
              "      border-color: transparent;\n",
              "      border-bottom-color: var(--fill-color);\n",
              "    }\n",
              "  }\n",
              "</style>\n",
              "\n",
              "  <script>\n",
              "    async function quickchart(key) {\n",
              "      const quickchartButtonEl =\n",
              "        document.querySelector('#' + key + ' button');\n",
              "      quickchartButtonEl.disabled = true;  // To prevent multiple clicks.\n",
              "      quickchartButtonEl.classList.add('colab-df-spinner');\n",
              "      try {\n",
              "        const charts = await google.colab.kernel.invokeFunction(\n",
              "            'suggestCharts', [key], {});\n",
              "      } catch (error) {\n",
              "        console.error('Error during call to suggestCharts:', error);\n",
              "      }\n",
              "      quickchartButtonEl.classList.remove('colab-df-spinner');\n",
              "      quickchartButtonEl.classList.add('colab-df-quickchart-complete');\n",
              "    }\n",
              "    (() => {\n",
              "      let quickchartButtonEl =\n",
              "        document.querySelector('#df-c3919659-762e-4615-9c5b-307eb8e80d3b button');\n",
              "      quickchartButtonEl.style.display =\n",
              "        google.colab.kernel.accessAllowed ? 'block' : 'none';\n",
              "    })();\n",
              "  </script>\n",
              "</div>\n",
              "\n",
              "    </div>\n",
              "  </div>\n"
            ],
            "application/vnd.google.colaboratory.intrinsic+json": {
              "type": "dataframe",
              "variable_name": "processed_df_fair"
            }
          },
          "metadata": {},
          "execution_count": 27
        }
      ]
    },
    {
      "cell_type": "code",
      "source": [
        "len(processed_df_fair)"
      ],
      "metadata": {
        "colab": {
          "base_uri": "https://localhost:8080/"
        },
        "id": "fC2Z0US4dF_X",
        "outputId": "0b16dd1c-7f50-43d2-f37b-a4e1ed87d554"
      },
      "execution_count": 28,
      "outputs": [
        {
          "output_type": "execute_result",
          "data": {
            "text/plain": [
              "247995"
            ]
          },
          "metadata": {},
          "execution_count": 28
        }
      ]
    },
    {
      "cell_type": "code",
      "source": [
        "df.head()"
      ],
      "metadata": {
        "colab": {
          "base_uri": "https://localhost:8080/",
          "height": 432
        },
        "id": "dvK76FBtlrcj",
        "outputId": "52b7175d-7dc8-49bf-ccfb-d6a2118d9c19"
      },
      "execution_count": 47,
      "outputs": [
        {
          "output_type": "execute_result",
          "data": {
            "text/plain": [
              "                                             product                category  \\\n",
              "0             Garlic Oil - Vegetarian Capsule 500 mg        Beauty & Hygiene   \n",
              "1                              Water Bottle - Orange  Kitchen, Garden & Pets   \n",
              "2                     Brass Angle Deep - Plain, No.2    Cleaning & Household   \n",
              "3  Cereal Flip Lid Container/Storage Jar - Assort...    Cleaning & Household   \n",
              "4                 Creme Soft Soap - For Hands & Body        Beauty & Hygiene   \n",
              "\n",
              "            sub_category              brand  sale_price  market_price  \\\n",
              "0              Hair Care  Sri Sri Ayurveda        220.0         220.0   \n",
              "1  Storage & Accessories         Mastercook       180.0         180.0   \n",
              "2            Pooja Needs                Trm       119.0         250.0   \n",
              "3   Bins & Bathroom Ware             Nakoda       149.0         176.0   \n",
              "4       Bath & Hand Wash              Nivea       162.0         162.0   \n",
              "\n",
              "                       type  rating  \\\n",
              "0          Hair Oil & Serum     4.1   \n",
              "1    Water & Fridge Bottles     2.3   \n",
              "2           Lamp & Lamp Oil     3.4   \n",
              "3  Laundry, Storage Baskets     3.7   \n",
              "4      Bathing Bars & Soaps     4.4   \n",
              "\n",
              "                                         description  \\\n",
              "0  This Product contains Garlic Oil that is known...   \n",
              "1  Each product is microwave safe (without lid), ...   \n",
              "2  A perfect gift for all occasions, be it your m...   \n",
              "3  Multipurpose container with an attractive desi...   \n",
              "4  Nivea Creme Soft Soap gives your skin the best...   \n",
              "\n",
              "                                   preprocessed_text  \\\n",
              "0  brand sri sri ayurveda saleprice 22000marketpr...   \n",
              "1  brand mastercooksaleprice 18000marketprice 180...   \n",
              "2  brand trmsaleprice 11900marketprice 25000type ...   \n",
              "3  brand nakodasaleprice 14900marketprice 17600ty...   \n",
              "4  brand niveasaleprice 16200marketprice 16200typ...   \n",
              "\n",
              "                                       combined_text  \\\n",
              "0  \\n<p>Garlic Oil - Vegetarian Capsule 500 mg</p...   \n",
              "1  \\n<p>Water Bottle - Orange</p>\\n<c>Kitchen, Ga...   \n",
              "2  \\n<p>Brass Angle Deep - Plain, No.2</p>\\n<c>Cl...   \n",
              "3  \\n<p>Cereal Flip Lid Container/Storage Jar - A...   \n",
              "4  \\n<p>Creme Soft Soap - For Hands & Body</p>\\n<...   \n",
              "\n",
              "                                         instruction  \\\n",
              "0  ['Product: Garlic Oil - Vegetarian Capsule 500...   \n",
              "1  ['Product: Water Bottle - Orange', 'Category: ...   \n",
              "2  ['Product: Brass Angle Deep - Plain, No.2', 'C...   \n",
              "3  ['Product: Cereal Flip Lid Container/Storage J...   \n",
              "4  ['Product: Creme Soft Soap - For Hands & Body'...   \n",
              "\n",
              "                                            response  \n",
              "0  ['Garlic Oil - Vegetarian Capsule 500 mg', 'Be...  \n",
              "1  ['Water Bottle - Orange', 'Kitchen, Garden & P...  \n",
              "2  ['Brass Angle Deep - Plain, No.2', 'Cleaning &...  \n",
              "3  ['Cereal Flip Lid Container/Storage Jar - Asso...  \n",
              "4  ['Creme Soft Soap - For Hands & Body', 'Beauty...  "
            ],
            "text/html": [
              "\n",
              "  <div id=\"df-5f4e7996-c0d7-4521-8868-3307e2c42ded\" class=\"colab-df-container\">\n",
              "    <div>\n",
              "<style scoped>\n",
              "    .dataframe tbody tr th:only-of-type {\n",
              "        vertical-align: middle;\n",
              "    }\n",
              "\n",
              "    .dataframe tbody tr th {\n",
              "        vertical-align: top;\n",
              "    }\n",
              "\n",
              "    .dataframe thead th {\n",
              "        text-align: right;\n",
              "    }\n",
              "</style>\n",
              "<table border=\"1\" class=\"dataframe\">\n",
              "  <thead>\n",
              "    <tr style=\"text-align: right;\">\n",
              "      <th></th>\n",
              "      <th>product</th>\n",
              "      <th>category</th>\n",
              "      <th>sub_category</th>\n",
              "      <th>brand</th>\n",
              "      <th>sale_price</th>\n",
              "      <th>market_price</th>\n",
              "      <th>type</th>\n",
              "      <th>rating</th>\n",
              "      <th>description</th>\n",
              "      <th>preprocessed_text</th>\n",
              "      <th>combined_text</th>\n",
              "      <th>instruction</th>\n",
              "      <th>response</th>\n",
              "    </tr>\n",
              "  </thead>\n",
              "  <tbody>\n",
              "    <tr>\n",
              "      <th>0</th>\n",
              "      <td>Garlic Oil - Vegetarian Capsule 500 mg</td>\n",
              "      <td>Beauty &amp; Hygiene</td>\n",
              "      <td>Hair Care</td>\n",
              "      <td>Sri Sri Ayurveda</td>\n",
              "      <td>220.0</td>\n",
              "      <td>220.0</td>\n",
              "      <td>Hair Oil &amp; Serum</td>\n",
              "      <td>4.1</td>\n",
              "      <td>This Product contains Garlic Oil that is known...</td>\n",
              "      <td>brand sri sri ayurveda saleprice 22000marketpr...</td>\n",
              "      <td>\\n&lt;p&gt;Garlic Oil - Vegetarian Capsule 500 mg&lt;/p...</td>\n",
              "      <td>['Product: Garlic Oil - Vegetarian Capsule 500...</td>\n",
              "      <td>['Garlic Oil - Vegetarian Capsule 500 mg', 'Be...</td>\n",
              "    </tr>\n",
              "    <tr>\n",
              "      <th>1</th>\n",
              "      <td>Water Bottle - Orange</td>\n",
              "      <td>Kitchen, Garden &amp; Pets</td>\n",
              "      <td>Storage &amp; Accessories</td>\n",
              "      <td>Mastercook</td>\n",
              "      <td>180.0</td>\n",
              "      <td>180.0</td>\n",
              "      <td>Water &amp; Fridge Bottles</td>\n",
              "      <td>2.3</td>\n",
              "      <td>Each product is microwave safe (without lid), ...</td>\n",
              "      <td>brand mastercooksaleprice 18000marketprice 180...</td>\n",
              "      <td>\\n&lt;p&gt;Water Bottle - Orange&lt;/p&gt;\\n&lt;c&gt;Kitchen, Ga...</td>\n",
              "      <td>['Product: Water Bottle - Orange', 'Category: ...</td>\n",
              "      <td>['Water Bottle - Orange', 'Kitchen, Garden &amp; P...</td>\n",
              "    </tr>\n",
              "    <tr>\n",
              "      <th>2</th>\n",
              "      <td>Brass Angle Deep - Plain, No.2</td>\n",
              "      <td>Cleaning &amp; Household</td>\n",
              "      <td>Pooja Needs</td>\n",
              "      <td>Trm</td>\n",
              "      <td>119.0</td>\n",
              "      <td>250.0</td>\n",
              "      <td>Lamp &amp; Lamp Oil</td>\n",
              "      <td>3.4</td>\n",
              "      <td>A perfect gift for all occasions, be it your m...</td>\n",
              "      <td>brand trmsaleprice 11900marketprice 25000type ...</td>\n",
              "      <td>\\n&lt;p&gt;Brass Angle Deep - Plain, No.2&lt;/p&gt;\\n&lt;c&gt;Cl...</td>\n",
              "      <td>['Product: Brass Angle Deep - Plain, No.2', 'C...</td>\n",
              "      <td>['Brass Angle Deep - Plain, No.2', 'Cleaning &amp;...</td>\n",
              "    </tr>\n",
              "    <tr>\n",
              "      <th>3</th>\n",
              "      <td>Cereal Flip Lid Container/Storage Jar - Assort...</td>\n",
              "      <td>Cleaning &amp; Household</td>\n",
              "      <td>Bins &amp; Bathroom Ware</td>\n",
              "      <td>Nakoda</td>\n",
              "      <td>149.0</td>\n",
              "      <td>176.0</td>\n",
              "      <td>Laundry, Storage Baskets</td>\n",
              "      <td>3.7</td>\n",
              "      <td>Multipurpose container with an attractive desi...</td>\n",
              "      <td>brand nakodasaleprice 14900marketprice 17600ty...</td>\n",
              "      <td>\\n&lt;p&gt;Cereal Flip Lid Container/Storage Jar - A...</td>\n",
              "      <td>['Product: Cereal Flip Lid Container/Storage J...</td>\n",
              "      <td>['Cereal Flip Lid Container/Storage Jar - Asso...</td>\n",
              "    </tr>\n",
              "    <tr>\n",
              "      <th>4</th>\n",
              "      <td>Creme Soft Soap - For Hands &amp; Body</td>\n",
              "      <td>Beauty &amp; Hygiene</td>\n",
              "      <td>Bath &amp; Hand Wash</td>\n",
              "      <td>Nivea</td>\n",
              "      <td>162.0</td>\n",
              "      <td>162.0</td>\n",
              "      <td>Bathing Bars &amp; Soaps</td>\n",
              "      <td>4.4</td>\n",
              "      <td>Nivea Creme Soft Soap gives your skin the best...</td>\n",
              "      <td>brand niveasaleprice 16200marketprice 16200typ...</td>\n",
              "      <td>\\n&lt;p&gt;Creme Soft Soap - For Hands &amp; Body&lt;/p&gt;\\n&lt;...</td>\n",
              "      <td>['Product: Creme Soft Soap - For Hands &amp; Body'...</td>\n",
              "      <td>['Creme Soft Soap - For Hands &amp; Body', 'Beauty...</td>\n",
              "    </tr>\n",
              "  </tbody>\n",
              "</table>\n",
              "</div>\n",
              "    <div class=\"colab-df-buttons\">\n",
              "\n",
              "  <div class=\"colab-df-container\">\n",
              "    <button class=\"colab-df-convert\" onclick=\"convertToInteractive('df-5f4e7996-c0d7-4521-8868-3307e2c42ded')\"\n",
              "            title=\"Convert this dataframe to an interactive table.\"\n",
              "            style=\"display:none;\">\n",
              "\n",
              "  <svg xmlns=\"http://www.w3.org/2000/svg\" height=\"24px\" viewBox=\"0 -960 960 960\">\n",
              "    <path d=\"M120-120v-720h720v720H120Zm60-500h600v-160H180v160Zm220 220h160v-160H400v160Zm0 220h160v-160H400v160ZM180-400h160v-160H180v160Zm440 0h160v-160H620v160ZM180-180h160v-160H180v160Zm440 0h160v-160H620v160Z\"/>\n",
              "  </svg>\n",
              "    </button>\n",
              "\n",
              "  <style>\n",
              "    .colab-df-container {\n",
              "      display:flex;\n",
              "      gap: 12px;\n",
              "    }\n",
              "\n",
              "    .colab-df-convert {\n",
              "      background-color: #E8F0FE;\n",
              "      border: none;\n",
              "      border-radius: 50%;\n",
              "      cursor: pointer;\n",
              "      display: none;\n",
              "      fill: #1967D2;\n",
              "      height: 32px;\n",
              "      padding: 0 0 0 0;\n",
              "      width: 32px;\n",
              "    }\n",
              "\n",
              "    .colab-df-convert:hover {\n",
              "      background-color: #E2EBFA;\n",
              "      box-shadow: 0px 1px 2px rgba(60, 64, 67, 0.3), 0px 1px 3px 1px rgba(60, 64, 67, 0.15);\n",
              "      fill: #174EA6;\n",
              "    }\n",
              "\n",
              "    .colab-df-buttons div {\n",
              "      margin-bottom: 4px;\n",
              "    }\n",
              "\n",
              "    [theme=dark] .colab-df-convert {\n",
              "      background-color: #3B4455;\n",
              "      fill: #D2E3FC;\n",
              "    }\n",
              "\n",
              "    [theme=dark] .colab-df-convert:hover {\n",
              "      background-color: #434B5C;\n",
              "      box-shadow: 0px 1px 3px 1px rgba(0, 0, 0, 0.15);\n",
              "      filter: drop-shadow(0px 1px 2px rgba(0, 0, 0, 0.3));\n",
              "      fill: #FFFFFF;\n",
              "    }\n",
              "  </style>\n",
              "\n",
              "    <script>\n",
              "      const buttonEl =\n",
              "        document.querySelector('#df-5f4e7996-c0d7-4521-8868-3307e2c42ded button.colab-df-convert');\n",
              "      buttonEl.style.display =\n",
              "        google.colab.kernel.accessAllowed ? 'block' : 'none';\n",
              "\n",
              "      async function convertToInteractive(key) {\n",
              "        const element = document.querySelector('#df-5f4e7996-c0d7-4521-8868-3307e2c42ded');\n",
              "        const dataTable =\n",
              "          await google.colab.kernel.invokeFunction('convertToInteractive',\n",
              "                                                    [key], {});\n",
              "        if (!dataTable) return;\n",
              "\n",
              "        const docLinkHtml = 'Like what you see? Visit the ' +\n",
              "          '<a target=\"_blank\" href=https://colab.research.google.com/notebooks/data_table.ipynb>data table notebook</a>'\n",
              "          + ' to learn more about interactive tables.';\n",
              "        element.innerHTML = '';\n",
              "        dataTable['output_type'] = 'display_data';\n",
              "        await google.colab.output.renderOutput(dataTable, element);\n",
              "        const docLink = document.createElement('div');\n",
              "        docLink.innerHTML = docLinkHtml;\n",
              "        element.appendChild(docLink);\n",
              "      }\n",
              "    </script>\n",
              "  </div>\n",
              "\n",
              "\n",
              "<div id=\"df-344b49bf-0e4a-4e20-afb0-9b84222d5f28\">\n",
              "  <button class=\"colab-df-quickchart\" onclick=\"quickchart('df-344b49bf-0e4a-4e20-afb0-9b84222d5f28')\"\n",
              "            title=\"Suggest charts\"\n",
              "            style=\"display:none;\">\n",
              "\n",
              "<svg xmlns=\"http://www.w3.org/2000/svg\" height=\"24px\"viewBox=\"0 0 24 24\"\n",
              "     width=\"24px\">\n",
              "    <g>\n",
              "        <path d=\"M19 3H5c-1.1 0-2 .9-2 2v14c0 1.1.9 2 2 2h14c1.1 0 2-.9 2-2V5c0-1.1-.9-2-2-2zM9 17H7v-7h2v7zm4 0h-2V7h2v10zm4 0h-2v-4h2v4z\"/>\n",
              "    </g>\n",
              "</svg>\n",
              "  </button>\n",
              "\n",
              "<style>\n",
              "  .colab-df-quickchart {\n",
              "      --bg-color: #E8F0FE;\n",
              "      --fill-color: #1967D2;\n",
              "      --hover-bg-color: #E2EBFA;\n",
              "      --hover-fill-color: #174EA6;\n",
              "      --disabled-fill-color: #AAA;\n",
              "      --disabled-bg-color: #DDD;\n",
              "  }\n",
              "\n",
              "  [theme=dark] .colab-df-quickchart {\n",
              "      --bg-color: #3B4455;\n",
              "      --fill-color: #D2E3FC;\n",
              "      --hover-bg-color: #434B5C;\n",
              "      --hover-fill-color: #FFFFFF;\n",
              "      --disabled-bg-color: #3B4455;\n",
              "      --disabled-fill-color: #666;\n",
              "  }\n",
              "\n",
              "  .colab-df-quickchart {\n",
              "    background-color: var(--bg-color);\n",
              "    border: none;\n",
              "    border-radius: 50%;\n",
              "    cursor: pointer;\n",
              "    display: none;\n",
              "    fill: var(--fill-color);\n",
              "    height: 32px;\n",
              "    padding: 0;\n",
              "    width: 32px;\n",
              "  }\n",
              "\n",
              "  .colab-df-quickchart:hover {\n",
              "    background-color: var(--hover-bg-color);\n",
              "    box-shadow: 0 1px 2px rgba(60, 64, 67, 0.3), 0 1px 3px 1px rgba(60, 64, 67, 0.15);\n",
              "    fill: var(--button-hover-fill-color);\n",
              "  }\n",
              "\n",
              "  .colab-df-quickchart-complete:disabled,\n",
              "  .colab-df-quickchart-complete:disabled:hover {\n",
              "    background-color: var(--disabled-bg-color);\n",
              "    fill: var(--disabled-fill-color);\n",
              "    box-shadow: none;\n",
              "  }\n",
              "\n",
              "  .colab-df-spinner {\n",
              "    border: 2px solid var(--fill-color);\n",
              "    border-color: transparent;\n",
              "    border-bottom-color: var(--fill-color);\n",
              "    animation:\n",
              "      spin 1s steps(1) infinite;\n",
              "  }\n",
              "\n",
              "  @keyframes spin {\n",
              "    0% {\n",
              "      border-color: transparent;\n",
              "      border-bottom-color: var(--fill-color);\n",
              "      border-left-color: var(--fill-color);\n",
              "    }\n",
              "    20% {\n",
              "      border-color: transparent;\n",
              "      border-left-color: var(--fill-color);\n",
              "      border-top-color: var(--fill-color);\n",
              "    }\n",
              "    30% {\n",
              "      border-color: transparent;\n",
              "      border-left-color: var(--fill-color);\n",
              "      border-top-color: var(--fill-color);\n",
              "      border-right-color: var(--fill-color);\n",
              "    }\n",
              "    40% {\n",
              "      border-color: transparent;\n",
              "      border-right-color: var(--fill-color);\n",
              "      border-top-color: var(--fill-color);\n",
              "    }\n",
              "    60% {\n",
              "      border-color: transparent;\n",
              "      border-right-color: var(--fill-color);\n",
              "    }\n",
              "    80% {\n",
              "      border-color: transparent;\n",
              "      border-right-color: var(--fill-color);\n",
              "      border-bottom-color: var(--fill-color);\n",
              "    }\n",
              "    90% {\n",
              "      border-color: transparent;\n",
              "      border-bottom-color: var(--fill-color);\n",
              "    }\n",
              "  }\n",
              "</style>\n",
              "\n",
              "  <script>\n",
              "    async function quickchart(key) {\n",
              "      const quickchartButtonEl =\n",
              "        document.querySelector('#' + key + ' button');\n",
              "      quickchartButtonEl.disabled = true;  // To prevent multiple clicks.\n",
              "      quickchartButtonEl.classList.add('colab-df-spinner');\n",
              "      try {\n",
              "        const charts = await google.colab.kernel.invokeFunction(\n",
              "            'suggestCharts', [key], {});\n",
              "      } catch (error) {\n",
              "        console.error('Error during call to suggestCharts:', error);\n",
              "      }\n",
              "      quickchartButtonEl.classList.remove('colab-df-spinner');\n",
              "      quickchartButtonEl.classList.add('colab-df-quickchart-complete');\n",
              "    }\n",
              "    (() => {\n",
              "      let quickchartButtonEl =\n",
              "        document.querySelector('#df-344b49bf-0e4a-4e20-afb0-9b84222d5f28 button');\n",
              "      quickchartButtonEl.style.display =\n",
              "        google.colab.kernel.accessAllowed ? 'block' : 'none';\n",
              "    })();\n",
              "  </script>\n",
              "</div>\n",
              "\n",
              "    </div>\n",
              "  </div>\n"
            ],
            "application/vnd.google.colaboratory.intrinsic+json": {
              "type": "dataframe",
              "variable_name": "df",
              "summary": "{\n  \"name\": \"df\",\n  \"rows\": 27555,\n  \"fields\": [\n    {\n      \"column\": \"product\",\n      \"properties\": {\n        \"dtype\": \"string\",\n        \"num_unique_values\": 23540,\n        \"samples\": [\n          \"Pure Impact Body Wash With Purifying Micro Particles - Shower Gel For Body, Face & Hair\",\n          \"Premium Care XXL - 30 Diaper Pants\",\n          \"Tomato - Green\"\n        ],\n        \"semantic_type\": \"\",\n        \"description\": \"\"\n      }\n    },\n    {\n      \"column\": \"category\",\n      \"properties\": {\n        \"dtype\": \"category\",\n        \"num_unique_values\": 11,\n        \"samples\": [\n          \"Snacks & Branded Foods\",\n          \"Beauty & Hygiene\",\n          \"Fruits & Vegetables\"\n        ],\n        \"semantic_type\": \"\",\n        \"description\": \"\"\n      }\n    },\n    {\n      \"column\": \"sub_category\",\n      \"properties\": {\n        \"dtype\": \"category\",\n        \"num_unique_values\": 90,\n        \"samples\": [\n          \"Crockery & Cutlery\",\n          \"Fragrances & Deos\",\n          \"Energy & Soft Drinks\"\n        ],\n        \"semantic_type\": \"\",\n        \"description\": \"\"\n      }\n    },\n    {\n      \"column\": \"brand\",\n      \"properties\": {\n        \"dtype\": \"category\",\n        \"num_unique_values\": 2313,\n        \"samples\": [\n          \"Red Label\",\n          \"Lomani\",\n          \"Happily Unmarried\"\n        ],\n        \"semantic_type\": \"\",\n        \"description\": \"\"\n      }\n    },\n    {\n      \"column\": \"sale_price\",\n      \"properties\": {\n        \"dtype\": \"number\",\n        \"std\": 486.26311554286923,\n        \"min\": 2.45,\n        \"max\": 12500.0,\n        \"num_unique_values\": 3256,\n        \"samples\": [\n          2880.0,\n          40.0,\n          293.02\n        ],\n        \"semantic_type\": \"\",\n        \"description\": \"\"\n      }\n    },\n    {\n      \"column\": \"market_price\",\n      \"properties\": {\n        \"dtype\": \"number\",\n        \"std\": 581.7307174034938,\n        \"min\": 3.0,\n        \"max\": 12500.0,\n        \"num_unique_values\": 1348,\n        \"samples\": [\n          192.0,\n          1164.0,\n          74.38\n        ],\n        \"semantic_type\": \"\",\n        \"description\": \"\"\n      }\n    },\n    {\n      \"column\": \"type\",\n      \"properties\": {\n        \"dtype\": \"category\",\n        \"num_unique_values\": 426,\n        \"samples\": [\n          \"Nappies & Rash Cream\",\n          \"Hair Removal\",\n          \"Crackers & Digestive\"\n        ],\n        \"semantic_type\": \"\",\n        \"description\": \"\"\n      }\n    },\n    {\n      \"column\": \"rating\",\n      \"properties\": {\n        \"dtype\": \"number\",\n        \"std\": 0.739062982864513,\n        \"min\": 1.0,\n        \"max\": 5.0,\n        \"num_unique_values\": 40,\n        \"samples\": [\n          3.0,\n          1.5,\n          3.9\n        ],\n        \"semantic_type\": \"\",\n        \"description\": \"\"\n      }\n    },\n    {\n      \"column\": \"description\",\n      \"properties\": {\n        \"dtype\": \"string\",\n        \"num_unique_values\": 21944,\n        \"samples\": [\n          \"Premium Day Face Cream:Lightweight formula that will give your skin a daily boost of radiance and hydration. Packed with the goodness of skin brightening, Vitamin C Why Is It Special?- It contains the Most Stable & Effective form of Vitamin C, 3-O Ethyl Ascorbic Acid. It is the next generation Vitamin C that really works in improving skin health.- Vitamin C is a proven skin-brightening agent known for its antioxidant properties for decades. It boosts collagen formation and effectively targets visible signs of ageing, giving skin the much-needed glow. - The presence of Vitamin E, Pro-Vitamin B5 & Vitamin B3 helps awaken and clarify your complexion, revealing a natural healthy-looking glow. - SPF 30 & PA+++ provide the highest level of protection against UVA & UVB rays of the sun. The mineral-based sun protection agents shield the skin against the harsh solar radiation, minimizing skin dryness and dullness. - Multiple natural oils are combined for intense hydration and nourishment. Antioxidant-rich botanical extracts are added to keep skin moisturized, smooth & soft. - St.Botanica is a PETA-certified cruelty-free brand. The product does not contain any harmful chemicals & is free from parabens, silicones or mineral oils.\",\n          \"Kari Kari Japanese premium snacks are the exciting irresistible new taste of crunch. Lite and crispy, the savoury rice crackers are mixed with peanuts to make hearty, wholesome snack with delicious, bold and zesty taste with every bite.\",\n          \"Safely store your food in this pink lunch box. The lunch box is made plastic which gives the container durability and sturdiness. The rectangular containers come with an airtight lid to keep food fresh for long. The wide mouth opening of the lunch makes it easy to fill food and easy to clean. The set makes a great gift option for special days.\"\n        ],\n        \"semantic_type\": \"\",\n        \"description\": \"\"\n      }\n    },\n    {\n      \"column\": \"preprocessed_text\",\n      \"properties\": {\n        \"dtype\": \"string\",\n        \"num_unique_values\": 25639,\n        \"samples\": [\n          \"brand mtrsaleprice 3700marketprice 4000type powdered spicesrating 43 description mtr chili powder is a mix of ground dried fruit of red or cayenne chili peppers and other spices it is utilized to add heat or spice to dishes\",\n          \"brand old spicesaleprice 17910marketprice 19900type mens deodorantsrating 38 description old spice brings you a broad line of fragrance products for men who live a dynamic and unconventional life distinctively masculine scents that invigorate and refresh old spice deodorant spray envelops you in a clean manly scent that has served mankind for decades turning your armpit house into an armpit home for beauty tips tricks more visit httpsbigbasketblog\",\n          \"brand palmolivesaleprice 29852marketprice 39800type shower gel body washrating 43 description palmolive aroma absolute relax body wash is infused with ylang ylang essential oil and delicate iris extract to provide you the essence of relaxation of a blissful shower moment savor the relaxing effects of aroma under the shower palmolive bodywashes for women and men are available in a number of variants to choose from including body wash shower gel and creams for beauty tips tricks more visit httpsbigbasketblog\"\n        ],\n        \"semantic_type\": \"\",\n        \"description\": \"\"\n      }\n    },\n    {\n      \"column\": \"combined_text\",\n      \"properties\": {\n        \"dtype\": \"string\",\n        \"num_unique_values\": 27201,\n        \"samples\": [\n          \"\\n<p>Neem Tulsi Body Wash Soap</p>\\n<c>Beauty & Hygiene</c>\\n<sc>Bath & Hand Wash</sc>\\n<br>Meghdoot</br>\\n<sp>$70.0</sp> \\n<mp>$70.0</mp>\\n<t>Bathing Bars & Soaps</t>\\n<r>nan stars</r>\\n<d>The Meghdoot's Neem Tulsi Body Wash is an Ayurvedic bathing bar which is effective in treating skin related ailments such as acne, pimples and skin infections. It is enriched with neem which has anti-bacterial proprieties that is beneficial in treating skin rashes and eczema. The soap helps in moisturising the skin and enhances natural beauty and glow. It is formulated with natural ingredients which are suitable for all skin types. This soap gently wash away body impurities making it smooth.</d>\\n\",\n          \"\\n<p>Lunch Box - Stainless Steel, Midday Maxx Fresh, Blue</p>\\n<c>Kitchen, Garden & Pets</c>\\n<sc>Steel Utensils</sc>\\n<br>Signoraware</br>\\n<sp>$390.0</sp> \\n<mp>$390.0</mp>\\n<t>Steel Lunch Boxes</t>\\n<r>4.3 stars</r>\\n<d>Midday Max Fresh Stainless Steel Lunch Box Set is non-cracking. Made of superior quality stainless steel, leak-proof containers and compact size fit easily in briefcase schoolbag and handbag.Ideal for office executives and school going kids, these spill-proof containers keep food fresh for hours. It comes with a unique insulated bag keeps food warm for hours.</d>\\n\",\n          \"\\n<p>Incense Sticks - Namo Stuti, Scented</p>\\n<c>Cleaning & Household</c>\\n<sc>Pooja Needs</sc>\\n<br>GIRI</br>\\n<sp>$100.0</sp> \\n<mp>$100.0</mp>\\n<t>Agarbatti, Incense Sticks</t>\\n<r>nan stars</r>\\n<d>Giri incense sticks are made using natural herbs, flowers, resin and essential oils. For millennia, the Ayurvedic tradition based on vedic principles prescribes the use of aromatherapy for quality of life. The essential oils, which are the \\\"life and soul\\\" of the plants help in the awakening of innate intelligence. The pleasant aroma of these oils allows the mind and body to settle down through the sense of smell.</d>\\n\"\n        ],\n        \"semantic_type\": \"\",\n        \"description\": \"\"\n      }\n    },\n    {\n      \"column\": \"instruction\",\n      \"properties\": {\n        \"dtype\": \"string\",\n        \"num_unique_values\": 27201,\n        \"samples\": [\n          \"['Product: Neem Tulsi Body Wash Soap', 'Category: Beauty & Hygiene', 'Sub_category: Bath & Hand Wash', 'Brand: Meghdoot', 'Sale_price: $70.0', 'Market_price: $70.0', 'Type: Bathing Bars & Soaps', 'Rating: nan stars', \\\"Description: The Meghdoot's Neem Tulsi Body Wash is an Ayurvedic bathing bar which is effective in treating skin related ailments such as acne, pimples and skin infections. It is enriched with neem which has anti-bacterial proprieties that is beneficial in treating skin rashes and eczema. The soap helps in moisturising the skin and enhances natural beauty and glow. It is formulated with natural ingredients which are suitable for all skin types. This soap gently wash away body impurities making it smooth.\\\"]\",\n          \"['Product: Lunch Box - Stainless Steel, Midday Maxx Fresh, Blue', 'Category: Kitchen, Garden & Pets', 'Sub_category: Steel Utensils', 'Brand: Signoraware', 'Sale_price: $390.0', 'Market_price: $390.0', 'Type: Steel Lunch Boxes', 'Rating: 4.3 stars', 'Description: Midday Max Fresh Stainless Steel Lunch Box Set is non-cracking. Made of superior quality stainless steel, leak-proof containers and compact size fit easily in briefcase schoolbag and handbag.Ideal for office executives and school going kids, these spill-proof containers keep food fresh for hours. It comes with a unique insulated bag keeps food warm for hours.']\",\n          \"['Product: Incense Sticks - Namo Stuti, Scented', 'Category: Cleaning & Household', 'Sub_category: Pooja Needs', 'Brand: GIRI', 'Sale_price: $100.0', 'Market_price: $100.0', 'Type: Agarbatti, Incense Sticks', 'Rating: nan stars', 'Description: Giri incense sticks are made using natural herbs, flowers, resin and essential oils. For millennia, the Ayurvedic tradition based on vedic principles prescribes the use of aromatherapy for quality of life. The essential oils, which are the \\\"life and soul\\\" of the plants help in the awakening of innate intelligence. The pleasant aroma of these oils allows the mind and body to settle down through the sense of smell.']\"\n        ],\n        \"semantic_type\": \"\",\n        \"description\": \"\"\n      }\n    },\n    {\n      \"column\": \"response\",\n      \"properties\": {\n        \"dtype\": \"string\",\n        \"num_unique_values\": 27201,\n        \"samples\": [\n          \"['Neem Tulsi Body Wash Soap', 'Beauty & Hygiene', 'Bath & Hand Wash', 'Meghdoot', '70.0', '70.0', 'Bathing Bars & Soaps', 'nan', \\\"The Meghdoot's Neem Tulsi Body Wash is an Ayurvedic bathing bar which is effective in treating skin related ailments such as acne, pimples and skin infections. It is enriched with neem which has anti-bacterial proprieties that is beneficial in treating skin rashes and eczema. The soap helps in moisturising the skin and enhances natural beauty and glow. It is formulated with natural ingredients which are suitable for all skin types. This soap gently wash away body impurities making it smooth.\\\"]\",\n          \"['Lunch Box - Stainless Steel, Midday Maxx Fresh, Blue', 'Kitchen, Garden & Pets', 'Steel Utensils', 'Signoraware', '390.0', '390.0', 'Steel Lunch Boxes', '4.3', 'Midday Max Fresh Stainless Steel Lunch Box Set is non-cracking. Made of superior quality stainless steel, leak-proof containers and compact size fit easily in briefcase schoolbag and handbag.Ideal for office executives and school going kids, these spill-proof containers keep food fresh for hours. It comes with a unique insulated bag keeps food warm for hours.']\",\n          \"['Incense Sticks - Namo Stuti, Scented', 'Cleaning & Household', 'Pooja Needs', 'GIRI', '100.0', '100.0', 'Agarbatti, Incense Sticks', 'nan', 'Giri incense sticks are made using natural herbs, flowers, resin and essential oils. For millennia, the Ayurvedic tradition based on vedic principles prescribes the use of aromatherapy for quality of life. The essential oils, which are the \\\"life and soul\\\" of the plants help in the awakening of innate intelligence. The pleasant aroma of these oils allows the mind and body to settle down through the sense of smell.']\"\n        ],\n        \"semantic_type\": \"\",\n        \"description\": \"\"\n      }\n    }\n  ]\n}"
            }
          },
          "metadata": {},
          "execution_count": 47
        }
      ]
    },
    {
      "cell_type": "code",
      "source": [
        "len(df)"
      ],
      "metadata": {
        "colab": {
          "base_uri": "https://localhost:8080/"
        },
        "id": "15kdE8CEntYf",
        "outputId": "1aa1c159-0197-477e-ce4b-7a6436c45762"
      },
      "execution_count": 54,
      "outputs": [
        {
          "output_type": "execute_result",
          "data": {
            "text/plain": [
              "27555"
            ]
          },
          "metadata": {},
          "execution_count": 54
        }
      ]
    },
    {
      "cell_type": "code",
      "source": [
        "\n",
        "\n",
        "product\t0.003629\n",
        "category\t0.000000\n",
        "sub_category\t0.000000\n",
        "brand\t0.003629\n",
        "sale_price\t0.000000\n",
        "market_price\t0.000000\n",
        "type\t0.000000\n",
        "rating\t31.304663\n",
        "description\t0.417347\n",
        "instruction\t0.000000\n",
        "input\t6.261659\n",
        "response\t0.000000\n",
        "\n"
      ],
      "metadata": {
        "id": "ewUios38fMHL"
      },
      "execution_count": null,
      "outputs": []
    },
    {
      "cell_type": "code",
      "source": [
        "#Transforming the raw input text into 'instruction', 'input', and 'response'. Here we have questions, that needed to be answered, mentioned under instruction,\n",
        "# the input necessary to answer the question is provided under input, and the corresponding, appropriate, answer is provided under response.\n",
        "\n",
        "def preprocessing_data(df):\n",
        "    \"\"\"Preprocesses the product dataset for fine-tuning a LLaMA model.\n",
        "\n",
        "    Args:\n",
        "        df (pd.DataFrame): The input DataFrame with the specified columns.\n",
        "\n",
        "    Returns:\n",
        "        pd.DataFrame: The preprocessed DataFrame with 'instruction' and 'response' columns.\n",
        "    \"\"\"\n",
        "\n",
        "    def create_instruction_response_pairs(row):\n",
        "        \"\"\"Generates instruction-response pairs for each row.\"\"\"\n",
        "        instructions = []\n",
        "        input = []\n",
        "        responses = []\n",
        "\n",
        "        # Product information\n",
        "        instructions.append(f\"What are the features of the product?\")\n",
        "        input.append([row['product'], row['category'], row['type'], row['sub_category'], row['rating'], row['description']])\n",
        "\n",
        "        responses.append(f\"\"\"{row['product']} belongs to the {row['category']} is a {row['type']} that supports {row['sub_category']}. It has a rating of {row['rating']} stars. Here's a detailed description: {row['description']}\"\"\")\n",
        "\n",
        "        # Price-based query-1\n",
        "        instructions.append(f\"Does this product have any discount?\")\n",
        "        input.append([row['sale_price'], row['market_price']])\n",
        "        responses.append(f\"{'It is currently discounted.' if row['sale_price'] < row['market_price'] else 'There is no discount on this product at the moment.'}\")\n",
        "        # The {row['product']} has a sale price of ${row['sale_price']:.2f} and a market price of ${row['market_price']:.2f}.\n",
        "\n",
        "        # Price-based query-2\n",
        "        instructions.append(f\"How much does it cost?\")\n",
        "        input.append(row['sale_price'])\n",
        "        responses.append(f\"The product costs Rs.{row['sale_price']}\")\n",
        "\n",
        "        # # Product category-based query\n",
        "        # instructions.append(f\"What category and subcategory does {row['product']} belong to?\")\n",
        "        # responses.append(f\"The {row['product']} belongs to the {row['category']} category and the {row['sub_category']} subcategory.\")\n",
        "\n",
        "        # Rating-based query\n",
        "        instructions.append(f\"What's its rating?\")\n",
        "        input.append(row['rating'])\n",
        "        responses.append(f\"It has a rating of {row['rating']} out of 5.\")\n",
        "\n",
        "        # Brand-based query\n",
        "        instructions.append(f\"What's its brand?\")\n",
        "        input.append(row['brand'])\n",
        "        responses.append(f\"The product's brand is {row['brand']}\")\n",
        "\n",
        "        # # Description-based query\n",
        "        # instructions.append(f\"Describe the {row['product']}.\")\n",
        "        # responses.append(row['description'])\n",
        "\n",
        "        return instructions, input, responses\n",
        "\n",
        "    # Apply the function and explode the DataFrame\n",
        "    df[['instruction', 'input', 'response']] = df.apply(create_instruction_response_pairs, axis=1, result_type='expand')\n",
        "    df = df.explode(['instruction', 'input', 'response'])\n",
        "\n",
        "    return df\n",
        "\n",
        "\n"
      ],
      "metadata": {
        "id": "QmRSWtYx4esH"
      },
      "execution_count": 37,
      "outputs": []
    },
    {
      "cell_type": "code",
      "source": [
        "# Preprocess the data\n",
        "preprocessed_df = preprocessing_data(df)"
      ],
      "metadata": {
        "id": "1kjq0A4N5-eM"
      },
      "execution_count": 38,
      "outputs": []
    },
    {
      "cell_type": "code",
      "source": [
        "preprocessed_df.head()"
      ],
      "metadata": {
        "colab": {
          "base_uri": "https://localhost:8080/",
          "height": 293
        },
        "id": "kggERJFQm7Ur",
        "outputId": "d47f1733-a3cf-4b65-b921-8d6a97c114aa"
      },
      "execution_count": 39,
      "outputs": [
        {
          "output_type": "execute_result",
          "data": {
            "text/plain": [
              "                                  product          category sub_category  \\\n",
              "0  Garlic Oil - Vegetarian Capsule 500 mg  Beauty & Hygiene    Hair Care   \n",
              "0  Garlic Oil - Vegetarian Capsule 500 mg  Beauty & Hygiene    Hair Care   \n",
              "0  Garlic Oil - Vegetarian Capsule 500 mg  Beauty & Hygiene    Hair Care   \n",
              "0  Garlic Oil - Vegetarian Capsule 500 mg  Beauty & Hygiene    Hair Care   \n",
              "0  Garlic Oil - Vegetarian Capsule 500 mg  Beauty & Hygiene    Hair Care   \n",
              "\n",
              "               brand  sale_price  market_price              type  rating  \\\n",
              "0  Sri Sri Ayurveda        220.0         220.0  Hair Oil & Serum     4.1   \n",
              "0  Sri Sri Ayurveda        220.0         220.0  Hair Oil & Serum     4.1   \n",
              "0  Sri Sri Ayurveda        220.0         220.0  Hair Oil & Serum     4.1   \n",
              "0  Sri Sri Ayurveda        220.0         220.0  Hair Oil & Serum     4.1   \n",
              "0  Sri Sri Ayurveda        220.0         220.0  Hair Oil & Serum     4.1   \n",
              "\n",
              "                                         description  \\\n",
              "0  This Product contains Garlic Oil that is known...   \n",
              "0  This Product contains Garlic Oil that is known...   \n",
              "0  This Product contains Garlic Oil that is known...   \n",
              "0  This Product contains Garlic Oil that is known...   \n",
              "0  This Product contains Garlic Oil that is known...   \n",
              "\n",
              "                             instruction  \\\n",
              "0  What are the features of the product?   \n",
              "0   Does this product have any discount?   \n",
              "0                 How much does it cost?   \n",
              "0                     What's its rating?   \n",
              "0                      What's its brand?   \n",
              "\n",
              "                                               input  \\\n",
              "0  [Garlic Oil - Vegetarian Capsule 500 mg, Beaut...   \n",
              "0                                     [220.0, 220.0]   \n",
              "0                                              220.0   \n",
              "0                                                4.1   \n",
              "0                                  Sri Sri Ayurveda    \n",
              "\n",
              "                                            response  \n",
              "0  Garlic Oil - Vegetarian Capsule 500 mg belongs...  \n",
              "0  There is no discount on this product at the mo...  \n",
              "0                           The product costs $220.0  \n",
              "0                   It has a rating of 4.1 out of 5.  \n",
              "0           The product's brand is Sri Sri Ayurveda   "
            ],
            "text/html": [
              "\n",
              "  <div id=\"df-0737bc01-873e-4ffc-bbd6-70eca9ce2414\" class=\"colab-df-container\">\n",
              "    <div>\n",
              "<style scoped>\n",
              "    .dataframe tbody tr th:only-of-type {\n",
              "        vertical-align: middle;\n",
              "    }\n",
              "\n",
              "    .dataframe tbody tr th {\n",
              "        vertical-align: top;\n",
              "    }\n",
              "\n",
              "    .dataframe thead th {\n",
              "        text-align: right;\n",
              "    }\n",
              "</style>\n",
              "<table border=\"1\" class=\"dataframe\">\n",
              "  <thead>\n",
              "    <tr style=\"text-align: right;\">\n",
              "      <th></th>\n",
              "      <th>product</th>\n",
              "      <th>category</th>\n",
              "      <th>sub_category</th>\n",
              "      <th>brand</th>\n",
              "      <th>sale_price</th>\n",
              "      <th>market_price</th>\n",
              "      <th>type</th>\n",
              "      <th>rating</th>\n",
              "      <th>description</th>\n",
              "      <th>instruction</th>\n",
              "      <th>input</th>\n",
              "      <th>response</th>\n",
              "    </tr>\n",
              "  </thead>\n",
              "  <tbody>\n",
              "    <tr>\n",
              "      <th>0</th>\n",
              "      <td>Garlic Oil - Vegetarian Capsule 500 mg</td>\n",
              "      <td>Beauty &amp; Hygiene</td>\n",
              "      <td>Hair Care</td>\n",
              "      <td>Sri Sri Ayurveda</td>\n",
              "      <td>220.0</td>\n",
              "      <td>220.0</td>\n",
              "      <td>Hair Oil &amp; Serum</td>\n",
              "      <td>4.1</td>\n",
              "      <td>This Product contains Garlic Oil that is known...</td>\n",
              "      <td>What are the features of the product?</td>\n",
              "      <td>[Garlic Oil - Vegetarian Capsule 500 mg, Beaut...</td>\n",
              "      <td>Garlic Oil - Vegetarian Capsule 500 mg belongs...</td>\n",
              "    </tr>\n",
              "    <tr>\n",
              "      <th>0</th>\n",
              "      <td>Garlic Oil - Vegetarian Capsule 500 mg</td>\n",
              "      <td>Beauty &amp; Hygiene</td>\n",
              "      <td>Hair Care</td>\n",
              "      <td>Sri Sri Ayurveda</td>\n",
              "      <td>220.0</td>\n",
              "      <td>220.0</td>\n",
              "      <td>Hair Oil &amp; Serum</td>\n",
              "      <td>4.1</td>\n",
              "      <td>This Product contains Garlic Oil that is known...</td>\n",
              "      <td>Does this product have any discount?</td>\n",
              "      <td>[220.0, 220.0]</td>\n",
              "      <td>There is no discount on this product at the mo...</td>\n",
              "    </tr>\n",
              "    <tr>\n",
              "      <th>0</th>\n",
              "      <td>Garlic Oil - Vegetarian Capsule 500 mg</td>\n",
              "      <td>Beauty &amp; Hygiene</td>\n",
              "      <td>Hair Care</td>\n",
              "      <td>Sri Sri Ayurveda</td>\n",
              "      <td>220.0</td>\n",
              "      <td>220.0</td>\n",
              "      <td>Hair Oil &amp; Serum</td>\n",
              "      <td>4.1</td>\n",
              "      <td>This Product contains Garlic Oil that is known...</td>\n",
              "      <td>How much does it cost?</td>\n",
              "      <td>220.0</td>\n",
              "      <td>The product costs $220.0</td>\n",
              "    </tr>\n",
              "    <tr>\n",
              "      <th>0</th>\n",
              "      <td>Garlic Oil - Vegetarian Capsule 500 mg</td>\n",
              "      <td>Beauty &amp; Hygiene</td>\n",
              "      <td>Hair Care</td>\n",
              "      <td>Sri Sri Ayurveda</td>\n",
              "      <td>220.0</td>\n",
              "      <td>220.0</td>\n",
              "      <td>Hair Oil &amp; Serum</td>\n",
              "      <td>4.1</td>\n",
              "      <td>This Product contains Garlic Oil that is known...</td>\n",
              "      <td>What's its rating?</td>\n",
              "      <td>4.1</td>\n",
              "      <td>It has a rating of 4.1 out of 5.</td>\n",
              "    </tr>\n",
              "    <tr>\n",
              "      <th>0</th>\n",
              "      <td>Garlic Oil - Vegetarian Capsule 500 mg</td>\n",
              "      <td>Beauty &amp; Hygiene</td>\n",
              "      <td>Hair Care</td>\n",
              "      <td>Sri Sri Ayurveda</td>\n",
              "      <td>220.0</td>\n",
              "      <td>220.0</td>\n",
              "      <td>Hair Oil &amp; Serum</td>\n",
              "      <td>4.1</td>\n",
              "      <td>This Product contains Garlic Oil that is known...</td>\n",
              "      <td>What's its brand?</td>\n",
              "      <td>Sri Sri Ayurveda</td>\n",
              "      <td>The product's brand is Sri Sri Ayurveda</td>\n",
              "    </tr>\n",
              "  </tbody>\n",
              "</table>\n",
              "</div>\n",
              "    <div class=\"colab-df-buttons\">\n",
              "\n",
              "  <div class=\"colab-df-container\">\n",
              "    <button class=\"colab-df-convert\" onclick=\"convertToInteractive('df-0737bc01-873e-4ffc-bbd6-70eca9ce2414')\"\n",
              "            title=\"Convert this dataframe to an interactive table.\"\n",
              "            style=\"display:none;\">\n",
              "\n",
              "  <svg xmlns=\"http://www.w3.org/2000/svg\" height=\"24px\" viewBox=\"0 -960 960 960\">\n",
              "    <path d=\"M120-120v-720h720v720H120Zm60-500h600v-160H180v160Zm220 220h160v-160H400v160Zm0 220h160v-160H400v160ZM180-400h160v-160H180v160Zm440 0h160v-160H620v160ZM180-180h160v-160H180v160Zm440 0h160v-160H620v160Z\"/>\n",
              "  </svg>\n",
              "    </button>\n",
              "\n",
              "  <style>\n",
              "    .colab-df-container {\n",
              "      display:flex;\n",
              "      gap: 12px;\n",
              "    }\n",
              "\n",
              "    .colab-df-convert {\n",
              "      background-color: #E8F0FE;\n",
              "      border: none;\n",
              "      border-radius: 50%;\n",
              "      cursor: pointer;\n",
              "      display: none;\n",
              "      fill: #1967D2;\n",
              "      height: 32px;\n",
              "      padding: 0 0 0 0;\n",
              "      width: 32px;\n",
              "    }\n",
              "\n",
              "    .colab-df-convert:hover {\n",
              "      background-color: #E2EBFA;\n",
              "      box-shadow: 0px 1px 2px rgba(60, 64, 67, 0.3), 0px 1px 3px 1px rgba(60, 64, 67, 0.15);\n",
              "      fill: #174EA6;\n",
              "    }\n",
              "\n",
              "    .colab-df-buttons div {\n",
              "      margin-bottom: 4px;\n",
              "    }\n",
              "\n",
              "    [theme=dark] .colab-df-convert {\n",
              "      background-color: #3B4455;\n",
              "      fill: #D2E3FC;\n",
              "    }\n",
              "\n",
              "    [theme=dark] .colab-df-convert:hover {\n",
              "      background-color: #434B5C;\n",
              "      box-shadow: 0px 1px 3px 1px rgba(0, 0, 0, 0.15);\n",
              "      filter: drop-shadow(0px 1px 2px rgba(0, 0, 0, 0.3));\n",
              "      fill: #FFFFFF;\n",
              "    }\n",
              "  </style>\n",
              "\n",
              "    <script>\n",
              "      const buttonEl =\n",
              "        document.querySelector('#df-0737bc01-873e-4ffc-bbd6-70eca9ce2414 button.colab-df-convert');\n",
              "      buttonEl.style.display =\n",
              "        google.colab.kernel.accessAllowed ? 'block' : 'none';\n",
              "\n",
              "      async function convertToInteractive(key) {\n",
              "        const element = document.querySelector('#df-0737bc01-873e-4ffc-bbd6-70eca9ce2414');\n",
              "        const dataTable =\n",
              "          await google.colab.kernel.invokeFunction('convertToInteractive',\n",
              "                                                    [key], {});\n",
              "        if (!dataTable) return;\n",
              "\n",
              "        const docLinkHtml = 'Like what you see? Visit the ' +\n",
              "          '<a target=\"_blank\" href=https://colab.research.google.com/notebooks/data_table.ipynb>data table notebook</a>'\n",
              "          + ' to learn more about interactive tables.';\n",
              "        element.innerHTML = '';\n",
              "        dataTable['output_type'] = 'display_data';\n",
              "        await google.colab.output.renderOutput(dataTable, element);\n",
              "        const docLink = document.createElement('div');\n",
              "        docLink.innerHTML = docLinkHtml;\n",
              "        element.appendChild(docLink);\n",
              "      }\n",
              "    </script>\n",
              "  </div>\n",
              "\n",
              "\n",
              "<div id=\"df-25fa4a7b-f381-4c22-8f1d-a7624c9f880d\">\n",
              "  <button class=\"colab-df-quickchart\" onclick=\"quickchart('df-25fa4a7b-f381-4c22-8f1d-a7624c9f880d')\"\n",
              "            title=\"Suggest charts\"\n",
              "            style=\"display:none;\">\n",
              "\n",
              "<svg xmlns=\"http://www.w3.org/2000/svg\" height=\"24px\"viewBox=\"0 0 24 24\"\n",
              "     width=\"24px\">\n",
              "    <g>\n",
              "        <path d=\"M19 3H5c-1.1 0-2 .9-2 2v14c0 1.1.9 2 2 2h14c1.1 0 2-.9 2-2V5c0-1.1-.9-2-2-2zM9 17H7v-7h2v7zm4 0h-2V7h2v10zm4 0h-2v-4h2v4z\"/>\n",
              "    </g>\n",
              "</svg>\n",
              "  </button>\n",
              "\n",
              "<style>\n",
              "  .colab-df-quickchart {\n",
              "      --bg-color: #E8F0FE;\n",
              "      --fill-color: #1967D2;\n",
              "      --hover-bg-color: #E2EBFA;\n",
              "      --hover-fill-color: #174EA6;\n",
              "      --disabled-fill-color: #AAA;\n",
              "      --disabled-bg-color: #DDD;\n",
              "  }\n",
              "\n",
              "  [theme=dark] .colab-df-quickchart {\n",
              "      --bg-color: #3B4455;\n",
              "      --fill-color: #D2E3FC;\n",
              "      --hover-bg-color: #434B5C;\n",
              "      --hover-fill-color: #FFFFFF;\n",
              "      --disabled-bg-color: #3B4455;\n",
              "      --disabled-fill-color: #666;\n",
              "  }\n",
              "\n",
              "  .colab-df-quickchart {\n",
              "    background-color: var(--bg-color);\n",
              "    border: none;\n",
              "    border-radius: 50%;\n",
              "    cursor: pointer;\n",
              "    display: none;\n",
              "    fill: var(--fill-color);\n",
              "    height: 32px;\n",
              "    padding: 0;\n",
              "    width: 32px;\n",
              "  }\n",
              "\n",
              "  .colab-df-quickchart:hover {\n",
              "    background-color: var(--hover-bg-color);\n",
              "    box-shadow: 0 1px 2px rgba(60, 64, 67, 0.3), 0 1px 3px 1px rgba(60, 64, 67, 0.15);\n",
              "    fill: var(--button-hover-fill-color);\n",
              "  }\n",
              "\n",
              "  .colab-df-quickchart-complete:disabled,\n",
              "  .colab-df-quickchart-complete:disabled:hover {\n",
              "    background-color: var(--disabled-bg-color);\n",
              "    fill: var(--disabled-fill-color);\n",
              "    box-shadow: none;\n",
              "  }\n",
              "\n",
              "  .colab-df-spinner {\n",
              "    border: 2px solid var(--fill-color);\n",
              "    border-color: transparent;\n",
              "    border-bottom-color: var(--fill-color);\n",
              "    animation:\n",
              "      spin 1s steps(1) infinite;\n",
              "  }\n",
              "\n",
              "  @keyframes spin {\n",
              "    0% {\n",
              "      border-color: transparent;\n",
              "      border-bottom-color: var(--fill-color);\n",
              "      border-left-color: var(--fill-color);\n",
              "    }\n",
              "    20% {\n",
              "      border-color: transparent;\n",
              "      border-left-color: var(--fill-color);\n",
              "      border-top-color: var(--fill-color);\n",
              "    }\n",
              "    30% {\n",
              "      border-color: transparent;\n",
              "      border-left-color: var(--fill-color);\n",
              "      border-top-color: var(--fill-color);\n",
              "      border-right-color: var(--fill-color);\n",
              "    }\n",
              "    40% {\n",
              "      border-color: transparent;\n",
              "      border-right-color: var(--fill-color);\n",
              "      border-top-color: var(--fill-color);\n",
              "    }\n",
              "    60% {\n",
              "      border-color: transparent;\n",
              "      border-right-color: var(--fill-color);\n",
              "    }\n",
              "    80% {\n",
              "      border-color: transparent;\n",
              "      border-right-color: var(--fill-color);\n",
              "      border-bottom-color: var(--fill-color);\n",
              "    }\n",
              "    90% {\n",
              "      border-color: transparent;\n",
              "      border-bottom-color: var(--fill-color);\n",
              "    }\n",
              "  }\n",
              "</style>\n",
              "\n",
              "  <script>\n",
              "    async function quickchart(key) {\n",
              "      const quickchartButtonEl =\n",
              "        document.querySelector('#' + key + ' button');\n",
              "      quickchartButtonEl.disabled = true;  // To prevent multiple clicks.\n",
              "      quickchartButtonEl.classList.add('colab-df-spinner');\n",
              "      try {\n",
              "        const charts = await google.colab.kernel.invokeFunction(\n",
              "            'suggestCharts', [key], {});\n",
              "      } catch (error) {\n",
              "        console.error('Error during call to suggestCharts:', error);\n",
              "      }\n",
              "      quickchartButtonEl.classList.remove('colab-df-spinner');\n",
              "      quickchartButtonEl.classList.add('colab-df-quickchart-complete');\n",
              "    }\n",
              "    (() => {\n",
              "      let quickchartButtonEl =\n",
              "        document.querySelector('#df-25fa4a7b-f381-4c22-8f1d-a7624c9f880d button');\n",
              "      quickchartButtonEl.style.display =\n",
              "        google.colab.kernel.accessAllowed ? 'block' : 'none';\n",
              "    })();\n",
              "  </script>\n",
              "</div>\n",
              "\n",
              "    </div>\n",
              "  </div>\n"
            ],
            "application/vnd.google.colaboratory.intrinsic+json": {
              "type": "dataframe",
              "variable_name": "preprocessed_df"
            }
          },
          "metadata": {},
          "execution_count": 39
        }
      ]
    },
    {
      "cell_type": "code",
      "source": [
        "len(preprocessed_df)"
      ],
      "metadata": {
        "colab": {
          "base_uri": "https://localhost:8080/"
        },
        "id": "ZIWSrqKHm7Yn",
        "outputId": "0a58a0bc-0a20-4fb0-c106-c253b2b4267b"
      },
      "execution_count": 40,
      "outputs": [
        {
          "output_type": "execute_result",
          "data": {
            "text/plain": [
              "137775"
            ]
          },
          "metadata": {},
          "execution_count": 40
        }
      ]
    },
    {
      "cell_type": "code",
      "source": [
        "\n",
        "#Here's the code to save a file to GCP storage - this did not work as there issues with file name\n",
        "\n",
        "# def save_gcp_storage(bucket_name, file_to_save):\n",
        "#   #\n",
        "#   # # Replace with your desired file name\n",
        "#   preprocessed_file_name = str(file_to_save)+'.csv'\n",
        "\n",
        "#   # # Construct the full GCS file path\n",
        "#   gcs_file_path = f'gs://{bucket_name}/{preprocessed_file_name}'\n",
        "\n",
        "#   # Save the DataFrame to GCS\n",
        "#   file_to_save.to_csv(gcs_file_path, index=False)  # Set index=False to avoid saving the index\n",
        "\n",
        "#   return 'DataFrame saved to: {gcs_file_path}'\n"
      ],
      "metadata": {
        "id": "Tp5hiXBfVDs6"
      },
      "execution_count": 46,
      "outputs": []
    },
    {
      "cell_type": "code",
      "source": [
        "#Let's save a copy of this preprocessed data in our GCloud storage\n",
        "\n",
        "# bucket_name = 'senti-bot-retail2-unique'\n",
        "# file_to_save = preprocessed_df\n",
        "# save_gcp_storage(bucket_name, file_to_save)\n",
        "\n",
        "# error received: HttpError: The maximum object length is 1024 characters, but got a name with 4933 characters: '                                      product          category  \\\n",
        "# 0      Gar...', 400\n",
        "\n"
      ],
      "metadata": {
        "id": "SW4wP-z-T_3c"
      },
      "execution_count": 52,
      "outputs": []
    },
    {
      "cell_type": "code",
      "source": [
        "\n",
        "def save_gcp_storage(bucket_name, df_to_save, file_name):\n",
        "    \"\"\"\n",
        "    Save a DataFrame to Google Cloud Storage\n",
        "\n",
        "    Parameters:\n",
        "    bucket_name (str): Name of the GCS bucket\n",
        "    df_to_save (pd.DataFrame): DataFrame to save\n",
        "    file_name (str): Desired name for the file (without extension)\n",
        "\n",
        "    Returns:\n",
        "    str: Confirmation message with the file path\n",
        "    \"\"\"\n",
        "    # Ensure the file name has .csv extension\n",
        "    if not file_name.endswith('.csv'):\n",
        "        file_name = f\"{file_name}.csv\"\n",
        "\n",
        "    # Initialize GCS client\n",
        "    storage_client = storage.Client()\n",
        "\n",
        "    # Get bucket\n",
        "    bucket = storage_client.get_bucket(bucket_name)\n",
        "\n",
        "    # Convert DataFrame to CSV string in memory\n",
        "    csv_buffer = io.StringIO()\n",
        "    df_to_save.to_csv(csv_buffer, index=False)\n",
        "    csv_content = csv_buffer.getvalue()\n",
        "\n",
        "    # Create blob and upload\n",
        "    blob = bucket.blob(file_name)\n",
        "    blob.upload_from_string(csv_content, content_type='text/csv')\n",
        "\n",
        "    # Construct the full GCS path for reference\n",
        "    gcs_file_path = f'gs://{bucket_name}/{file_name}'\n",
        "\n",
        "    return f'DataFrame saved to: {gcs_file_path}'\n",
        ""
      ],
      "metadata": {
        "id": "lzIbrMKSWr1t"
      },
      "execution_count": 50,
      "outputs": []
    },
    {
      "cell_type": "code",
      "source": [
        "\n",
        "#Let's save a copy of this preprocessed data in our GCloud storage\n",
        "\n",
        "bucket_name = 'senti-bot-retail2-unique'\n",
        "df_to_save = preprocessed_df\n",
        "file_name = 'preprocessed_with_instruction_input_output'\n",
        "save_gcp_storage(bucket_name, df_to_save, file_name)\n",
        "\n"
      ],
      "metadata": {
        "colab": {
          "base_uri": "https://localhost:8080/",
          "height": 35
        },
        "id": "ecsaZlnVWucM",
        "outputId": "f32b69b2-f5fa-47b2-e07a-a7665d2d05c3"
      },
      "execution_count": 51,
      "outputs": [
        {
          "output_type": "execute_result",
          "data": {
            "text/plain": [
              "'DataFrame saved to: gs://senti-bot-retail2-unique/preprocessed_with_instruction_input_output.csv'"
            ],
            "application/vnd.google.colaboratory.intrinsic+json": {
              "type": "string"
            }
          },
          "metadata": {},
          "execution_count": 51
        }
      ]
    },
    {
      "cell_type": "code",
      "source": [
        "import gc\n",
        "del preprocessed_df\n",
        "gc.collect()"
      ],
      "metadata": {
        "colab": {
          "base_uri": "https://localhost:8080/"
        },
        "id": "rckWKIttm7bm",
        "outputId": "940974f4-8476-4397-e862-2f3c27e0956d"
      },
      "execution_count": 99,
      "outputs": [
        {
          "output_type": "execute_result",
          "data": {
            "text/plain": [
              "179"
            ]
          },
          "metadata": {},
          "execution_count": 99
        }
      ]
    },
    {
      "cell_type": "code",
      "source": [
        "preprocessed_df_final = preprocessed_df[['instruction', 'input', 'response']]"
      ],
      "metadata": {
        "id": "r4eDDVvqm7e0"
      },
      "execution_count": 53,
      "outputs": []
    },
    {
      "cell_type": "code",
      "source": [
        "os.getcwd()"
      ],
      "metadata": {
        "colab": {
          "base_uri": "https://localhost:8080/",
          "height": 35
        },
        "id": "cfZ4Rh_C0SJv",
        "outputId": "8e3fd5a0-9bb8-4edb-a140-45b971c91dba"
      },
      "execution_count": 71,
      "outputs": [
        {
          "output_type": "execute_result",
          "data": {
            "text/plain": [
              "'/content'"
            ],
            "application/vnd.google.colaboratory.intrinsic+json": {
              "type": "string"
            }
          },
          "metadata": {},
          "execution_count": 71
        }
      ]
    },
    {
      "cell_type": "code",
      "source": [
        "preprocessed_df_final.head(10)"
      ],
      "metadata": {
        "colab": {
          "base_uri": "https://localhost:8080/",
          "height": 363
        },
        "id": "zFK-c_Ab27X6",
        "outputId": "ce1018ea-2222-4f7f-e086-c4487693cd25"
      },
      "execution_count": 72,
      "outputs": [
        {
          "output_type": "execute_result",
          "data": {
            "text/plain": [
              "                             instruction  \\\n",
              "0  What are the features of the product?   \n",
              "0   Does this product have any discount?   \n",
              "0                 How much does it cost?   \n",
              "0                     What's its rating?   \n",
              "0                      What's its brand?   \n",
              "1  What are the features of the product?   \n",
              "1   Does this product have any discount?   \n",
              "1                 How much does it cost?   \n",
              "1                     What's its rating?   \n",
              "1                      What's its brand?   \n",
              "\n",
              "                                               input  \\\n",
              "0  [Garlic Oil - Vegetarian Capsule 500 mg, Beaut...   \n",
              "0                                     [220.0, 220.0]   \n",
              "0                                              220.0   \n",
              "0                                                4.1   \n",
              "0                                  Sri Sri Ayurveda    \n",
              "1  [Water Bottle - Orange, Kitchen, Garden & Pets...   \n",
              "1                                     [180.0, 180.0]   \n",
              "1                                              180.0   \n",
              "1                                                2.3   \n",
              "1                                         Mastercook   \n",
              "\n",
              "                                            response  \n",
              "0  Garlic Oil - Vegetarian Capsule 500 mg belongs...  \n",
              "0  There is no discount on this product at the mo...  \n",
              "0                           The product costs $220.0  \n",
              "0                   It has a rating of 4.1 out of 5.  \n",
              "0           The product's brand is Sri Sri Ayurveda   \n",
              "1  Water Bottle - Orange belongs to the Kitchen, ...  \n",
              "1  There is no discount on this product at the mo...  \n",
              "1                           The product costs $180.0  \n",
              "1                   It has a rating of 2.3 out of 5.  \n",
              "1                  The product's brand is Mastercook  "
            ],
            "text/html": [
              "\n",
              "  <div id=\"df-cc4a7a46-e413-4a40-954a-0deaece4df53\" class=\"colab-df-container\">\n",
              "    <div>\n",
              "<style scoped>\n",
              "    .dataframe tbody tr th:only-of-type {\n",
              "        vertical-align: middle;\n",
              "    }\n",
              "\n",
              "    .dataframe tbody tr th {\n",
              "        vertical-align: top;\n",
              "    }\n",
              "\n",
              "    .dataframe thead th {\n",
              "        text-align: right;\n",
              "    }\n",
              "</style>\n",
              "<table border=\"1\" class=\"dataframe\">\n",
              "  <thead>\n",
              "    <tr style=\"text-align: right;\">\n",
              "      <th></th>\n",
              "      <th>instruction</th>\n",
              "      <th>input</th>\n",
              "      <th>response</th>\n",
              "    </tr>\n",
              "  </thead>\n",
              "  <tbody>\n",
              "    <tr>\n",
              "      <th>0</th>\n",
              "      <td>What are the features of the product?</td>\n",
              "      <td>[Garlic Oil - Vegetarian Capsule 500 mg, Beaut...</td>\n",
              "      <td>Garlic Oil - Vegetarian Capsule 500 mg belongs...</td>\n",
              "    </tr>\n",
              "    <tr>\n",
              "      <th>0</th>\n",
              "      <td>Does this product have any discount?</td>\n",
              "      <td>[220.0, 220.0]</td>\n",
              "      <td>There is no discount on this product at the mo...</td>\n",
              "    </tr>\n",
              "    <tr>\n",
              "      <th>0</th>\n",
              "      <td>How much does it cost?</td>\n",
              "      <td>220.0</td>\n",
              "      <td>The product costs $220.0</td>\n",
              "    </tr>\n",
              "    <tr>\n",
              "      <th>0</th>\n",
              "      <td>What's its rating?</td>\n",
              "      <td>4.1</td>\n",
              "      <td>It has a rating of 4.1 out of 5.</td>\n",
              "    </tr>\n",
              "    <tr>\n",
              "      <th>0</th>\n",
              "      <td>What's its brand?</td>\n",
              "      <td>Sri Sri Ayurveda</td>\n",
              "      <td>The product's brand is Sri Sri Ayurveda</td>\n",
              "    </tr>\n",
              "    <tr>\n",
              "      <th>1</th>\n",
              "      <td>What are the features of the product?</td>\n",
              "      <td>[Water Bottle - Orange, Kitchen, Garden &amp; Pets...</td>\n",
              "      <td>Water Bottle - Orange belongs to the Kitchen, ...</td>\n",
              "    </tr>\n",
              "    <tr>\n",
              "      <th>1</th>\n",
              "      <td>Does this product have any discount?</td>\n",
              "      <td>[180.0, 180.0]</td>\n",
              "      <td>There is no discount on this product at the mo...</td>\n",
              "    </tr>\n",
              "    <tr>\n",
              "      <th>1</th>\n",
              "      <td>How much does it cost?</td>\n",
              "      <td>180.0</td>\n",
              "      <td>The product costs $180.0</td>\n",
              "    </tr>\n",
              "    <tr>\n",
              "      <th>1</th>\n",
              "      <td>What's its rating?</td>\n",
              "      <td>2.3</td>\n",
              "      <td>It has a rating of 2.3 out of 5.</td>\n",
              "    </tr>\n",
              "    <tr>\n",
              "      <th>1</th>\n",
              "      <td>What's its brand?</td>\n",
              "      <td>Mastercook</td>\n",
              "      <td>The product's brand is Mastercook</td>\n",
              "    </tr>\n",
              "  </tbody>\n",
              "</table>\n",
              "</div>\n",
              "    <div class=\"colab-df-buttons\">\n",
              "\n",
              "  <div class=\"colab-df-container\">\n",
              "    <button class=\"colab-df-convert\" onclick=\"convertToInteractive('df-cc4a7a46-e413-4a40-954a-0deaece4df53')\"\n",
              "            title=\"Convert this dataframe to an interactive table.\"\n",
              "            style=\"display:none;\">\n",
              "\n",
              "  <svg xmlns=\"http://www.w3.org/2000/svg\" height=\"24px\" viewBox=\"0 -960 960 960\">\n",
              "    <path d=\"M120-120v-720h720v720H120Zm60-500h600v-160H180v160Zm220 220h160v-160H400v160Zm0 220h160v-160H400v160ZM180-400h160v-160H180v160Zm440 0h160v-160H620v160ZM180-180h160v-160H180v160Zm440 0h160v-160H620v160Z\"/>\n",
              "  </svg>\n",
              "    </button>\n",
              "\n",
              "  <style>\n",
              "    .colab-df-container {\n",
              "      display:flex;\n",
              "      gap: 12px;\n",
              "    }\n",
              "\n",
              "    .colab-df-convert {\n",
              "      background-color: #E8F0FE;\n",
              "      border: none;\n",
              "      border-radius: 50%;\n",
              "      cursor: pointer;\n",
              "      display: none;\n",
              "      fill: #1967D2;\n",
              "      height: 32px;\n",
              "      padding: 0 0 0 0;\n",
              "      width: 32px;\n",
              "    }\n",
              "\n",
              "    .colab-df-convert:hover {\n",
              "      background-color: #E2EBFA;\n",
              "      box-shadow: 0px 1px 2px rgba(60, 64, 67, 0.3), 0px 1px 3px 1px rgba(60, 64, 67, 0.15);\n",
              "      fill: #174EA6;\n",
              "    }\n",
              "\n",
              "    .colab-df-buttons div {\n",
              "      margin-bottom: 4px;\n",
              "    }\n",
              "\n",
              "    [theme=dark] .colab-df-convert {\n",
              "      background-color: #3B4455;\n",
              "      fill: #D2E3FC;\n",
              "    }\n",
              "\n",
              "    [theme=dark] .colab-df-convert:hover {\n",
              "      background-color: #434B5C;\n",
              "      box-shadow: 0px 1px 3px 1px rgba(0, 0, 0, 0.15);\n",
              "      filter: drop-shadow(0px 1px 2px rgba(0, 0, 0, 0.3));\n",
              "      fill: #FFFFFF;\n",
              "    }\n",
              "  </style>\n",
              "\n",
              "    <script>\n",
              "      const buttonEl =\n",
              "        document.querySelector('#df-cc4a7a46-e413-4a40-954a-0deaece4df53 button.colab-df-convert');\n",
              "      buttonEl.style.display =\n",
              "        google.colab.kernel.accessAllowed ? 'block' : 'none';\n",
              "\n",
              "      async function convertToInteractive(key) {\n",
              "        const element = document.querySelector('#df-cc4a7a46-e413-4a40-954a-0deaece4df53');\n",
              "        const dataTable =\n",
              "          await google.colab.kernel.invokeFunction('convertToInteractive',\n",
              "                                                    [key], {});\n",
              "        if (!dataTable) return;\n",
              "\n",
              "        const docLinkHtml = 'Like what you see? Visit the ' +\n",
              "          '<a target=\"_blank\" href=https://colab.research.google.com/notebooks/data_table.ipynb>data table notebook</a>'\n",
              "          + ' to learn more about interactive tables.';\n",
              "        element.innerHTML = '';\n",
              "        dataTable['output_type'] = 'display_data';\n",
              "        await google.colab.output.renderOutput(dataTable, element);\n",
              "        const docLink = document.createElement('div');\n",
              "        docLink.innerHTML = docLinkHtml;\n",
              "        element.appendChild(docLink);\n",
              "      }\n",
              "    </script>\n",
              "  </div>\n",
              "\n",
              "\n",
              "<div id=\"df-bd079a25-c17e-4444-a32d-8460d9c7e7ea\">\n",
              "  <button class=\"colab-df-quickchart\" onclick=\"quickchart('df-bd079a25-c17e-4444-a32d-8460d9c7e7ea')\"\n",
              "            title=\"Suggest charts\"\n",
              "            style=\"display:none;\">\n",
              "\n",
              "<svg xmlns=\"http://www.w3.org/2000/svg\" height=\"24px\"viewBox=\"0 0 24 24\"\n",
              "     width=\"24px\">\n",
              "    <g>\n",
              "        <path d=\"M19 3H5c-1.1 0-2 .9-2 2v14c0 1.1.9 2 2 2h14c1.1 0 2-.9 2-2V5c0-1.1-.9-2-2-2zM9 17H7v-7h2v7zm4 0h-2V7h2v10zm4 0h-2v-4h2v4z\"/>\n",
              "    </g>\n",
              "</svg>\n",
              "  </button>\n",
              "\n",
              "<style>\n",
              "  .colab-df-quickchart {\n",
              "      --bg-color: #E8F0FE;\n",
              "      --fill-color: #1967D2;\n",
              "      --hover-bg-color: #E2EBFA;\n",
              "      --hover-fill-color: #174EA6;\n",
              "      --disabled-fill-color: #AAA;\n",
              "      --disabled-bg-color: #DDD;\n",
              "  }\n",
              "\n",
              "  [theme=dark] .colab-df-quickchart {\n",
              "      --bg-color: #3B4455;\n",
              "      --fill-color: #D2E3FC;\n",
              "      --hover-bg-color: #434B5C;\n",
              "      --hover-fill-color: #FFFFFF;\n",
              "      --disabled-bg-color: #3B4455;\n",
              "      --disabled-fill-color: #666;\n",
              "  }\n",
              "\n",
              "  .colab-df-quickchart {\n",
              "    background-color: var(--bg-color);\n",
              "    border: none;\n",
              "    border-radius: 50%;\n",
              "    cursor: pointer;\n",
              "    display: none;\n",
              "    fill: var(--fill-color);\n",
              "    height: 32px;\n",
              "    padding: 0;\n",
              "    width: 32px;\n",
              "  }\n",
              "\n",
              "  .colab-df-quickchart:hover {\n",
              "    background-color: var(--hover-bg-color);\n",
              "    box-shadow: 0 1px 2px rgba(60, 64, 67, 0.3), 0 1px 3px 1px rgba(60, 64, 67, 0.15);\n",
              "    fill: var(--button-hover-fill-color);\n",
              "  }\n",
              "\n",
              "  .colab-df-quickchart-complete:disabled,\n",
              "  .colab-df-quickchart-complete:disabled:hover {\n",
              "    background-color: var(--disabled-bg-color);\n",
              "    fill: var(--disabled-fill-color);\n",
              "    box-shadow: none;\n",
              "  }\n",
              "\n",
              "  .colab-df-spinner {\n",
              "    border: 2px solid var(--fill-color);\n",
              "    border-color: transparent;\n",
              "    border-bottom-color: var(--fill-color);\n",
              "    animation:\n",
              "      spin 1s steps(1) infinite;\n",
              "  }\n",
              "\n",
              "  @keyframes spin {\n",
              "    0% {\n",
              "      border-color: transparent;\n",
              "      border-bottom-color: var(--fill-color);\n",
              "      border-left-color: var(--fill-color);\n",
              "    }\n",
              "    20% {\n",
              "      border-color: transparent;\n",
              "      border-left-color: var(--fill-color);\n",
              "      border-top-color: var(--fill-color);\n",
              "    }\n",
              "    30% {\n",
              "      border-color: transparent;\n",
              "      border-left-color: var(--fill-color);\n",
              "      border-top-color: var(--fill-color);\n",
              "      border-right-color: var(--fill-color);\n",
              "    }\n",
              "    40% {\n",
              "      border-color: transparent;\n",
              "      border-right-color: var(--fill-color);\n",
              "      border-top-color: var(--fill-color);\n",
              "    }\n",
              "    60% {\n",
              "      border-color: transparent;\n",
              "      border-right-color: var(--fill-color);\n",
              "    }\n",
              "    80% {\n",
              "      border-color: transparent;\n",
              "      border-right-color: var(--fill-color);\n",
              "      border-bottom-color: var(--fill-color);\n",
              "    }\n",
              "    90% {\n",
              "      border-color: transparent;\n",
              "      border-bottom-color: var(--fill-color);\n",
              "    }\n",
              "  }\n",
              "</style>\n",
              "\n",
              "  <script>\n",
              "    async function quickchart(key) {\n",
              "      const quickchartButtonEl =\n",
              "        document.querySelector('#' + key + ' button');\n",
              "      quickchartButtonEl.disabled = true;  // To prevent multiple clicks.\n",
              "      quickchartButtonEl.classList.add('colab-df-spinner');\n",
              "      try {\n",
              "        const charts = await google.colab.kernel.invokeFunction(\n",
              "            'suggestCharts', [key], {});\n",
              "      } catch (error) {\n",
              "        console.error('Error during call to suggestCharts:', error);\n",
              "      }\n",
              "      quickchartButtonEl.classList.remove('colab-df-spinner');\n",
              "      quickchartButtonEl.classList.add('colab-df-quickchart-complete');\n",
              "    }\n",
              "    (() => {\n",
              "      let quickchartButtonEl =\n",
              "        document.querySelector('#df-bd079a25-c17e-4444-a32d-8460d9c7e7ea button');\n",
              "      quickchartButtonEl.style.display =\n",
              "        google.colab.kernel.accessAllowed ? 'block' : 'none';\n",
              "    })();\n",
              "  </script>\n",
              "</div>\n",
              "\n",
              "    </div>\n",
              "  </div>\n"
            ],
            "application/vnd.google.colaboratory.intrinsic+json": {
              "type": "dataframe",
              "variable_name": "preprocessed_df_final"
            }
          },
          "metadata": {},
          "execution_count": 72
        }
      ]
    },
    {
      "cell_type": "code",
      "source": [
        "#Saving a copy here - to colab disk\n",
        "preprocessed_df_final.to_csv(\"/content/preprocessed_df_final.csv\", index=False)"
      ],
      "metadata": {
        "id": "O7wqlOPb0JgN"
      },
      "execution_count": 73,
      "outputs": []
    },
    {
      "cell_type": "code",
      "source": [
        "\n",
        "del df\n",
        "gc.collect()\n"
      ],
      "metadata": {
        "colab": {
          "base_uri": "https://localhost:8080/"
        },
        "id": "kCWzbD7T27aq",
        "outputId": "557ce460-6fd9-45d0-a1c4-9107e58ac4bd"
      },
      "execution_count": 58,
      "outputs": [
        {
          "output_type": "execute_result",
          "data": {
            "text/plain": [
              "564"
            ]
          },
          "metadata": {},
          "execution_count": 58
        }
      ]
    },
    {
      "cell_type": "code",
      "source": [
        "# Wanted to check the max and min length of sentences, but all I got was count of sentences here\n",
        "\n",
        "import codecs\n",
        "import csv\n",
        "\n",
        "def parse_data_from_file(filename):\n",
        "    sentences = []\n",
        "    labels = []\n",
        "    max_sent_len = 0\n",
        "    min_sent_len = 1000000\n",
        "    with codecs.open(filename, 'r', encoding='utf-8', errors='ignore') as csvfile:\n",
        "        reader = csv.reader(csvfile, delimiter=',')\n",
        "        for row in reader:\n",
        "            max_sent_len = max(max_sent_len, len(row))\n",
        "            min_sent_len = min(min_sent_len, len(row))\n",
        "\n",
        "    return max_sent_len, min_sent_len\n"
      ],
      "metadata": {
        "id": "m9pCrVX6zVpV"
      },
      "execution_count": 86,
      "outputs": []
    },
    {
      "cell_type": "code",
      "source": [
        "\n",
        "max_sent_len, min_sent_len = parse_data_from_file(\"/content/preprocessed_df_final.csv\")\n"
      ],
      "metadata": {
        "id": "_wcuPWPUzYRU"
      },
      "execution_count": 87,
      "outputs": []
    },
    {
      "cell_type": "code",
      "source": [
        "max_sent_len, min_sent_len"
      ],
      "metadata": {
        "colab": {
          "base_uri": "https://localhost:8080/"
        },
        "id": "RPJX-b4N1PBE",
        "outputId": "48e204aa-e3c9-4c3f-f02f-739881083c7e"
      },
      "execution_count": 89,
      "outputs": [
        {
          "output_type": "execute_result",
          "data": {
            "text/plain": [
              "(3, 3)"
            ]
          },
          "metadata": {},
          "execution_count": 89
        }
      ]
    },
    {
      "cell_type": "code",
      "source": [
        "!pip install datasets"
      ],
      "metadata": {
        "colab": {
          "base_uri": "https://localhost:8080/"
        },
        "id": "D3E8yHpM50ad",
        "outputId": "7754a19e-a1ce-4b92-e484-9353d15ee184"
      },
      "execution_count": 93,
      "outputs": [
        {
          "output_type": "stream",
          "name": "stdout",
          "text": [
            "Collecting datasets\n",
            "  Downloading datasets-3.1.0-py3-none-any.whl.metadata (20 kB)\n",
            "Requirement already satisfied: filelock in /usr/local/lib/python3.10/dist-packages (from datasets) (3.16.1)\n",
            "Requirement already satisfied: numpy>=1.17 in /usr/local/lib/python3.10/dist-packages (from datasets) (1.26.4)\n",
            "Requirement already satisfied: pyarrow>=15.0.0 in /usr/local/lib/python3.10/dist-packages (from datasets) (17.0.0)\n",
            "Collecting dill<0.3.9,>=0.3.0 (from datasets)\n",
            "  Downloading dill-0.3.8-py3-none-any.whl.metadata (10 kB)\n",
            "Requirement already satisfied: pandas in /usr/local/lib/python3.10/dist-packages (from datasets) (2.2.2)\n",
            "Requirement already satisfied: requests>=2.32.2 in /usr/local/lib/python3.10/dist-packages (from datasets) (2.32.3)\n",
            "Requirement already satisfied: tqdm>=4.66.3 in /usr/local/lib/python3.10/dist-packages (from datasets) (4.66.6)\n",
            "Collecting xxhash (from datasets)\n",
            "  Downloading xxhash-3.5.0-cp310-cp310-manylinux_2_17_x86_64.manylinux2014_x86_64.whl.metadata (12 kB)\n",
            "Collecting multiprocess<0.70.17 (from datasets)\n",
            "  Downloading multiprocess-0.70.16-py310-none-any.whl.metadata (7.2 kB)\n",
            "Collecting fsspec<=2024.9.0,>=2023.1.0 (from fsspec[http]<=2024.9.0,>=2023.1.0->datasets)\n",
            "  Downloading fsspec-2024.9.0-py3-none-any.whl.metadata (11 kB)\n",
            "Requirement already satisfied: aiohttp in /usr/local/lib/python3.10/dist-packages (from datasets) (3.10.10)\n",
            "Requirement already satisfied: huggingface-hub>=0.23.0 in /usr/local/lib/python3.10/dist-packages (from datasets) (0.24.7)\n",
            "Requirement already satisfied: packaging in /usr/local/lib/python3.10/dist-packages (from datasets) (24.1)\n",
            "Requirement already satisfied: pyyaml>=5.1 in /usr/local/lib/python3.10/dist-packages (from datasets) (6.0.2)\n",
            "Requirement already satisfied: aiohappyeyeballs>=2.3.0 in /usr/local/lib/python3.10/dist-packages (from aiohttp->datasets) (2.4.3)\n",
            "Requirement already satisfied: aiosignal>=1.1.2 in /usr/local/lib/python3.10/dist-packages (from aiohttp->datasets) (1.3.1)\n",
            "Requirement already satisfied: attrs>=17.3.0 in /usr/local/lib/python3.10/dist-packages (from aiohttp->datasets) (24.2.0)\n",
            "Requirement already satisfied: frozenlist>=1.1.1 in /usr/local/lib/python3.10/dist-packages (from aiohttp->datasets) (1.5.0)\n",
            "Requirement already satisfied: multidict<7.0,>=4.5 in /usr/local/lib/python3.10/dist-packages (from aiohttp->datasets) (6.1.0)\n",
            "Requirement already satisfied: yarl<2.0,>=1.12.0 in /usr/local/lib/python3.10/dist-packages (from aiohttp->datasets) (1.17.0)\n",
            "Requirement already satisfied: async-timeout<5.0,>=4.0 in /usr/local/lib/python3.10/dist-packages (from aiohttp->datasets) (4.0.3)\n",
            "Requirement already satisfied: typing-extensions>=3.7.4.3 in /usr/local/lib/python3.10/dist-packages (from huggingface-hub>=0.23.0->datasets) (4.12.2)\n",
            "Requirement already satisfied: charset-normalizer<4,>=2 in /usr/local/lib/python3.10/dist-packages (from requests>=2.32.2->datasets) (3.4.0)\n",
            "Requirement already satisfied: idna<4,>=2.5 in /usr/local/lib/python3.10/dist-packages (from requests>=2.32.2->datasets) (3.10)\n",
            "Requirement already satisfied: urllib3<3,>=1.21.1 in /usr/local/lib/python3.10/dist-packages (from requests>=2.32.2->datasets) (2.2.3)\n",
            "Requirement already satisfied: certifi>=2017.4.17 in /usr/local/lib/python3.10/dist-packages (from requests>=2.32.2->datasets) (2024.8.30)\n",
            "Requirement already satisfied: python-dateutil>=2.8.2 in /usr/local/lib/python3.10/dist-packages (from pandas->datasets) (2.8.2)\n",
            "Requirement already satisfied: pytz>=2020.1 in /usr/local/lib/python3.10/dist-packages (from pandas->datasets) (2024.2)\n",
            "Requirement already satisfied: tzdata>=2022.7 in /usr/local/lib/python3.10/dist-packages (from pandas->datasets) (2024.2)\n",
            "Requirement already satisfied: six>=1.5 in /usr/local/lib/python3.10/dist-packages (from python-dateutil>=2.8.2->pandas->datasets) (1.16.0)\n",
            "Requirement already satisfied: propcache>=0.2.0 in /usr/local/lib/python3.10/dist-packages (from yarl<2.0,>=1.12.0->aiohttp->datasets) (0.2.0)\n",
            "Downloading datasets-3.1.0-py3-none-any.whl (480 kB)\n",
            "\u001b[2K   \u001b[90m━━━━━━━━━━━━━━━━━━━━━━━━━━━━━━━━━━━━━━━━\u001b[0m \u001b[32m480.6/480.6 kB\u001b[0m \u001b[31m10.2 MB/s\u001b[0m eta \u001b[36m0:00:00\u001b[0m\n",
            "\u001b[?25hDownloading dill-0.3.8-py3-none-any.whl (116 kB)\n",
            "\u001b[2K   \u001b[90m━━━━━━━━━━━━━━━━━━━━━━━━━━━━━━━━━━━━━━━━\u001b[0m \u001b[32m116.3/116.3 kB\u001b[0m \u001b[31m9.1 MB/s\u001b[0m eta \u001b[36m0:00:00\u001b[0m\n",
            "\u001b[?25hDownloading fsspec-2024.9.0-py3-none-any.whl (179 kB)\n",
            "\u001b[2K   \u001b[90m━━━━━━━━━━━━━━━━━━━━━━━━━━━━━━━━━━━━━━━━\u001b[0m \u001b[32m179.3/179.3 kB\u001b[0m \u001b[31m13.8 MB/s\u001b[0m eta \u001b[36m0:00:00\u001b[0m\n",
            "\u001b[?25hDownloading multiprocess-0.70.16-py310-none-any.whl (134 kB)\n",
            "\u001b[2K   \u001b[90m━━━━━━━━━━━━━━━━━━━━━━━━━━━━━━━━━━━━━━━━\u001b[0m \u001b[32m134.8/134.8 kB\u001b[0m \u001b[31m8.9 MB/s\u001b[0m eta \u001b[36m0:00:00\u001b[0m\n",
            "\u001b[?25hDownloading xxhash-3.5.0-cp310-cp310-manylinux_2_17_x86_64.manylinux2014_x86_64.whl (194 kB)\n",
            "\u001b[2K   \u001b[90m━━━━━━━━━━━━━━━━━━━━━━━━━━━━━━━━━━━━━━━━\u001b[0m \u001b[32m194.1/194.1 kB\u001b[0m \u001b[31m13.5 MB/s\u001b[0m eta \u001b[36m0:00:00\u001b[0m\n",
            "\u001b[?25hInstalling collected packages: xxhash, fsspec, dill, multiprocess, datasets\n",
            "  Attempting uninstall: fsspec\n",
            "    Found existing installation: fsspec 2024.10.0\n",
            "    Uninstalling fsspec-2024.10.0:\n",
            "      Successfully uninstalled fsspec-2024.10.0\n",
            "\u001b[31mERROR: pip's dependency resolver does not currently take into account all the packages that are installed. This behaviour is the source of the following dependency conflicts.\n",
            "gcsfs 2024.10.0 requires fsspec==2024.10.0, but you have fsspec 2024.9.0 which is incompatible.\u001b[0m\u001b[31m\n",
            "\u001b[0mSuccessfully installed datasets-3.1.0 dill-0.3.8 fsspec-2024.9.0 multiprocess-0.70.16 xxhash-3.5.0\n"
          ]
        }
      ]
    },
    {
      "cell_type": "code",
      "source": [
        "from datasets import load_dataset"
      ],
      "metadata": {
        "id": "G3vgy_Sy5pzu"
      },
      "execution_count": 94,
      "outputs": []
    },
    {
      "cell_type": "code",
      "source": [
        "\n",
        "data = load_dataset(\"Abirate/english_quotes\", split=\"train\")\n"
      ],
      "metadata": {
        "id": "G_3aWSDJ5mis"
      },
      "execution_count": 108,
      "outputs": []
    },
    {
      "cell_type": "code",
      "source": [
        "print(data)"
      ],
      "metadata": {
        "colab": {
          "base_uri": "https://localhost:8080/"
        },
        "id": "djf9kbtB5ml4",
        "outputId": "9844e749-abbe-4b95-a676-10a608487242"
      },
      "execution_count": 109,
      "outputs": [
        {
          "output_type": "stream",
          "name": "stdout",
          "text": [
            "Dataset({\n",
            "    features: ['quote', 'author', 'tags'],\n",
            "    num_rows: 2508\n",
            "})\n"
          ]
        }
      ]
    },
    {
      "cell_type": "code",
      "source": [
        "data[0]"
      ],
      "metadata": {
        "colab": {
          "base_uri": "https://localhost:8080/"
        },
        "id": "tYP2XGFI6uzH",
        "outputId": "9a056b8e-6b00-4f36-dc36-e8a7b1ba6a9f"
      },
      "execution_count": 116,
      "outputs": [
        {
          "output_type": "execute_result",
          "data": {
            "text/plain": [
              "{'quote': '“Be yourself; everyone else is already taken.”',\n",
              " 'author': 'Oscar Wilde',\n",
              " 'tags': ['be-yourself',\n",
              "  'gilbert-perreira',\n",
              "  'honesty',\n",
              "  'inspirational',\n",
              "  'misattributed-oscar-wilde',\n",
              "  'quote-investigator']}"
            ]
          },
          "metadata": {},
          "execution_count": 116
        }
      ]
    },
    {
      "cell_type": "code",
      "source": [
        "!pip install datasets"
      ],
      "metadata": {
        "colab": {
          "base_uri": "https://localhost:8080/"
        },
        "id": "4jpG25MjULbr",
        "outputId": "3badcf15-eb90-49e8-ae91-5c6a0c7110ee"
      },
      "execution_count": 16,
      "outputs": [
        {
          "output_type": "stream",
          "name": "stdout",
          "text": [
            "Collecting datasets\n",
            "  Downloading datasets-3.1.0-py3-none-any.whl.metadata (20 kB)\n",
            "Requirement already satisfied: filelock in /usr/local/lib/python3.10/dist-packages (from datasets) (3.16.1)\n",
            "Requirement already satisfied: numpy>=1.17 in /usr/local/lib/python3.10/dist-packages (from datasets) (1.26.4)\n",
            "Requirement already satisfied: pyarrow>=15.0.0 in /usr/local/lib/python3.10/dist-packages (from datasets) (17.0.0)\n",
            "Collecting dill<0.3.9,>=0.3.0 (from datasets)\n",
            "  Downloading dill-0.3.8-py3-none-any.whl.metadata (10 kB)\n",
            "Requirement already satisfied: pandas in /usr/local/lib/python3.10/dist-packages (from datasets) (2.2.2)\n",
            "Requirement already satisfied: requests>=2.32.2 in /usr/local/lib/python3.10/dist-packages (from datasets) (2.32.3)\n",
            "Requirement already satisfied: tqdm>=4.66.3 in /usr/local/lib/python3.10/dist-packages (from datasets) (4.66.6)\n",
            "Collecting xxhash (from datasets)\n",
            "  Downloading xxhash-3.5.0-cp310-cp310-manylinux_2_17_x86_64.manylinux2014_x86_64.whl.metadata (12 kB)\n",
            "Collecting multiprocess<0.70.17 (from datasets)\n",
            "  Downloading multiprocess-0.70.16-py310-none-any.whl.metadata (7.2 kB)\n",
            "Collecting fsspec<=2024.9.0,>=2023.1.0 (from fsspec[http]<=2024.9.0,>=2023.1.0->datasets)\n",
            "  Downloading fsspec-2024.9.0-py3-none-any.whl.metadata (11 kB)\n",
            "Requirement already satisfied: aiohttp in /usr/local/lib/python3.10/dist-packages (from datasets) (3.10.10)\n",
            "Requirement already satisfied: huggingface-hub>=0.23.0 in /usr/local/lib/python3.10/dist-packages (from datasets) (0.24.7)\n",
            "Requirement already satisfied: packaging in /usr/local/lib/python3.10/dist-packages (from datasets) (24.1)\n",
            "Requirement already satisfied: pyyaml>=5.1 in /usr/local/lib/python3.10/dist-packages (from datasets) (6.0.2)\n",
            "Requirement already satisfied: aiohappyeyeballs>=2.3.0 in /usr/local/lib/python3.10/dist-packages (from aiohttp->datasets) (2.4.3)\n",
            "Requirement already satisfied: aiosignal>=1.1.2 in /usr/local/lib/python3.10/dist-packages (from aiohttp->datasets) (1.3.1)\n",
            "Requirement already satisfied: attrs>=17.3.0 in /usr/local/lib/python3.10/dist-packages (from aiohttp->datasets) (24.2.0)\n",
            "Requirement already satisfied: frozenlist>=1.1.1 in /usr/local/lib/python3.10/dist-packages (from aiohttp->datasets) (1.5.0)\n",
            "Requirement already satisfied: multidict<7.0,>=4.5 in /usr/local/lib/python3.10/dist-packages (from aiohttp->datasets) (6.1.0)\n",
            "Requirement already satisfied: yarl<2.0,>=1.12.0 in /usr/local/lib/python3.10/dist-packages (from aiohttp->datasets) (1.17.0)\n",
            "Requirement already satisfied: async-timeout<5.0,>=4.0 in /usr/local/lib/python3.10/dist-packages (from aiohttp->datasets) (4.0.3)\n",
            "Requirement already satisfied: typing-extensions>=3.7.4.3 in /usr/local/lib/python3.10/dist-packages (from huggingface-hub>=0.23.0->datasets) (4.12.2)\n",
            "Requirement already satisfied: charset-normalizer<4,>=2 in /usr/local/lib/python3.10/dist-packages (from requests>=2.32.2->datasets) (3.4.0)\n",
            "Requirement already satisfied: idna<4,>=2.5 in /usr/local/lib/python3.10/dist-packages (from requests>=2.32.2->datasets) (3.10)\n",
            "Requirement already satisfied: urllib3<3,>=1.21.1 in /usr/local/lib/python3.10/dist-packages (from requests>=2.32.2->datasets) (2.2.3)\n",
            "Requirement already satisfied: certifi>=2017.4.17 in /usr/local/lib/python3.10/dist-packages (from requests>=2.32.2->datasets) (2024.8.30)\n",
            "Requirement already satisfied: python-dateutil>=2.8.2 in /usr/local/lib/python3.10/dist-packages (from pandas->datasets) (2.8.2)\n",
            "Requirement already satisfied: pytz>=2020.1 in /usr/local/lib/python3.10/dist-packages (from pandas->datasets) (2024.2)\n",
            "Requirement already satisfied: tzdata>=2022.7 in /usr/local/lib/python3.10/dist-packages (from pandas->datasets) (2024.2)\n",
            "Requirement already satisfied: six>=1.5 in /usr/local/lib/python3.10/dist-packages (from python-dateutil>=2.8.2->pandas->datasets) (1.16.0)\n",
            "Requirement already satisfied: propcache>=0.2.0 in /usr/local/lib/python3.10/dist-packages (from yarl<2.0,>=1.12.0->aiohttp->datasets) (0.2.0)\n",
            "Downloading datasets-3.1.0-py3-none-any.whl (480 kB)\n",
            "\u001b[2K   \u001b[90m━━━━━━━━━━━━━━━━━━━━━━━━━━━━━━━━━━━━━━━━\u001b[0m \u001b[32m480.6/480.6 kB\u001b[0m \u001b[31m15.2 MB/s\u001b[0m eta \u001b[36m0:00:00\u001b[0m\n",
            "\u001b[?25hDownloading dill-0.3.8-py3-none-any.whl (116 kB)\n",
            "\u001b[2K   \u001b[90m━━━━━━━━━━━━━━━━━━━━━━━━━━━━━━━━━━━━━━━━\u001b[0m \u001b[32m116.3/116.3 kB\u001b[0m \u001b[31m5.7 MB/s\u001b[0m eta \u001b[36m0:00:00\u001b[0m\n",
            "\u001b[?25hDownloading fsspec-2024.9.0-py3-none-any.whl (179 kB)\n",
            "\u001b[2K   \u001b[90m━━━━━━━━━━━━━━━━━━━━━━━━━━━━━━━━━━━━━━━━\u001b[0m \u001b[32m179.3/179.3 kB\u001b[0m \u001b[31m10.0 MB/s\u001b[0m eta \u001b[36m0:00:00\u001b[0m\n",
            "\u001b[?25hDownloading multiprocess-0.70.16-py310-none-any.whl (134 kB)\n",
            "\u001b[2K   \u001b[90m━━━━━━━━━━━━━━━━━━━━━━━━━━━━━━━━━━━━━━━━\u001b[0m \u001b[32m134.8/134.8 kB\u001b[0m \u001b[31m7.9 MB/s\u001b[0m eta \u001b[36m0:00:00\u001b[0m\n",
            "\u001b[?25hDownloading xxhash-3.5.0-cp310-cp310-manylinux_2_17_x86_64.manylinux2014_x86_64.whl (194 kB)\n",
            "\u001b[2K   \u001b[90m━━━━━━━━━━━━━━━━━━━━━━━━━━━━━━━━━━━━━━━━\u001b[0m \u001b[32m194.1/194.1 kB\u001b[0m \u001b[31m12.1 MB/s\u001b[0m eta \u001b[36m0:00:00\u001b[0m\n",
            "\u001b[?25hInstalling collected packages: xxhash, fsspec, dill, multiprocess, datasets\n",
            "  Attempting uninstall: fsspec\n",
            "    Found existing installation: fsspec 2024.10.0\n",
            "    Uninstalling fsspec-2024.10.0:\n",
            "      Successfully uninstalled fsspec-2024.10.0\n",
            "\u001b[31mERROR: pip's dependency resolver does not currently take into account all the packages that are installed. This behaviour is the source of the following dependency conflicts.\n",
            "gcsfs 2024.10.0 requires fsspec==2024.10.0, but you have fsspec 2024.9.0 which is incompatible.\u001b[0m\u001b[31m\n",
            "\u001b[0mSuccessfully installed datasets-3.1.0 dill-0.3.8 fsspec-2024.9.0 multiprocess-0.70.16 xxhash-3.5.0\n"
          ]
        }
      ]
    },
    {
      "cell_type": "code",
      "source": [
        "import pandas as pd\n",
        "from datasets import Dataset\n",
        "from typing import List, Dict\n",
        "import re\n",
        "\n",
        "# def format_df_for_llama(df: pd.DataFrame) -> Dataset:\n",
        "#     \"\"\"\n",
        "#     Format a DataFrame with Instruction, Input, Response columns for Llama 3 fine-tuning\n",
        "\n",
        "#     Args:\n",
        "#         df: DataFrame with columns ['Instruction', 'Input', 'Response']\n",
        "#     Returns:\n",
        "#         Dataset: HuggingFace Dataset ready for SFTTrainer\n",
        "#     \"\"\"\n",
        "#     formatted_data = []\n",
        "\n",
        "#     for _, row in df.iterrows():\n",
        "#         # Format text following Llama chat template\n",
        "#         formatted_text = (\n",
        "#             f\"Instruction: {row['instruction']}\\n\"\n",
        "#             f\"Input: {row['input']}\\n\"\n",
        "#             f\"Response: {row['response']}\"\n",
        "#         )\n",
        "#         formatted_text = re.sub(r'http\\S+|www\\S+|https\\S+', '', formatted_text)  # Remove URLs\n",
        "#         formatted_text = re.sub(r'\\[.*?\\]|\\{.*?\\}|\\(.*?\\)', '', formatted_text)  # Remove brackets\n",
        "#         formatted_text = re.sub(r'[^a-zA-Z0-9\\s.,!?\\'\\\"Rs.-]', '', formatted_text)  # Keep basic punctuation and Rs.\n",
        "#         formatted_text = ' '.join(formatted_text.split())  # Fix spacing\n",
        "\n",
        "#         formatted_data.append({\"text\": formatted_text})\n",
        "\n",
        "#     return Dataset.from_list(formatted_data)\n",
        "\n",
        "def format_df_for_llama(df: pd.DataFrame) -> Dataset:\n",
        "    \"\"\"\n",
        "    Format a DataFrame with Instruction, Input, Response columns for Llama 3 fine-tuning\n",
        "\n",
        "    Args:\n",
        "        df: DataFrame with columns ['Instruction', 'Input', 'Response']\n",
        "    Returns:\n",
        "        Dataset: HuggingFace Dataset ready for SFTTrainer\n",
        "    \"\"\"\n",
        "    formatted_data = []\n",
        "\n",
        "    for _, row in df.iterrows():\n",
        "        # Format text following Llama chat template\n",
        "        formatted_text = (\n",
        "            f\"Instruction: {row['instruction']}\\n\"\n",
        "            f\"Input: {row['input']}\\n\"\n",
        "            f\"Response: {row['response']}\"\n",
        "        )\n",
        "\n",
        "        # Split by newlines, clean each part separately, then rejoin\n",
        "        parts = formatted_text.split('\\n')\n",
        "        cleaned_parts = []\n",
        "\n",
        "        for part in parts:\n",
        "            # Clean each part\n",
        "            part = re.sub(r'http\\S+|www\\S+|https\\S+', '', part)  # Remove URLs\n",
        "            part = re.sub(r'\\[.*?\\]|\\{.*?\\}|\\(.*?\\)', '', part)  # Remove brackets\n",
        "            part = re.sub(r'[^a-zA-Z0-9\\s.,!?\\'\\\"Rs.-]', '', part)  # Keep basic punctuation and Rs.\n",
        "            part = ' '.join(part.split())  # Fix spacing within each part\n",
        "            cleaned_parts.append(part)\n",
        "\n",
        "        # Rejoin with newlines\n",
        "        formatted_text = '\\n'.join(cleaned_parts)\n",
        "\n",
        "        formatted_data.append({\"text\": formatted_text})\n",
        "\n",
        "    return Dataset.from_list(formatted_data)\n"
      ],
      "metadata": {
        "id": "_t8z5KYxIft-"
      },
      "execution_count": 88,
      "outputs": []
    },
    {
      "cell_type": "code",
      "source": [
        "\n",
        "formatted_data = format_df_for_llama(df)\n"
      ],
      "metadata": {
        "id": "4q7s8mgPIf0f"
      },
      "execution_count": 89,
      "outputs": []
    },
    {
      "cell_type": "markdown",
      "source": [
        "## References of progression: formatted_data2[0], formatted_data1[0], formatted_data[0]"
      ],
      "metadata": {
        "id": "SzhuVI3QYGUI"
      }
    },
    {
      "cell_type": "code",
      "source": [
        "formatted_data2[0]"
      ],
      "metadata": {
        "colab": {
          "base_uri": "https://localhost:8080/"
        },
        "id": "ez_husKSXm5D",
        "outputId": "d27d5acc-2704-4d45-f947-5e12ecd167c2"
      },
      "execution_count": 85,
      "outputs": [
        {
          "output_type": "execute_result",
          "data": {
            "text/plain": [
              "{'text': \"Instruction What are the features of the product?\\nInput 'Garlic Oil - Vegetarian Capsule 500 mg', 'Beauty Hygiene', 'Hair Oil Serum', 'Hair Care', 4.1, 'This Product contains Garlic Oil that is known to help proper digestion, maintain proper cholesterol levels, support cardiovascular and also build immunity. For Beauty tips, tricks more visit\\nResponse Garlic Oil - Vegetarian Capsule 500 mg belongs to the Beauty Hygiene is a Hair Oil Serum that supports Hair Care. It has a rating of 4.1 stars. Here's a detailed description This Product contains Garlic Oil that is known to help proper digestion, maintain proper cholesterol levels, support cardiovascular and also build immunity. For Beauty tips, tricks more visit\"}"
            ]
          },
          "metadata": {},
          "execution_count": 85
        }
      ]
    },
    {
      "cell_type": "code",
      "source": [
        "formatted_data1[0]"
      ],
      "metadata": {
        "colab": {
          "base_uri": "https://localhost:8080/"
        },
        "id": "bvVfTfQUW5Kp",
        "outputId": "9485212d-e238-4bb2-be48-b70ba30cc83e"
      },
      "execution_count": 82,
      "outputs": [
        {
          "output_type": "execute_result",
          "data": {
            "text/plain": [
              "{'text': \"Instruction What are the features of the product? Input 'Garlic Oil - Vegetarian Capsule 500 mg', 'Beauty Hygiene', 'Hair Oil Serum', 'Hair Care', 4.1, 'This Product contains Garlic Oil that is known to help proper digestion, maintain proper cholesterol levels, support cardiovascular and also build immunity. For Beauty tips, tricks more visit Response Garlic Oil - Vegetarian Capsule 500 mg belongs to the Beauty Hygiene is a Hair Oil Serum that supports Hair Care. It has a rating of 4.1 stars. Here's a detailed description This Product contains Garlic Oil that is known to help proper digestion, maintain proper cholesterol levels, support cardiovascular and also build immunity. For Beauty tips, tricks more visit\"}"
            ]
          },
          "metadata": {},
          "execution_count": 82
        }
      ]
    },
    {
      "cell_type": "code",
      "source": [
        "formatted_data[0]"
      ],
      "metadata": {
        "colab": {
          "base_uri": "https://localhost:8080/"
        },
        "id": "e2fQCQ1AWi9S",
        "outputId": "5bfc8cdf-8d96-476e-9ac3-47f00b5015f2"
      },
      "execution_count": 72,
      "outputs": [
        {
          "output_type": "execute_result",
          "data": {
            "text/plain": [
              "{'text': \"Instruction: What are the features of the product?\\nInput: ['Garlic Oil - Vegetarian Capsule 500 mg', 'Beauty & Hygiene', 'Hair Oil & Serum', 'Hair Care', 4.1, 'This Product contains Garlic Oil that is known to help proper digestion, maintain proper cholesterol levels, support cardiovascular and also build immunity.  For Beauty tips, tricks & more visit https://bigbasket.blog/']\\nResponse: Garlic Oil - Vegetarian Capsule 500 mg belongs to the Beauty & Hygiene is a Hair Oil & Serum that supports Hair Care. It has a rating of 4.1 stars. Here's a detailed description: This Product contains Garlic Oil that is known to help proper digestion, maintain proper cholesterol levels, support cardiovascular and also build immunity.  For Beauty tips, tricks & more visit https://bigbasket.blog/\"}"
            ]
          },
          "metadata": {},
          "execution_count": 72
        }
      ]
    },
    {
      "cell_type": "code",
      "source": [
        "len(formatted_data)/256"
      ],
      "metadata": {
        "colab": {
          "base_uri": "https://localhost:8080/"
        },
        "id": "vnQaC_B2d9fE",
        "outputId": "88c2c5fb-221f-40e0-b4dc-9fd35df21866"
      },
      "execution_count": 41,
      "outputs": [
        {
          "output_type": "execute_result",
          "data": {
            "text/plain": [
              "538.18359375"
            ]
          },
          "metadata": {},
          "execution_count": 41
        }
      ]
    },
    {
      "cell_type": "code",
      "source": [
        "\n",
        "def find_length(data):\n",
        "  max_len = 100\n",
        "  min_len = 100000\n",
        "  for i in range(len(data)):\n",
        "    max_len = max(len(data[i]['text']), max_len)\n",
        "    min_len = min(len(data[i]['text']), min_len)\n",
        "  return max_len, min_len\n",
        "\n"
      ],
      "metadata": {
        "id": "xrMEZI5veIUF"
      },
      "execution_count": 93,
      "outputs": []
    },
    {
      "cell_type": "code",
      "source": [
        "\n",
        "max_len, min_len = find_length(formatted_data)\n"
      ],
      "metadata": {
        "id": "mwIHPerzeyLN"
      },
      "execution_count": 94,
      "outputs": []
    },
    {
      "cell_type": "code",
      "source": [
        "max_len, min_len"
      ],
      "metadata": {
        "colab": {
          "base_uri": "https://localhost:8080/"
        },
        "id": "U22Ho92ze7X4",
        "outputId": "e2bb5fc2-517e-45d5-b10b-8fc8fd5c3aeb"
      },
      "execution_count": 95,
      "outputs": [
        {
          "output_type": "execute_result",
          "data": {
            "text/plain": [
              "(8716, 71)"
            ]
          },
          "metadata": {},
          "execution_count": 95
        }
      ]
    },
    {
      "cell_type": "code",
      "source": [
        "\n",
        "from datasets import DatasetDict\n",
        "def train_test_splitting(data):\n",
        "  train_split_data = data.train_test_split(test_size=0.1, seed=42)\n",
        "  valid_test_split_data = train_split_data[\"test\"].train_test_split(test_size=0.7, seed=42)\n",
        "  train_test_valid_dataset = DatasetDict({\n",
        "    'train': train_split_data['train'],\n",
        "    'test': valid_test_split_data['train'],\n",
        "    'valid': valid_test_split_data['test']})\n",
        "  return train_test_valid_dataset\n",
        "\n",
        "\n"
      ],
      "metadata": {
        "id": "UVJ8G1HYlKKt"
      },
      "execution_count": 97,
      "outputs": []
    },
    {
      "cell_type": "code",
      "source": [
        "\n",
        "train_test_valid_dataset = train_test_splitting(formatted_data)\n"
      ],
      "metadata": {
        "id": "vLaHmY-6lKOD"
      },
      "execution_count": 98,
      "outputs": []
    },
    {
      "cell_type": "code",
      "source": [
        "print(train_test_valid_dataset)"
      ],
      "metadata": {
        "colab": {
          "base_uri": "https://localhost:8080/"
        },
        "id": "T4_bNn4wlKRZ",
        "outputId": "3a4fa3e9-0e62-41f9-e75c-59a32b63d2e5"
      },
      "execution_count": 99,
      "outputs": [
        {
          "output_type": "stream",
          "name": "stdout",
          "text": [
            "DatasetDict({\n",
            "    train: Dataset({\n",
            "        features: ['text'],\n",
            "        num_rows: 123997\n",
            "    })\n",
            "    test: Dataset({\n",
            "        features: ['text'],\n",
            "        num_rows: 4133\n",
            "    })\n",
            "    valid: Dataset({\n",
            "        features: ['text'],\n",
            "        num_rows: 9645\n",
            "    })\n",
            "})\n"
          ]
        }
      ]
    },
    {
      "cell_type": "code",
      "source": [
        "train_test_valid_dataset['train'][89]"
      ],
      "metadata": {
        "colab": {
          "base_uri": "https://localhost:8080/"
        },
        "id": "DsP8xhFCR5W_",
        "outputId": "9c0e5a85-d941-4908-dadd-3c68e096e3d1"
      },
      "execution_count": 103,
      "outputs": [
        {
          "output_type": "execute_result",
          "data": {
            "text/plain": [
              "{'text': \"Instruction What's its brand?\\nInput Clinic Plus\\nResponse The product's brand is Clinic Plus\"}"
            ]
          },
          "metadata": {},
          "execution_count": 103
        }
      ]
    },
    {
      "cell_type": "code",
      "source": [
        "\n",
        "\n"
      ],
      "metadata": {
        "id": "fhLGsnA8QzC3"
      },
      "execution_count": 65,
      "outputs": []
    },
    {
      "cell_type": "code",
      "source": [
        "\n",
        "clean_dataset = dataset.map(clean_dataset)\n"
      ],
      "metadata": {
        "id": "eazv9VPSRpei"
      },
      "execution_count": null,
      "outputs": []
    },
    {
      "cell_type": "code",
      "source": [
        "\n",
        "from transformers import TrainerCallback\n",
        "import evaluate\n",
        "import numpy as np\n",
        "\n",
        "class CustomEvalCallback(TrainerCallback):\n",
        "    def __init__(self, trainer, eval_dataset, tokenizer):\n",
        "        self.trainer = trainer\n",
        "        self.eval_dataset = eval_dataset\n",
        "        self.tokenizer = tokenizer\n",
        "\n",
        "        # Initialize metrics\n",
        "        self.rouge = evaluate.load(\"rouge\")\n",
        "        self.bleu = evaluate.load(\"bleu\")\n",
        "        self.f1 = evaluate.load(\"f1\")\n",
        "\n",
        "    def on_evaluate(self, args, state, control, **kwargs):\n",
        "        # Get model predictions\n",
        "        eval_predictions = self.trainer.predict(self.eval_dataset)\n",
        "\n",
        "        # Process predictions and labels\n",
        "        predictions = eval_predictions.predictions\n",
        "        labels = eval_predictions.label_ids\n",
        "\n",
        "        # Decode predictions and labels to text\n",
        "        pred_texts = self.tokenizer.batch_decode(predictions, skip_special_tokens=True)\n",
        "        label_texts = self.tokenizer.batch_decode(labels, skip_special_tokens=True)\n",
        "\n",
        "        # Calculate perplexity (lower is better)\n",
        "        perplexity = np.exp(eval_predictions.loss)\n",
        "\n",
        "        # Calculate ROUGE\n",
        "        rouge_scores = self.rouge.compute(predictions=pred_texts, references=label_texts)\n",
        "\n",
        "        # Calculate BLEU\n",
        "        bleu_score = self.bleu.compute(predictions=pred_texts, references=label_texts)\n",
        "\n",
        "        # Calculate F1\n",
        "        f1_score = self.f1.compute(predictions=predictions, references=labels)\n",
        "\n",
        "        # Combine all metrics\n",
        "        metrics = {\n",
        "            \"perplexity\": perplexity,\n",
        "            \"rouge1\": rouge_scores[\"rouge1\"],\n",
        "            \"rouge2\": rouge_scores[\"rouge2\"],\n",
        "            \"rougeL\": rouge_scores[\"rougeL\"],\n",
        "            \"bleu\": bleu_score[\"bleu\"],\n",
        "            \"f1\": f1_score[\"f1\"]\n",
        "        }\n",
        "\n",
        "        # Log metrics\n",
        "        self.trainer.log(metrics)\n",
        "        return metrics"
      ],
      "metadata": {
        "id": "YJQpjBsPYtUT"
      },
      "execution_count": null,
      "outputs": []
    },
    {
      "cell_type": "code",
      "source": [
        "%%writefile trainer/train.py\n",
        "import os, sys\n",
        "import argparse\n",
        "\n",
        "import torch\n",
        "import torch_xla\n",
        "import torch_xla.core.xla_model as xm\n",
        "\n",
        "\n",
        "from peft import LoraConfig, PeftModel\n",
        "from transformers import AutoTokenizer, AutoModelForCausalLM, TrainingArguments\n",
        "from trl import SFTTrainer\n",
        "\n",
        "from google.cloud import storage\n",
        "\n",
        "# use spmd\n",
        "import torch_xla.runtime as xr\n",
        "xr.use_spmd()\n",
        "\n",
        "parser = argparse.ArgumentParser()\n",
        "# parser.add_argument(\n",
        "#     \"--tpu_topology\",\n",
        "#     # help=\"Topology to use for the TPUv28 (2x2, 2x4, 4x4)\",\n",
        "#     # default=\"4x4\",\n",
        "#     type=str\n",
        "# )\n",
        "parser.add_argument(\n",
        "    \"--model_name\",\n",
        "    help=\"Llama3 model name (meta-llama/llama3-8b-hf, meta-llama/llama3-8b-chat-hf/)\",\n",
        "    default=\"meta-llama/llama3-8b-hf\",\n",
        "    type=str\n",
        ")\n",
        "parser.add_argument(\n",
        "    \"--bucket_name\",\n",
        "    help=\"The name of the bucket you copied the Llama3 model files to\",\n",
        "    required=True,\n",
        "    type=str\n",
        ")\n",
        "parser.add_argument(\n",
        "    \"--output_folder\",\n",
        "    type=str,\n",
        "    required=True,\n",
        "    help=\"Output folder name\",\n",
        ")\n",
        "parser.add_argument(\n",
        "    \"--checkpoint_directory\",\n",
        "    type=str,\n",
        "    default=\"output_ckpt\",\n",
        "    help=\"Checkpoint Directory name\",\n",
        ")\n",
        "parser.add_argument(\n",
        "    \"--epochs\",\n",
        "    type=int,\n",
        "    default=2,\n",
        "    help=\"Number of epochs to train\",\n",
        ")\n",
        "parser.add_argument(\n",
        "    \"--merged_model_folder\",\n",
        "    type=str,\n",
        "    default=\"llama3-8b-hf/modelfiles\",\n",
        "    help=\"Checkpoint Directory name\",\n",
        ")\n",
        "args = parser.parse_args()\n",
        "\n",
        "GCS_PREFIX = \"gs://\"\n",
        "\n",
        "def is_gcs_path(input_path: str) -> bool:\n",
        "    return input_path.startswith(GCS_PREFIX)\n",
        "\n",
        "def download_gcs_dir(gcs_dir: str, local_dir: str):\n",
        "    \"\"\"Download files from a GCS directory to a local directory.\n",
        "\n",
        "    For example:\n",
        "    download_gcs_dir(gs://bucket/foo, /tmp/bar)\n",
        "    gs://bucket/foo/a -> /tmp/bar/a\n",
        "    gs://bucket/foo/b/c -> /tmp/bar/b/c\n",
        "\n",
        "    Arguments:\n",
        "    gcs_dir: A string of directory path on GCS.\n",
        "    local_dir: A string of local directory path.\n",
        "    \"\"\"\n",
        "    if not is_gcs_path(gcs_dir):\n",
        "        raise ValueError(f\"{gcs_dir} is not a GCS path starting with gs://.\")\n",
        "\n",
        "    bucket_name = gcs_dir.split(\"/\")[2]\n",
        "    prefix = gcs_dir[len(GCS_PREFIX + bucket_name) :].strip(\"/\")\n",
        "    client = storage.Client()\n",
        "    blobs = client.list_blobs(bucket_name, prefix=prefix)\n",
        "    for blob in blobs:\n",
        "        if blob.name[-1] == \"/\":\n",
        "            continue\n",
        "        file_path = blob.name[len(prefix) :].strip(\"/\")\n",
        "        local_file_path = os.path.join(local_dir, file_path)\n",
        "        os.makedirs(os.path.dirname(local_file_path), exist_ok=True)\n",
        "        blob.download_to_filename(local_file_path)\n",
        "        print (f'download of {local_file_path} complete')\n",
        "    print (f'Show all files in directory {os.listdir(local_dir)}')\n",
        "\n",
        "def upload_directory_with_transfer_manager(bucket_name, source_directory, blob_name_prefix, workers=4):\n",
        "    \"\"\"Upload every file in a directory, including all files in subdirectories.\n",
        "\n",
        "    Each blob name is derived from the filename, not including the `directory`\n",
        "    parameter itself. For complete control of the blob name for each file (and\n",
        "    other aspects of individual blob metadata), use\n",
        "    transfer_manager.upload_many() instead.\n",
        "    \"\"\"\n",
        "\n",
        "    # bucket_name = \"your-bucket-name\"\n",
        "\n",
        "    # The directory on your computer to upload. Files in the directory and its\n",
        "    # subdirectories will be uploaded. An empty string means \"the current\n",
        "    # working directory\".\n",
        "    # source_directory=\"\"\n",
        "\n",
        "    # blob_name_prefix = prefix for the files being uploaded to GCS\n",
        "    # example: file1 and file2 in a folder uploaded to my-bucket with blob_name_prefix=my-folder/a/\n",
        "    # will be uploaded to gs://my-bucket/my-folder/a/file1 and gs://my-bucket/my-folder/a/file2\n",
        "\n",
        "    # The maximum number of processes to use for the operation. The performance\n",
        "    # impact of this value depends on the use case, but smaller files usually\n",
        "    # benefit from a higher number of processes. Each additional process occupies\n",
        "    # some CPU and memory resources until finished. Threads can be used instead\n",
        "    # of processes by passing `worker_type=transfer_manager.THREAD`.\n",
        "    # workers=8\n",
        "\n",
        "    from pathlib import Path\n",
        "\n",
        "    from google.cloud.storage import Client, transfer_manager\n",
        "\n",
        "    storage_client = Client()\n",
        "    bucket = storage_client.bucket(bucket_name)\n",
        "\n",
        "    # Generate a list of paths (in string form) relative to the `directory`.\n",
        "    # This can be done in a single list comprehension, but is expanded into\n",
        "    # multiple lines here for clarity.\n",
        "\n",
        "    # First, recursively get all files in `directory` as Path objects.\n",
        "    directory_as_path_obj = Path(source_directory)\n",
        "    paths = directory_as_path_obj.rglob(\"*\")\n",
        "\n",
        "    # Filter so the list only includes files, not directories themselves.\n",
        "    file_paths = [path for path in paths if path.is_file()]\n",
        "\n",
        "    # These paths are relative to the current working directory. Next, make them\n",
        "    # relative to `directory`\n",
        "    relative_paths = [path.relative_to(source_directory) for path in file_paths]\n",
        "\n",
        "    # Finally, convert them all to strings.\n",
        "    string_paths = [str(path) for path in relative_paths]\n",
        "\n",
        "    print(\"Found {} files.\".format(len(string_paths)))\n",
        "\n",
        "    # Start the upload.\n",
        "    print (f\"source directory {source_directory}\")\n",
        "    results = transfer_manager.upload_many_from_filenames(\n",
        "        bucket, string_paths, blob_name_prefix=blob_name_prefix, source_directory=source_directory, max_workers=workers\n",
        "    )\n",
        "\n",
        "    for name, result in zip(string_paths, results):\n",
        "        # The results list is either `None` or an exception for each filename in\n",
        "        # the input list, in order.\n",
        "\n",
        "        if isinstance(result, Exception):\n",
        "            print(\"Failed to upload {} due to exception: {}\".format(name, result))\n",
        "        else:\n",
        "            print(\"Uploaded {} to {}/{}.\".format(name, bucket.name, blob_name_prefix))\n",
        "\n",
        "def main():\n",
        "    # x = args.tpu_topology.split(\"x\")\n",
        "    # tpu_topology_x = int(x[0])\n",
        "    # tpu_topology_y = int(x[1])\n",
        "    # print (f'TPU topology is ({tpu_topology_x}, {tpu_topology_y})')\n",
        "    # print (f'Model name is {args.model_name}')\n",
        "\n",
        "    BATCH_SIZE = 256\n",
        "\n",
        "    # Set download directory to a tempory folder\n",
        "    DL_DIR=\"/tmp/modelfiles\"\n",
        "    if not os.path.exists(DL_DIR):\n",
        "        os.makedirs(DL_DIR)\n",
        "\n",
        "    print ('Downloading data to temporary folder')\n",
        "    download_gcs_dir (f\"gs://{args.bucket_name}/{args.model_name}\", DL_DIR)\n",
        "\n",
        "    # Create output folders\n",
        "    if not os.path.exists(f\"/tmp/{args.output_folder}\"):\n",
        "        os.makedirs(f\"/tmp/{args.output_folder}\")\n",
        "    if not os.path.exists(f\"/tmp/{args.checkpoint_directory}\"):\n",
        "        os.makedirs(f\"/tmp/{args.checkpoint_directory}\")\n",
        "\n",
        "    device = xm.xla_device()\n",
        "\n",
        "    # Set tokenizer parallelism to false to avoid warnings\n",
        "    os.environ[\"TOKENIZERS_PARALLELISM\"] = \"false\"\n",
        "    tokenizer = AutoTokenizer.from_pretrained(DL_DIR)\n",
        "    print ('Loaded tokenizer')\n",
        "    base_model = AutoModelForCausalLM.from_pretrained(DL_DIR, torch_dtype=torch.bfloat16)\n",
        "    print ('Loaded base model')\n",
        "\n",
        "    # Set LoRA configuration\n",
        "    lora_config = LoraConfig(\n",
        "        r=8,\n",
        "        lora_alpha=16,\n",
        "        lora_dropout=0.1,\n",
        "        bias=\"none\",\n",
        "        task_type=\"CAUSAL_LM\",\n",
        "        target_modules=[\"k_proj\", \"v_proj\"],\n",
        "    )\n",
        "\n",
        "    # Required when using Llama2, as the tokenizer has no padding\n",
        "    tokenizer.pad_token = tokenizer.eos_token\n",
        "\n",
        "    # Load the dataset and format it for training.\n",
        "    data =\n",
        "    max_seq_length = 1024\n",
        "    print ('Loaded dataset')\n",
        "\n",
        "\n",
        "    # Set up the FSDP config. To enable FSDP via SPMD, set xla_fsdp_v2 to True.\n",
        "    fsdp_config = {\"fsdp_transformer_layer_cls_to_wrap\": [\n",
        "            \"LlamaDecoderLayer\"\n",
        "        ],\n",
        "        \"xla\": True,\n",
        "        \"xla_fsdp_v2\": True,\n",
        "        \"xla_fsdp_grad_ckpt\": True}\n",
        "\n",
        "    OUTPUT_DIR=f\"/tmp/{args.output_folder}\"\n",
        "    CHECKPOINT_DIR=f\"/tmp/{args.checkpoint_directory}\"\n",
        "\n",
        "    # Finally, set up the trainer and train the model.\n",
        "    trainer = SFTTrainer(\n",
        "        model=base_model,\n",
        "        train_dataset=data,\n",
        "        args=TrainingArguments(\n",
        "            per_device_train_batch_size=BATCH_SIZE,  # This is actually the global batch size for SPMD.\n",
        "            num_train_epochs=args.epochs,\n",
        "            max_steps=-1,\n",
        "            output_dir=OUTPUT_DIR,\n",
        "            optim=\"adafactor\",\n",
        "            logging_steps=1,\n",
        "            dataloader_drop_last = True,  # Required for SPMD.\n",
        "            fsdp=\"full_shard\",\n",
        "            fsdp_config=fsdp_config,\n",
        "            callbacks=[CustomEvalCallback(trainer, eval_dataset, tokenizer)]\n",
        "        ),\n",
        "        peft_config=lora_config,\n",
        "        dataset_text_field=\"quote\",\n",
        "        max_seq_length=max_seq_length,\n",
        "        packing=True,\n",
        "    )\n",
        "\n",
        "    # train\n",
        "    trainer.train()\n",
        "\n",
        "    adapter_model_id = \"adapter_model\"\n",
        "    adapter_path = f\"{CHECKPOINT_DIR}/{adapter_model_id}\"\n",
        "    merged_model_id = \"merged_model\"\n",
        "    merged_model_path = f\"{CHECKPOINT_DIR}/{merged_model_id}\"\n",
        "\n",
        "    trainer.model.to('cpu').save_pretrained(adapter_path)\n",
        "\n",
        "    # Save the adapter, merged model, and tokenizer\n",
        "    base_model = AutoModelForCausalLM.from_pretrained(DL_DIR, torch_dtype=torch.bfloat16)\n",
        "    peft_model = PeftModel.from_pretrained(base_model, adapter_path)\n",
        "    merged_model = peft_model.merge_and_unload()\n",
        "    merged_model.save_pretrained(merged_model_path,safe_serialization=False)\n",
        "    tokenizer.save_pretrained(merged_model_path)\n",
        "\n",
        "    # Copy merged files to GCS folder\n",
        "    OUTPUT_PREFIX=f\"{args.merged_model_folder}/{merged_model_id}/{xr.process_index()}/\"\n",
        "    upload_directory_with_transfer_manager(bucket_name=args.bucket_name,source_directory=merged_model_path,\n",
        "                                       blob_name_prefix=OUTPUT_PREFIX)\n",
        "    print ('Uploaded merged model files')\n",
        "\n",
        "    # copy adapter files to GCS folder\n",
        "    OUTPUT_PREFIX=f\"{args.merged_model_folder}/{adapter_model_id}/{xr.process_index()}/\"\n",
        "    upload_directory_with_transfer_manager(bucket_name=args.bucket_name,source_directory=adapter_path,\n",
        "                                       blob_name_prefix=OUTPUT_PREFIX)\n",
        "    print ('Uploaded adapter model files')\n",
        "\n",
        "    print ('Exiting job')\n",
        "    sys.exit(0)\n",
        "\n",
        "if __name__ == \"__main__\":\n",
        "    main()"
      ],
      "metadata": {
        "id": "EDFcTViJjbXl"
      },
      "execution_count": null,
      "outputs": []
    },
    {
      "cell_type": "code",
      "source": [
        "!sudo usermod -a -G docker ${USER}"
      ],
      "metadata": {
        "id": "3s1A1wtrjbat"
      },
      "execution_count": null,
      "outputs": []
    },
    {
      "cell_type": "code",
      "source": [
        "%cd trainer"
      ],
      "metadata": {
        "id": "cCOVFmpojbdX"
      },
      "execution_count": null,
      "outputs": []
    },
    {
      "cell_type": "code",
      "source": [
        "!docker build -t $PYTORCH_TRAIN_DOCKER_URI -f Dockerfile ."
      ],
      "metadata": {
        "id": "p0BzcbLmjqf6"
      },
      "execution_count": null,
      "outputs": []
    },
    {
      "cell_type": "code",
      "source": [
        "!docker push $PYTORCH_TRAIN_DOCKER_URI"
      ],
      "metadata": {
        "id": "xfSHD6dtjqjK"
      },
      "execution_count": null,
      "outputs": []
    },
    {
      "cell_type": "code",
      "source": [
        "\n",
        "%cd .."
      ],
      "metadata": {
        "id": "UWffDbCujqmn"
      },
      "execution_count": null,
      "outputs": []
    },
    {
      "cell_type": "code",
      "source": [
        "# Create a GCS folder to store the merged model with the base model and the\n",
        "# fine-tuned LORA adapter.\n",
        "BUCKET_NAME = BUCKET_URI.replace(\"gs://\", \"\")\n",
        "OUTPUT_DIR_NAME = \"output\"\n",
        "CHECKPOINT_DIR_NAME = \"output_chk\"\n",
        "NUM_EPOCHS = 200\n",
        "MERGED_MODEL_FOLDER = \"llama2-7b-hf/modelfiles\"\n",
        "\n",
        "# See machines type to match chips being used\n",
        "# Topologies of 2x2, 2x4, 4x4 = 4, 8, 16 chip settings and use quota from aiplatform.googleapis.com/custom_model_training_tpu_v5e\n",
        "MACHINE_TYPE = \"ct5lp-hightpu-4t\"\n",
        "TPU_TOPOLOGY = \"4x4\"\n",
        "\n",
        "DISPLAY_NAME_PREFIX = f\"llama2-7b-lora-train-{TPU_TOPOLOGY}\"\n",
        "tpuv5e_llama2_peft_job = {\n",
        "    \"display_name\": get_job_name_with_datetime(DISPLAY_NAME_PREFIX),\n",
        "    \"job_spec\": {\n",
        "        \"worker_pool_specs\": [\n",
        "            {\n",
        "                \"machine_spec\": {\n",
        "                    \"machine_type\": MACHINE_TYPE,\n",
        "                    \"tpu_topology\": TPU_TOPOLOGY,\n",
        "                },\n",
        "                \"replica_count\": 1,\n",
        "                \"container_spec\": {\n",
        "                    \"image_uri\": PYTORCH_TRAIN_DOCKER_URI,\n",
        "                    \"args\": [\n",
        "                        f\"--tpu_topology={TPU_TOPOLOGY}\",\n",
        "                        f\"--model_name={HF_MODEL_ID}\",\n",
        "                        f\"--bucket_name={BUCKET_NAME}\",\n",
        "                        f\"--output_folder={OUTPUT_DIR_NAME}\",\n",
        "                        f\"--checkpoint_directory={CHECKPOINT_DIR_NAME}\",\n",
        "                        f\"--epochs={NUM_EPOCHS}\",\n",
        "                        f\"--merged_model_folder={MERGED_MODEL_FOLDER}\",\n",
        "                    ],\n",
        "                },\n",
        "            },\n",
        "        ],\n",
        "    },\n",
        "}\n",
        "\n",
        "tpuv5e_llama2_peft_job"
      ],
      "metadata": {
        "id": "aDPqGO_Xjt9t"
      },
      "execution_count": null,
      "outputs": []
    },
    {
      "cell_type": "code",
      "source": [
        "job_client = aiplatform.gapic.JobServiceClient(\n",
        "    client_options=dict(api_endpoint=f\"{LOCATION}-aiplatform.googleapis.com\")\n",
        ")"
      ],
      "metadata": {
        "id": "HYOrxzKljuBx"
      },
      "execution_count": null,
      "outputs": []
    },
    {
      "cell_type": "code",
      "source": [
        "create_tpuv5e_llama2_peft_job_response = job_client.create_custom_job(\n",
        "    parent=\"projects/{project}/locations/{location}\".format(\n",
        "        project=PROJECT_ID, location=LOCATION\n",
        "    ),\n",
        "    custom_job=tpuv5e_llama2_peft_job,\n",
        ")\n",
        "print(create_tpuv5e_llama2_peft_job_response)\n"
      ],
      "metadata": {
        "id": "JWcBWce5juFI"
      },
      "execution_count": null,
      "outputs": []
    },
    {
      "cell_type": "code",
      "source": [
        "get_tpuv5e_llama2_peft_job_response = job_client.get_custom_job(\n",
        "    name=create_tpuv5e_llama2_peft_job_response.name\n",
        ")\n",
        "get_tpuv5e_llama2_peft_job_response"
      ],
      "metadata": {
        "id": "o_KTgGLvj121"
      },
      "execution_count": null,
      "outputs": []
    },
    {
      "cell_type": "code",
      "source": [
        "job_id = create_tpuv5e_llama2_peft_job_response.name[\n",
        "    create_tpuv5e_llama2_peft_job_response.name.rfind(\"/\") + 1 :\n",
        "]\n",
        "STARTDATE = datetime.today() - timedelta(days=1)\n",
        "STARTDATE = STARTDATE.strftime(\"%Y-%m-%dT%H:%M:%S.%f\")\n",
        "ENDDATE = datetime.today() + timedelta(days=0.1)\n",
        "ENDDATE = ENDDATE.strftime(\"%Y-%m-%dT%H:%M:%S.%f\")\n",
        "print(\n",
        "    f\"https://console.cloud.google.com/logs/query;query=resource.labels.job_id=%22{job_id}%22;cursorTimestamp={ENDDATE}Z;startTime={STARTDATE}Z;endTime={ENDDATE}Z?project={PROJECT_ID}\"\n",
        ")"
      ],
      "metadata": {
        "id": "mK54-caJj3-c"
      },
      "execution_count": null,
      "outputs": []
    },
    {
      "cell_type": "code",
      "source": [
        "import time\n",
        "\n",
        "from google.cloud.aiplatform import gapic as aip\n",
        "\n",
        "while True:\n",
        "    response = job_client.get_custom_job(\n",
        "        name=create_tpuv5e_llama2_peft_job_response.name\n",
        "    )\n",
        "    if response.state != aip.JobState.JOB_STATE_SUCCEEDED:\n",
        "        print(f\"Training is not complete and is in state {response.state.name}\")\n",
        "        if response.state == aip.JobState.JOB_STATE_FAILED:\n",
        "            raise Exception(\"Training Job Failed\")\n",
        "    else:\n",
        "        print(\"Training has completed\")\n",
        "        break\n",
        "    time.sleep(60)"
      ],
      "metadata": {
        "id": "GR1n3Hatj4B9"
      },
      "execution_count": null,
      "outputs": []
    },
    {
      "cell_type": "code",
      "source": [
        "Here's where we need to talk about structuring the output with LangChain. Research this more..."
      ],
      "metadata": {
        "id": "6Ql-iwrpj9eU"
      },
      "execution_count": null,
      "outputs": []
    },
    {
      "cell_type": "code",
      "source": [
        "\n",
        "Create a product search tool\n",
        "\n",
        "search according to description, list appropriate ones here, by listing means you list the links to the product pages that (the pages when clicked) have to open in a new tab\n",
        "search according to price range, list relevant ones here in ascending order\n",
        "search according to shipping constraints\n",
        "search according to availability, list stock levels here\n",
        "Mention any discounts\n",
        "\n",
        "List shipping options\n",
        "\n",
        "If some products are unavailable within the time the customers looking for, then mention that. But you can list other relevant products that would be available within the time constraint.\n",
        "\n",
        "How can I help you today? What can I help you with? What can I help you find?\n",
        "\n"
      ],
      "metadata": {
        "id": "ErUNmy-Ij9hm"
      },
      "execution_count": null,
      "outputs": []
    },
    {
      "cell_type": "markdown",
      "source": [
        "Stream/batch prompting: you have to think whether to add stream prompting/batch prompting?\n",
        "\n",
        "Why Llama if asked?\n",
        "You could say something like ig we have to use the existing chat APIs like ChatGPT it involves cost for number of tokens and restricitons on number of functional calling invovled.\n"
      ],
      "metadata": {
        "id": "RZMhWiscPlqc"
      }
    },
    {
      "cell_type": "code",
      "source": [
        "from langchain.tools import tool"
      ],
      "metadata": {
        "id": "yB4ei6GahFht"
      },
      "execution_count": null,
      "outputs": []
    },
    {
      "cell_type": "code",
      "source": [
        "\n",
        "import requests\n",
        "from pydantic import BaseModel, Field\n",
        "import datetime\n",
        "\n",
        "# Define the input schema\n",
        "\n",
        "class ProductDescript(BaseModel):\n",
        "    product_name: string = Field(..., description=\"\")\n",
        "    description: string = Field(..., description=\"\")\n",
        "    category: string = Field(..., description=\"\")\n",
        "    brand: string = Field(..., description=\"\")\n",
        "    price: float = Field(..., description=\"\")\n",
        "    shipping: string = Field(..., description=\"\")\n",
        "    availability: string = Field(..., description=\"\")\n",
        "    discount: string = Field(..., description=\"\")\n",
        "    shipping_options: time = Field(..., description=\"\")\n",
        "    unavailable: string = Field(..., description=\"\")\n",
        "    return_policy: string = Field(..., description=\"\")\n",
        "    warranty: string = Field(..., description=\"\")\n",
        "    return_policy: string = Field(..., description=\"\")\n",
        "    similar: string = Field(..., description=\"\")\n",
        "\n",
        "\n",
        "@tool(args_schema=ProductDescript)\n",
        "def recommend_products(name: string, description: string) -> dict:\n",
        "    \"\"\"Fetch the top 5 relevant product details as per the user request\"\"\"\n",
        "\n",
        "    products that are available\n",
        "    products that are very relevant\n",
        "\n",
        "\n",
        "    BASE_URL = \"\" #can you not give the company's url here?\n",
        "\n",
        "    # Parameters for the request\n",
        "    params = {\n",
        "        'product': product_name,\n",
        "        'description': description,\n",
        "        'price': price\n",
        "    }\n",
        "\n",
        "\n",
        "\n",
        "    # Make the request\n",
        "    response = requests.get(BASE_URL, params=params)\n",
        "\n",
        "    if response.status_code == 200:\n",
        "        results = response.json()\n",
        "    else:\n",
        "        raise Exception(f\"API Request failed with status code: {response.status_code}\")\n",
        "\n",
        "    return f'Here are the top 5 relevant products as per your search{results}'\n",
        "\n",
        "\n",
        "@tool(args_schema=ProductDescript)\n",
        "def shipping_enquiry(name: string, description: string) -> dict:\n",
        "    \"\"\"Fetch the top 5 relevant product details as per the user request\"\"\"\n",
        "\n",
        "\n",
        "    BASE_URL = \"\" #can you not give the company's url here?\n",
        "\n",
        "    # Parameters for the request\n",
        "    params = {\n",
        "        'product': product_name,\n",
        "        'description': description,\n",
        "        'price': price,\n",
        "        'availability': availability,\n",
        "    }\n",
        "\n",
        "\n",
        "@tool(args_schema=ProductDescript)\n",
        "def billing_enquiry(name: string, description: string) -> dict:\n",
        "    \"\"\"Fetch the top 5 relevant product details as per the user request\"\"\"\n",
        "\n",
        "    BASE_URL = \"\" #can you not give the company's url here?\n",
        "\n",
        "    # Parameters for the request\n",
        "    params = {\n",
        "        'product': product_name,\n",
        "        'description': description,\n",
        "        'price': price,\n",
        "        'availability': availability,\n",
        "    }\n",
        "\n",
        "@tool(args_schema=ProductDescript)\n",
        "def pricing_enquiry(name: string, description: string) -> dict:\n",
        "    \"\"\"Fetch the top 5 relevant product details as per the user request\"\"\"\n",
        "\n",
        "    BASE_URL = \"\" #can you not give the company's url here?\n",
        "\n",
        "    # Parameters for the request\n",
        "    params = {\n",
        "        'product': product_name,\n",
        "        'description': description,\n",
        "        'price': price,\n",
        "        'availability': availability,\n",
        "    }"
      ],
      "metadata": {
        "id": "vhQh5Vl5j9k_"
      },
      "execution_count": null,
      "outputs": []
    },
    {
      "cell_type": "code",
      "source": [
        "\n",
        "tools = [recommend_products]\n"
      ],
      "metadata": {
        "id": "i02WrhYjyrpi"
      },
      "execution_count": null,
      "outputs": []
    },
    {
      "cell_type": "code",
      "source": [
        "\n",
        "from langchain.prompts import ChatPromptTemplate\n"
      ],
      "metadata": {
        "id": "cXwTVqhHyrsr"
      },
      "execution_count": null,
      "outputs": []
    },
    {
      "cell_type": "code",
      "source": [
        "functions = [format_tool_to_openai_function(f) for f in tools]\n",
        "model = ChatOpenAI(temperature=0).bind(functions=functions)\n",
        "prompt = ChatPromptTemplate.from_messages([\n",
        "    (\"system\", \"You are helpful but sassy assistant\"),\n",
        "    (\"user\", \"{input}\"),\n",
        "])\n",
        "chain = prompt | model | OpenAIFunctionsAgentOutputParser()\n",
        "\n"
      ],
      "metadata": {
        "id": "5MeK-ybayrwH"
      },
      "execution_count": null,
      "outputs": []
    },
    {
      "cell_type": "code",
      "source": [
        "#with agent_scratchpad added here\n",
        "\n",
        "from langchain.prompts import MessagesPlaceholder\n",
        "prompt = ChatPromptTemplate.from_messages([\n",
        "    (\"system\", \"You are helpful but sassy assistant\"),\n",
        "    (\"user\", \"{input}\"),\n",
        "    MessagesPlaceholder(variable_name=\"agent_scratchpad\")\n",
        "])"
      ],
      "metadata": {
        "id": "YK0Pgs2Zj9oW"
      },
      "execution_count": null,
      "outputs": []
    },
    {
      "cell_type": "code",
      "source": [
        "\n",
        "chain = prompt | model | OpenAIFunctionsAgentOutputParser() #we have to check what's the equivalent of OpenAIFunctionsAgentOutputParser to use with Llama for exmaple?\n"
      ],
      "metadata": {
        "id": "3Ne2NQg8j9rt"
      },
      "execution_count": null,
      "outputs": []
    },
    {
      "cell_type": "code",
      "source": [
        "\n",
        "result1 = chain.invoke({\n",
        "    \"input\": \"what is the weather is sf?\",\n",
        "    \"agent_scratchpad\": []\n",
        "})\n"
      ],
      "metadata": {
        "id": "CK3PWg16DZLR"
      },
      "execution_count": null,
      "outputs": []
    },
    {
      "cell_type": "code",
      "source": [
        "result1.tool"
      ],
      "metadata": {
        "id": "9n4LAvhcDnUV"
      },
      "execution_count": null,
      "outputs": []
    },
    {
      "cell_type": "code",
      "source": [
        "observation = get_current_temperature(result1.tool_input)"
      ],
      "metadata": {
        "id": "PdI0fGN2Dp8g"
      },
      "execution_count": null,
      "outputs": []
    },
    {
      "cell_type": "code",
      "source": [
        "observation"
      ],
      "metadata": {
        "id": "8FPQthmpDqAB"
      },
      "execution_count": null,
      "outputs": []
    },
    {
      "cell_type": "code",
      "source": [
        "\n",
        "from langchain.schema.agent import AgentFinish\n",
        "def run_agent(user_input):\n",
        "    intermediate_steps = []\n",
        "    while True:\n",
        "        result = chain.invoke({\n",
        "            \"input\": user_input,\n",
        "            \"agent_scratchpad\": format_to_openai_functions(intermediate_steps)\n",
        "        })\n",
        "        if isinstance(result, AgentFinish):\n",
        "            return result\n",
        "        tool = {\n",
        "            \"search_wikipedia\": search_wikipedia,\n",
        "            \"get_current_temperature\": get_current_temperature,\n",
        "        }[result.tool]\n",
        "        observation = tool.run(result.tool_input)\n",
        "        intermediate_steps.append((result, observation))\n"
      ],
      "metadata": {
        "id": "w5lo_kBfEwtf"
      },
      "execution_count": null,
      "outputs": []
    },
    {
      "cell_type": "code",
      "source": [
        "\n",
        "from langchain.schema.runnable import RunnablePassthrough\n",
        "agent_chain = RunnablePassthrough.assign(\n",
        "    agent_scratchpad= lambda x: format_to_openai_functions(x[\"intermediate_steps\"])\n",
        ") | chain\n"
      ],
      "metadata": {
        "id": "27cw0EhfEwwi"
      },
      "execution_count": null,
      "outputs": []
    },
    {
      "cell_type": "code",
      "source": [
        "\n",
        "def run_agent(user_input):\n",
        "    intermediate_steps = []\n",
        "    while True:\n",
        "        result = agent_chain.invoke({\n",
        "            \"input\": user_input,\n",
        "            \"intermediate_steps\": intermediate_steps\n",
        "        })\n",
        "        if isinstance(result, AgentFinish):\n",
        "            return result\n",
        "        tool = {\n",
        "            \"search_wikipedia\": search_wikipedia,\n",
        "            \"get_current_temperature\": get_current_temperature,\n",
        "        }[result.tool]\n",
        "        observation = tool.run(result.tool_input)\n",
        "        intermediate_steps.append((result, observation))\n"
      ],
      "metadata": {
        "id": "hi_nDjbhEwzZ"
      },
      "execution_count": null,
      "outputs": []
    },
    {
      "cell_type": "code",
      "source": [
        "run_agent(\"what is the weather is sf?\")"
      ],
      "metadata": {
        "id": "qZoXf1yoFYPI"
      },
      "execution_count": null,
      "outputs": []
    },
    {
      "cell_type": "code",
      "source": [
        "run_agent(\"what is langchain?\")"
      ],
      "metadata": {
        "id": "5wC12BZ3FZ6h"
      },
      "execution_count": null,
      "outputs": []
    },
    {
      "cell_type": "code",
      "source": [
        "run_agent(\"hi!\")"
      ],
      "metadata": {
        "id": "pZ-xMSjQFZ9Z"
      },
      "execution_count": null,
      "outputs": []
    },
    {
      "cell_type": "code",
      "source": [
        "from langchain.agents import AgentExecutor\n",
        "agent_executor = AgentExecutor(agent=agent_chain, tools=tools, verbose=True)"
      ],
      "metadata": {
        "id": "_rjnjULNDqDT"
      },
      "execution_count": null,
      "outputs": []
    },
    {
      "cell_type": "code",
      "source": [
        "agent_executor.invoke({\"input\": \"what is langchain?\"})"
      ],
      "metadata": {
        "id": "XZBmOA40FecK"
      },
      "execution_count": null,
      "outputs": []
    },
    {
      "cell_type": "code",
      "source": [
        "agent_executor.invoke({\"input\": \"my name is bob\"})"
      ],
      "metadata": {
        "id": "-yMVkY2aFeft"
      },
      "execution_count": null,
      "outputs": []
    },
    {
      "cell_type": "code",
      "source": [
        "agent_executor.invoke({\"input\": \"what is my name\"})"
      ],
      "metadata": {
        "id": "G9LAEADDFgGR"
      },
      "execution_count": null,
      "outputs": []
    },
    {
      "cell_type": "code",
      "source": [
        "prompt = ChatPromptTemplate.from_messages([\n",
        "    (\"system\", \"You are helpful but sassy assistant\"),\n",
        "    MessagesPlaceholder(variable_name=\"chat_history\"),\n",
        "    (\"user\", \"{input}\"),\n",
        "    MessagesPlaceholder(variable_name=\"agent_scratchpad\")\n",
        "])"
      ],
      "metadata": {
        "id": "R6-TvUd0FnOL"
      },
      "execution_count": null,
      "outputs": []
    },
    {
      "cell_type": "code",
      "source": [
        "agent_chain = RunnablePassthrough.assign(\n",
        "    agent_scratchpad= lambda x: format_to_openai_functions(x[\"intermediate_steps\"])\n",
        ") | prompt | model | OpenAIFunctionsAgentOutputParser()"
      ],
      "metadata": {
        "id": "NPm6cwZdFnRS"
      },
      "execution_count": null,
      "outputs": []
    },
    {
      "cell_type": "code",
      "source": [
        "from langchain.memory import ConversationBufferMemory\n",
        "memory = ConversationBufferMemory(return_messages=True, memory_key=\"chat_history\")"
      ],
      "metadata": {
        "id": "15wc7o23FnUf"
      },
      "execution_count": null,
      "outputs": []
    },
    {
      "cell_type": "code",
      "source": [
        "agent_executor = AgentExecutor(agent=agent_chain, tools=tools, verbose=True, memory=memory)"
      ],
      "metadata": {
        "id": "2PfMg8LGFtgx"
      },
      "execution_count": null,
      "outputs": []
    },
    {
      "cell_type": "code",
      "source": [
        "@tool\n",
        "def create_your_own(query: str) -> str:\n",
        "    \"\"\"This function can do whatever you would like once you fill it in \"\"\"\n",
        "    print(type(query))\n",
        "    return query[::-1]"
      ],
      "metadata": {
        "id": "n_KmI8E9FtkC"
      },
      "execution_count": null,
      "outputs": []
    },
    {
      "cell_type": "code",
      "source": [
        "tools = [get_current_temperature, search_wikipedia, create_your_own]"
      ],
      "metadata": {
        "id": "SGGxHwI5GEUQ"
      },
      "execution_count": null,
      "outputs": []
    },
    {
      "cell_type": "code",
      "source": [
        "import panel as pn  # GUI\n",
        "pn.extension()\n",
        "import panel as pn\n",
        "import param\n",
        "\n",
        "class cbfs(param.Parameterized):\n",
        "\n",
        "    def __init__(self, tools, **params):\n",
        "        super(cbfs, self).__init__( **params)\n",
        "        self.panels = []\n",
        "        self.functions = [format_tool_to_openai_function(f) for f in tools]\n",
        "        self.model = ChatOpenAI(temperature=0).bind(functions=self.functions)\n",
        "        self.memory = ConversationBufferMemory(return_messages=True,memory_key=\"chat_history\")\n",
        "        self.prompt = ChatPromptTemplate.from_messages([\n",
        "            (\"system\", \"You are helpful but sassy assistant\"),\n",
        "            MessagesPlaceholder(variable_name=\"chat_history\"),\n",
        "            (\"user\", \"{input}\"),\n",
        "            MessagesPlaceholder(variable_name=\"agent_scratchpad\")\n",
        "        ])\n",
        "        self.chain = RunnablePassthrough.assign(\n",
        "            agent_scratchpad = lambda x: format_to_openai_functions(x[\"intermediate_steps\"])\n",
        "        ) | self.prompt | self.model | OpenAIFunctionsAgentOutputParser()\n",
        "        self.qa = AgentExecutor(agent=self.chain, tools=tools, verbose=False, memory=self.memory)\n",
        "\n",
        "    def convchain(self, query):\n",
        "        if not query:\n",
        "            return\n",
        "        inp.value = ''\n",
        "        result = self.qa.invoke({\"input\": query})\n",
        "        self.answer = result['output']\n",
        "        self.panels.extend([\n",
        "            pn.Row('User:', pn.pane.Markdown(query, width=450)),\n",
        "            pn.Row('ChatBot:', pn.pane.Markdown(self.answer, width=450, styles={'background-color': '#F6F6F6'}))\n",
        "        ])\n",
        "        return pn.WidgetBox(*self.panels, scroll=True)\n",
        "\n",
        "\n",
        "    def clr_history(self,count=0):\n",
        "        self.chat_history = []\n",
        "        return"
      ],
      "metadata": {
        "id": "ZkPXw2f4GEXk"
      },
      "execution_count": null,
      "outputs": []
    },
    {
      "cell_type": "code",
      "source": [
        "cb = cbfs(tools)\n",
        "\n",
        "inp = pn.widgets.TextInput( placeholder='Enter text here…')\n",
        "\n",
        "conversation = pn.bind(cb.convchain, inp)\n",
        "\n",
        "tab1 = pn.Column(\n",
        "    pn.Row(inp),\n",
        "    pn.layout.Divider(),\n",
        "    pn.panel(conversation,  loading_indicator=True, height=400),\n",
        "    pn.layout.Divider(),\n",
        ")\n",
        "\n",
        "dashboard = pn.Column(\n",
        "    pn.Row(pn.pane.Markdown('# QnA_Bot')),\n",
        "    pn.Tabs(('Conversation', tab1))\n",
        ")\n",
        "dashboard"
      ],
      "metadata": {
        "id": "8P-wY4qlGEa9"
      },
      "execution_count": null,
      "outputs": []
    },
    {
      "cell_type": "markdown",
      "source": [
        "## Guess we have to create the chatbot after deploying the model with all the LangChain tweaks, additions, and other stuff."
      ],
      "metadata": {
        "id": "34d_DGNuGk_c"
      }
    },
    {
      "cell_type": "markdown",
      "source": [
        "## Deploy fine tuned models"
      ],
      "metadata": {
        "id": "BUbzhkx6j8AM"
      }
    }
  ]
}